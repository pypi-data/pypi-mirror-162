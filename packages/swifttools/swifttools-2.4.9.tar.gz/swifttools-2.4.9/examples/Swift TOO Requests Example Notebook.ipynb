{
 "cells": [
  {
   "cell_type": "markdown",
   "id": "10c30734",
   "metadata": {},
   "source": [
    "# `swift_too` module\n",
    "\n",
    "## Swift_TOO_Requests example - querying planned *Swift* observations\n",
    "\n",
    "### API version = 1.2, `swifttools` version = 2.4\n",
    "\n",
    "#### Author: Jamie A. Kennea (Penn State)\n",
    "\n",
    "The `Swift_TOO_Requests` (or shorthand as of `swifttools` 2.3, `TOORequests`) allows the user to query submitted Swift TOO requests. This can be used either to retrieve detail on requests that you have submitted, or details on all TOO requests.\n",
    "\n",
    "Two important caveats:\n",
    "\n",
    "1. Detailed information on TOOs, including Science Justification text are only retrievable if you are the TOO submitter.\n",
    "\n",
    "2. Only details of approved TOO requests are available. TOOs that have been rejected cannot be fetched.\n",
    "\n",
    "This is therefore useful if you wish to retrieve what you have previously submitted, or see what the current active TOOs are, so you can see if someone has already submitted a TOO for the target you are interested in."
   ]
  },
  {
   "cell_type": "code",
   "execution_count": 1,
   "id": "4707436d",
   "metadata": {},
   "outputs": [],
   "source": [
    "from swifttools.swift_too import TOORequests"
   ]
  },
  {
   "cell_type": "markdown",
   "id": "bc24d815",
   "metadata": {},
   "source": [
    "### First example - the 20 most recent Swift TOO requests\n",
    "\n",
    "In this example we request information on the last 20 TOO requests approved for observation by Swift. No username or shared_secret needs to be submitted for this request, however if you do submit them the result will be no different. "
   ]
  },
  {
   "cell_type": "code",
   "execution_count": 2,
   "id": "4a1696d9",
   "metadata": {},
   "outputs": [],
   "source": [
    "toos = TOORequests(limit=20)"
   ]
  },
  {
   "cell_type": "code",
   "execution_count": 3,
   "id": "bbaa5569",
   "metadata": {},
   "outputs": [
    {
     "name": "stdout",
     "output_type": "stream",
     "text": [
      "Success!\n"
     ]
    }
   ],
   "source": [
    "if toos.submit():\n",
    "    print(\"Success!\")\n",
    "else:\n",
    "    print(\"Failure: {toos.status.errors}\")"
   ]
  },
  {
   "cell_type": "markdown",
   "id": "aca5818a",
   "metadata": {},
   "source": [
    "That should have worked, so we can now display the 20 most recent approved Swift TOOs by simply display"
   ]
  },
  {
   "cell_type": "code",
   "execution_count": 4,
   "id": "5bd376d9",
   "metadata": {},
   "outputs": [
    {
     "data": {
      "text/html": [
       "<table><thead><th style='text-align: left;'>ToO ID</th><th style='text-align: left;'>Object Name</th><th style='text-align: left;'>Instrument</th><th style='text-align: left;'>Right Ascenscion (J2000)</th><th style='text-align: left;'>Declination (J2000)</th><th style='text-align: left;'>UVOT Mode (Approved)</th><th style='text-align: left;'>XRT Mode (Approved)</th><th style='text-align: left;'>Time Submitted</th><th style='text-align: left;'>Requester</th><th style='text-align: left;'>Urgency</th><th style='text-align: left;'>Begin date</th><th style='text-align: left;'>End date</th><th style='text-align: left;'>Primary Target ID</th></thead><tr><td style='text-align: left;'>17606</td><td style='text-align: left;'>S5 1044+71</td><td style='text-align: left;'>XRT</td><td style='text-align: left;'>162.115083</td><td style='text-align: left;'>71.726649</td><td style='text-align: left;'>0x9999</td><td style='text-align: left;'>PC</td><td style='text-align: left;'>2022-07-14 09:51:27</td><td style='text-align: left;'>Liu</td><td style='text-align: left;'>3</td><td style='text-align: left;'>2022-07-20</td><td style='text-align: left;'>2022-08-31</td><td style='text-align: left;'>35034</td></tr><tr><td style='text-align: left;'>17605</td><td style='text-align: left;'>ZTF22aativsd</td><td style='text-align: left;'>UVOT</td><td style='text-align: left;'>335.6231248</td><td style='text-align: left;'>36.0049977</td><td style='text-align: left;'>0x223f</td><td style='text-align: left;'>PC</td><td style='text-align: left;'>2022-07-14 08:42:28</td><td style='text-align: left;'>Irani</td><td style='text-align: left;'>2</td><td style='text-align: left;'>2022-07-14</td><td style='text-align: left;'>2022-07-17</td><td style='text-align: left;'>15266</td></tr><tr><td style='text-align: left;'>17604</td><td style='text-align: left;'>IGR J17091-3624</td><td style='text-align: left;'>XRT</td><td style='text-align: left;'>257.28170833333</td><td style='text-align: left;'>-36.407138888889</td><td style='text-align: left;'>0x9999</td><td style='text-align: left;'>WT</td><td style='text-align: left;'>2022-07-14 05:55:58</td><td style='text-align: left;'>Motta</td><td style='text-align: left;'>3</td><td style='text-align: left;'>2022-07-30</td><td style='text-align: left;'>2022-09-17</td><td style='text-align: left;'>31921</td></tr><tr><td style='text-align: left;'>17603</td><td style='text-align: left;'>LTT 1445</td><td style='text-align: left;'>UVOT</td><td style='text-align: left;'>45.464122916667</td><td style='text-align: left;'>-16.593363888889</td><td style='text-align: left;'>0x01bc</td><td style='text-align: left;'>Auto</td><td style='text-align: left;'>2022-07-14 05:19:42</td><td style='text-align: left;'>Wilson</td><td style='text-align: left;'>3</td><td style='text-align: left;'>2022-07-18</td><td style='text-align: left;'>2022-07-18</td><td style='text-align: left;'>12837</td></tr><tr><td style='text-align: left;'>17602</td><td style='text-align: left;'>AMI0848+80</td><td style='text-align: left;'>XRT</td><td style='text-align: left;'>132.1802</td><td style='text-align: left;'>80.8833</td><td style='text-align: left;'>0x9999</td><td style='text-align: left;'>PC</td><td style='text-align: left;'>2022-07-14 04:09:51</td><td style='text-align: left;'>Sfaradi</td><td style='text-align: left;'>3</td><td style='text-align: left;'>2022-07-20</td><td style='text-align: left;'>2022-07-20</td><td style='text-align: left;'>15150</td></tr><tr><td style='text-align: left;'>17601</td><td style='text-align: left;'>HR Car</td><td style='text-align: left;'>UVOT</td><td style='text-align: left;'>155.72434583333</td><td style='text-align: left;'>-59.624545277778</td><td style='text-align: left;'>0x122f</td><td style='text-align: left;'>Auto</td><td style='text-align: left;'>2022-07-13 16:54:24</td><td style='text-align: left;'>Bruhweiler</td><td style='text-align: left;'>4</td><td style='text-align: left;'>2022-07-20</td><td style='text-align: left;'>2022-07-20</td><td style='text-align: left;'>15268</td></tr><tr><td style='text-align: left;'>17600</td><td style='text-align: left;'>SN2022oqm</td><td style='text-align: left;'>UVOT</td><td style='text-align: left;'>227.28425</td><td style='text-align: left;'>52.534794</td><td style='text-align: left;'>0x223f</td><td style='text-align: left;'>PC</td><td style='text-align: left;'>2022-07-13 15:47:13</td><td style='text-align: left;'>Brown</td><td style='text-align: left;'>3</td><td style='text-align: left;'>2022-07-17</td><td style='text-align: left;'>2022-07-18</td><td style='text-align: left;'>15262</td></tr><tr><td style='text-align: left;'>17599</td><td style='text-align: left;'>Mrk501</td><td style='text-align: left;'>XRT</td><td style='text-align: left;'>253.46756666667</td><td style='text-align: left;'>39.760170277778</td><td style='text-align: left;'>0x308f</td><td style='text-align: left;'>WT</td><td style='text-align: left;'>2022-07-13 15:33:11</td><td style='text-align: left;'>Paneque</td><td style='text-align: left;'>3</td><td style='text-align: left;'>2022-07-17</td><td style='text-align: left;'>2022-08-04</td><td style='text-align: left;'>11184</td></tr><tr><td style='text-align: left;'>17597</td><td style='text-align: left;'>MR35</td><td style='text-align: left;'>UVOT</td><td style='text-align: left;'>167.16693083333</td><td style='text-align: left;'>-60.714366944444</td><td style='text-align: left;'>0x122f</td><td style='text-align: left;'>WT</td><td style='text-align: left;'>2022-07-13 14:57:52</td><td style='text-align: left;'>Bruhweiler</td><td style='text-align: left;'>4</td><td style='text-align: left;'>2022-07-20</td><td style='text-align: left;'>2022-07-20</td><td style='text-align: left;'>15267</td></tr><tr><td style='text-align: left;'>17596</td><td style='text-align: left;'>ZTF22aasxgjp</td><td style='text-align: left;'>UVOT</td><td style='text-align: left;'>227.2842563</td><td style='text-align: left;'>52.5347931</td><td style='text-align: left;'>0x223f</td><td style='text-align: left;'>PC</td><td style='text-align: left;'>2022-07-13 14:31:35</td><td style='text-align: left;'>Irani</td><td style='text-align: left;'>2</td><td style='text-align: left;'>2022-07-14</td><td style='text-align: left;'>2022-07-16</td><td style='text-align: left;'>15262</td></tr><tr><td style='text-align: left;'>17595</td><td style='text-align: left;'>T CrB</td><td style='text-align: left;'>UVOT</td><td style='text-align: left;'>239.87567458333</td><td style='text-align: left;'>25.920168611111</td><td style='text-align: left;'>0x122f</td><td style='text-align: left;'>PC</td><td style='text-align: left;'>2022-07-13 08:39:20</td><td style='text-align: left;'>Kuin</td><td style='text-align: left;'>3</td><td style='text-align: left;'>2022-07-17</td><td style='text-align: left;'>2022-08-07</td><td style='text-align: left;'>13558</td></tr><tr><td style='text-align: left;'>17594</td><td style='text-align: left;'>GRB 220710A</td><td style='text-align: left;'>XRT</td><td style='text-align: left;'>221.5917</td><td style='text-align: left;'>20.6577</td><td style='text-align: left;'>0x2019</td><td style='text-align: left;'>PC</td><td style='text-align: left;'>2022-07-12 17:00:58</td><td style='text-align: left;'>Tohuvavohu</td><td style='text-align: left;'>2</td><td style='text-align: left;'>2022-07-12</td><td style='text-align: left;'>2022-07-13</td><td style='text-align: left;'>21509</td></tr><tr><td style='text-align: left;'>17593</td><td style='text-align: left;'>Swift J023017.0+283603</td><td style='text-align: left;'>XRT</td><td style='text-align: left;'>37.5711</td><td style='text-align: left;'>28.6011</td><td style='text-align: left;'>0x018c</td><td style='text-align: left;'>PC</td><td style='text-align: left;'>2022-07-12 14:46:48</td><td style='text-align: left;'>Guolo</td><td style='text-align: left;'>2</td><td style='text-align: left;'>2022-07-13</td><td style='text-align: left;'>2022-08-17</td><td style='text-align: left;'>15231</td></tr><tr><td style='text-align: left;'>17592</td><td style='text-align: left;'>NGC 3599</td><td style='text-align: left;'>XRT</td><td style='text-align: left;'>168.86228916667</td><td style='text-align: left;'>18.110396666667</td><td style='text-align: left;'>0x9999</td><td style='text-align: left;'>PC</td><td style='text-align: left;'>2022-07-12 06:09:33</td><td style='text-align: left;'>Jiang</td><td style='text-align: left;'>3</td><td style='text-align: left;'>2022-07-15</td><td style='text-align: left;'>2022-07-15</td><td style='text-align: left;'>15265</td></tr><tr><td style='text-align: left;'>17591</td><td style='text-align: left;'>ZTF22aaddwbo</td><td style='text-align: left;'>UVOT</td><td style='text-align: left;'>208.4925268</td><td style='text-align: left;'>50.0417947</td><td style='text-align: left;'>0x30d5</td><td style='text-align: left;'>PC</td><td style='text-align: left;'>2022-07-11 22:13:07</td><td style='text-align: left;'>Yao</td><td style='text-align: left;'>3</td><td style='text-align: left;'>2022-07-17</td><td style='text-align: left;'>2022-07-17</td><td style='text-align: left;'>15264</td></tr><tr><td style='text-align: left;'>17590</td><td style='text-align: left;'>Cygnus X-1</td><td style='text-align: left;'>XRT</td><td style='text-align: left;'>299.59031541667</td><td style='text-align: left;'>35.201606666667</td><td style='text-align: left;'>0x9999</td><td style='text-align: left;'>WT</td><td style='text-align: left;'>2022-07-11 20:09:08</td><td style='text-align: left;'>Miller</td><td style='text-align: left;'>1</td><td style='text-align: left;'>2022-07-12</td><td style='text-align: left;'>2022-07-13</td><td style='text-align: left;'>34310</td></tr><tr><td style='text-align: left;'>17589</td><td style='text-align: left;'>ZTF22aasxgjp</td><td style='text-align: left;'>UVOT</td><td style='text-align: left;'>227.28425</td><td style='text-align: left;'>52.534794444444</td><td style='text-align: left;'>0x122f</td><td style='text-align: left;'>PC</td><td style='text-align: left;'>2022-07-11 15:11:19</td><td style='text-align: left;'>Zimmerman</td><td style='text-align: left;'>2</td><td style='text-align: left;'>2022-07-12</td><td style='text-align: left;'>2022-07-12</td><td style='text-align: left;'>15262</td></tr><tr><td style='text-align: left;'>17588</td><td style='text-align: left;'>SMC X-2</td><td style='text-align: left;'>XRT</td><td style='text-align: left;'>13.639291666667</td><td style='text-align: left;'>-73.683694444444</td><td style='text-align: left;'>0x018c</td><td style='text-align: left;'>WT</td><td style='text-align: left;'>2022-07-11 15:04:02</td><td style='text-align: left;'>Kennea</td><td style='text-align: left;'>3</td><td style='text-align: left;'>2022-07-19</td><td style='text-align: left;'>2022-07-31</td><td style='text-align: left;'>34073</td></tr><tr><td style='text-align: left;'>17587</td><td style='text-align: left;'>SN2022oqm</td><td style='text-align: left;'>UVOT</td><td style='text-align: left;'>227.28425</td><td style='text-align: left;'>52.534794444444</td><td style='text-align: left;'>0x122f</td><td style='text-align: left;'>PC</td><td style='text-align: left;'>2022-07-11 14:54:18</td><td style='text-align: left;'>Rowe</td><td style='text-align: left;'>2</td><td style='text-align: left;'>2022-07-12</td><td style='text-align: left;'>2022-07-12</td><td style='text-align: left;'>15262</td></tr><tr><td style='text-align: left;'>17586</td><td style='text-align: left;'>M51 ULXs</td><td style='text-align: left;'>XRT</td><td style='text-align: left;'>202.48420715332</td><td style='text-align: left;'>47.230598449707</td><td style='text-align: left;'>0x9999</td><td style='text-align: left;'>PC</td><td style='text-align: left;'>2022-07-11 12:43:35</td><td style='text-align: left;'>Brightman</td><td style='text-align: left;'>3</td><td style='text-align: left;'>2022-07-16</td><td style='text-align: left;'>2022-09-08</td><td style='text-align: left;'>11417</td></tr></table>"
      ],
      "text/plain": [
       "Swift_TOO_Requests(username='anonymous',limit='20',detail='False',radius='0.19333333333333333')"
      ]
     },
     "execution_count": 4,
     "metadata": {},
     "output_type": "execute_result"
    }
   ],
   "source": [
    "toos"
   ]
  },
  {
   "cell_type": "markdown",
   "id": "bc0d2511",
   "metadata": {},
   "source": [
    "We can also display all the information we obtained for each TOO request as follows, to display the first (and by default most recent) TOO in the list above, do the following."
   ]
  },
  {
   "cell_type": "code",
   "execution_count": 5,
   "id": "0cc82450",
   "metadata": {},
   "outputs": [
    {
     "data": {
      "text/html": [
       "<table><thead><th style='text-align: left;'>Parameter</th><th style='text-align: left;'>Value</th></thead><tr><td style='text-align: left;'>ToO ID</td><td style='text-align: left;'>17605</td></tr><tr><td style='text-align: left;'>Requester</td><td style='text-align: left;'>Irani</td></tr><tr><td style='text-align: left;'>Time Submitted</td><td style='text-align: left;'>2022-07-14 08:42:28</td></tr><tr><td style='text-align: left;'>Urgency</td><td style='text-align: left;'>2</td></tr><tr><td style='text-align: left;'>Object Name</td><td style='text-align: left;'>ZTF22aativsd</td></tr><tr><td style='text-align: left;'>Type or Classification</td><td style='text-align: left;'>Supernova</td></tr><tr><td style='text-align: left;'>Right Ascenscion (J2000)</td><td style='text-align: left;'>335.6231248</td></tr><tr><td style='text-align: left;'>Declination (J2000)</td><td style='text-align: left;'>36.0049977</td></tr><tr><td style='text-align: left;'>Position Error (90% confidence - arcminutes)</td><td style='text-align: left;'>0</td></tr><tr><td style='text-align: left;'>Exposure Time per Visit (s)</td><td style='text-align: left;'>1500</td></tr><tr><td style='text-align: left;'>Number of Visits</td><td style='text-align: left;'>4</td></tr><tr><td style='text-align: left;'>Total Exposure (s)</td><td style='text-align: left;'>7500</td></tr><tr><td style='text-align: left;'>Instrument</td><td style='text-align: left;'>UVOT</td></tr><tr><td style='text-align: left;'>XRT Mode (Approved)</td><td style='text-align: left;'>PC</td></tr><tr><td style='text-align: left;'>UVOT Mode (Approved)</td><td style='text-align: left;'>0x223f</td></tr><tr><td style='text-align: left;'>Primary Target ID</td><td style='text-align: left;'>15266</td></tr></table>"
      ],
      "text/plain": [
       "Swift_TOO_Request(source_name='ZTF22aativsd',source_type='Supernova',ra='335.6231248',dec='36.0049977',poserr='0',instrument='UVOT',urgency='2',num_of_visits='1',xrt_mode='PC',uvot_mode='0x9999',obs_n='single',debug='False')"
      ]
     },
     "execution_count": 5,
     "metadata": {},
     "output_type": "execute_result"
    }
   ],
   "source": [
    "toos[1]"
   ]
  },
  {
   "cell_type": "markdown",
   "id": "7c79a94b",
   "metadata": {},
   "source": [
    "If you want to fetch the information for a given `too_id` value, you get use the `by_id` method. Here is an example:"
   ]
  },
  {
   "cell_type": "code",
   "execution_count": 6,
   "id": "ac475b10",
   "metadata": {},
   "outputs": [
    {
     "data": {
      "text/html": [
       "<table><thead><th style='text-align: left;'>Parameter</th><th style='text-align: left;'>Value</th></thead><tr><td style='text-align: left;'>ToO ID</td><td style='text-align: left;'>17600</td></tr><tr><td style='text-align: left;'>Requester</td><td style='text-align: left;'>Brown</td></tr><tr><td style='text-align: left;'>Time Submitted</td><td style='text-align: left;'>2022-07-13 15:47:13</td></tr><tr><td style='text-align: left;'>Urgency</td><td style='text-align: left;'>3</td></tr><tr><td style='text-align: left;'>Object Name</td><td style='text-align: left;'>SN2022oqm</td></tr><tr><td style='text-align: left;'>Type or Classification</td><td style='text-align: left;'>Supernova</td></tr><tr><td style='text-align: left;'>Right Ascenscion (J2000)</td><td style='text-align: left;'>227.28425</td></tr><tr><td style='text-align: left;'>Declination (J2000)</td><td style='text-align: left;'>52.534794</td></tr><tr><td style='text-align: left;'>Position Error (90% confidence - arcminutes)</td><td style='text-align: left;'>0.01</td></tr><tr><td style='text-align: left;'>Exposure Time per Visit (s)</td><td style='text-align: left;'>3000</td></tr><tr><td style='text-align: left;'>Number of Visits</td><td style='text-align: left;'>2</td></tr><tr><td style='text-align: left;'>Total Exposure (s)</td><td style='text-align: left;'>6000</td></tr><tr><td style='text-align: left;'>Instrument</td><td style='text-align: left;'>UVOT</td></tr><tr><td style='text-align: left;'>XRT Mode (Approved)</td><td style='text-align: left;'>PC</td></tr><tr><td style='text-align: left;'>UVOT Mode (Approved)</td><td style='text-align: left;'>0x223f</td></tr><tr><td style='text-align: left;'>Primary Target ID</td><td style='text-align: left;'>15262</td></tr></table>"
      ],
      "text/plain": [
       "Swift_TOO_Request(source_name='SN2022oqm',source_type='Supernova',ra='227.28425',dec='52.534794',poserr='0.01',instrument='UVOT',urgency='3',num_of_visits='1',xrt_mode='PC',uvot_mode='0x9999',obs_n='single',debug='False')"
      ]
     },
     "execution_count": 6,
     "metadata": {},
     "output_type": "execute_result"
    }
   ],
   "source": [
    "toos.by_id(17600)"
   ]
  },
  {
   "cell_type": "markdown",
   "id": "e27a7ce1",
   "metadata": {},
   "source": [
    "### Displaying the scheduling information for a TOO\n",
    "\n",
    "If you are interested to know when/if a TOO has been scheduled in the Swift Planning calendar, you can obtain this information by looking that the `calendar` attribute. This is an instance of the `Swift_Calendar` class. You can display it as follows."
   ]
  },
  {
   "cell_type": "code",
   "execution_count": 8,
   "id": "8f309424",
   "metadata": {},
   "outputs": [
    {
     "data": {
      "text/html": [
       "<table><thead><th style='text-align: left;'>#</th><th style='text-align: left;'>Start</th><th style='text-align: left;'>Stop</th><th style='text-align: left;'>XRT Mode</th><th style='text-align: left;'>UVOT Mode</th><th style='text-align: left;'>Exposure (s)</th><th style='text-align: left;'>AFST (s)</th></thead><tr><td style='text-align: left;'>0</td><td style='text-align: left;'>2022-07-14 00:00:00</td><td style='text-align: left;'>2022-07-15 12:00:00</td><td style='text-align: left;'>PC</td><td style='text-align: left;'>0x223f</td><td style='text-align: left;'>1500</td><td style='text-align: left;'>2900.0</td></tr><tr><td style='text-align: left;'>1</td><td style='text-align: left;'>2022-07-15 00:00:00</td><td style='text-align: left;'>2022-07-15 12:00:00</td><td style='text-align: left;'>PC</td><td style='text-align: left;'>0x223f</td><td style='text-align: left;'>1500</td><td style='text-align: left;'>1405.0</td></tr><tr><td style='text-align: left;'>2</td><td style='text-align: left;'>2022-07-16 00:00:00</td><td style='text-align: left;'>2022-07-17 00:00:00</td><td style='text-align: left;'>PC</td><td style='text-align: left;'>0x223f</td><td style='text-align: left;'>1500</td><td style='text-align: left;'>0</td></tr><tr><td style='text-align: left;'>3</td><td style='text-align: left;'>2022-07-17 00:00:00</td><td style='text-align: left;'>2022-07-18 00:00:00</td><td style='text-align: left;'>PC</td><td style='text-align: left;'>0x223f</td><td style='text-align: left;'>1500</td><td style='text-align: left;'>0</td></tr></table>"
      ],
      "text/plain": [
       "Swift_Calendar(username='anonymous',too_id='17605')"
      ]
     },
     "execution_count": 8,
     "metadata": {},
     "output_type": "execute_result"
    }
   ],
   "source": [
    "toos.by_id(17605).calendar"
   ]
  },
  {
   "cell_type": "markdown",
   "id": "04590d3d",
   "metadata": {},
   "source": [
    "You can see here that the calendar has even more information about the TOO. This includes the start and end time of each window, the XRT and UVOT modes used, the requested exposure time per window, and the column **AFST** shows the amount of exposure time taken on that target during the window.\n",
    "\n",
    "Note that a window here is a period of time for which an observation is requested to occur. If the window is a day long, that typically means that the observation can be scheduled at any time during the day. Shorter windows with specific start and end times typically denotes a time constrained observation, e.g. an observation coordinated with another telescope, or an observation where obtaining an observation at a given orbital phase is requested.\n",
    "\n",
    "Note the AFST column is just a guide. It only shows observations taken with the window, so if an observation were taken the next day, or not completely in the window, it will not reflect the full observation time. In order to obtain information about Swift observations of any given Target, use a `Swift_ObsQuery`.\n",
    "\n",
    "### Public vs Private TOO Requests\n",
    "\n",
    "So far the information we have retrieved is what is available publically. This is limited for privacy reasons, but if you have submitted a TOO yourself, you can retrieve more information. To do this you need to provide your `username` and `shared_secret`. Note that if your computer supports Python's `keyring` module, for storing passwords, then your secret should already be stored if you've used it before to submit a TOO request. In this case you can just give your username."
   ]
  },
  {
   "cell_type": "code",
   "execution_count": 11,
   "id": "ec27aeb4",
   "metadata": {},
   "outputs": [
    {
     "data": {
      "text/plain": [
       "True"
      ]
     },
     "execution_count": 11,
     "metadata": {},
     "output_type": "execute_result"
    }
   ],
   "source": [
    "mytoo = TOORequests()\n",
    "mytoo.username = \"jak51\"\n",
    "mytoo.shared_secret = 'bumpygoatfodder'\n",
    "mytoo.detail = True\n",
    "mytoo.too_id = 16832\n",
    "mytoo.submit()"
   ]
  },
  {
   "cell_type": "markdown",
   "id": "44ae7ce7",
   "metadata": {},
   "source": [
    "You can now look at the detailed information from your TOO request, including non-public information. The TOO request below was submitted by the author (Jamie Kennea), so this is what is presented here."
   ]
  },
  {
   "cell_type": "code",
   "execution_count": 12,
   "id": "86aa8a79",
   "metadata": {},
   "outputs": [
    {
     "data": {
      "text/html": [
       "<table><thead><th style='text-align: left;'>Parameter</th><th style='text-align: left;'>Value</th></thead><tr><td style='text-align: left;'>ToO ID</td><td style='text-align: left;'>16832</td></tr><tr><td style='text-align: left;'>Requester</td><td style='text-align: left;'>Kennea</td></tr><tr><td style='text-align: left;'>Time Submitted</td><td style='text-align: left;'>2022-01-05 12:00:19</td></tr><tr><td style='text-align: left;'>Urgency</td><td style='text-align: left;'>2</td></tr><tr><td style='text-align: left;'>Object Name</td><td style='text-align: left;'>SXP 15.6</td></tr><tr><td style='text-align: left;'>Type or Classification</td><td style='text-align: left;'>Be Binary System</td></tr><tr><td style='text-align: left;'>Right Ascenscion (J2000)</td><td style='text-align: left;'>12.228890419006</td></tr><tr><td style='text-align: left;'>Declination (J2000)</td><td style='text-align: left;'>-73.829299926758</td></tr><tr><td style='text-align: left;'>Position Error (90% confidence - arcminutes)</td><td style='text-align: left;'>0</td></tr><tr><td style='text-align: left;'>Science Justification</td><td style='text-align: left;'>We wish to continue to monitor the brightness of SXP 15.6 in it's current outburst which was still ongoing as of Dec 30, . We request an initial observation ASAP, as the most recent observation with S-CUBED (Jan 4th) appeared to show a rebrightening. In addition we request resumption of monitoring until pole constraint.</td></tr><tr><td style='text-align: left;'>XRT Estimated Rate (c/s)</td><td style='text-align: left;'>0.15</td></tr><tr><td style='text-align: left;'>Exposure Time per Visit (s)</td><td style='text-align: left;'>2000</td></tr><tr><td style='text-align: left;'>Number of Visits</td><td style='text-align: left;'>4</td></tr><tr><td style='text-align: left;'>Total Exposure (s)</td><td style='text-align: left;'>8000</td></tr><tr><td style='text-align: left;'>Monitoring Cadence</td><td style='text-align: left;'>2 day</td></tr><tr><td style='text-align: left;'>Immediate Objective</td><td style='text-align: left;'>Continue to monitor the brightness of SXP 15.6. We request an initial observation ASAP.</td></tr><tr><td style='text-align: left;'>Exposure Time Justification</td><td style='text-align: left;'>2ks allows for accurate measurement of flux and spectrum.</td></tr><tr><td style='text-align: left;'>Instrument</td><td style='text-align: left;'>XRT</td></tr><tr><td style='text-align: left;'>What is Driving the Exposure Time?</td><td style='text-align: left;'>Light Curve</td></tr><tr><td style='text-align: left;'>XRT Mode (Approved)</td><td style='text-align: left;'>PC</td></tr><tr><td style='text-align: left;'>UVOT Mode (Approved)</td><td style='text-align: left;'>0x9999</td></tr><tr><td style='text-align: left;'>Primary Target ID</td><td style='text-align: left;'>34599</td></tr></table>"
      ],
      "text/plain": [
       "Swift_TOO_Request(username='jak51',source_name='SXP 15.6',source_type='Be Binary System',ra='12.228890419006',dec='-73.829299926758',poserr='0',instrument='XRT',urgency='2',xrt_countrate='0.15',immediate_objective='Continue to monitor the brightness of SXP 15.6. We request an initial observation ASAP.',science_just='We wish to continue to monitor the brightness of SXP 15.6 in it's current outburst which was still ongoing as of Dec 30, . We request an initial observation ASAP, as the most recent observation with S-CUBED (Jan 4th) appeared to show a rebrightening. In addition we request resumption of monitoring until pole constraint.',exp_time_just='2ks allows for accurate measurement of flux and spectrum.',num_of_visits='1',monitoring_freq='2 day',proposal='no',xrt_mode='PC',uvot_mode='0x9999',uvot_just='',tiling='No',number_of_tiles='None',obs_n='single',obs_type='Light Curve',debug='False')"
      ]
     },
     "execution_count": 12,
     "metadata": {},
     "output_type": "execute_result"
    }
   ],
   "source": [
    "mytoo[0]"
   ]
  },
  {
   "cell_type": "markdown",
   "id": "401e5de4",
   "metadata": {},
   "source": [
    "Also the calendar for this TOO, including what was observed vs what was planned. "
   ]
  },
  {
   "cell_type": "code",
   "execution_count": 13,
   "id": "c214664f",
   "metadata": {},
   "outputs": [
    {
     "data": {
      "text/html": [
       "<table><thead><th style='text-align: left;'>#</th><th style='text-align: left;'>Start</th><th style='text-align: left;'>Stop</th><th style='text-align: left;'>XRT Mode</th><th style='text-align: left;'>UVOT Mode</th><th style='text-align: left;'>Exposure (s)</th><th style='text-align: left;'>AFST (s)</th></thead><tr><td style='text-align: left;'>0</td><td style='text-align: left;'>2022-01-05 00:00:00</td><td style='text-align: left;'>2022-01-06 00:00:00</td><td style='text-align: left;'>PC</td><td style='text-align: left;'>0x9999</td><td style='text-align: left;'>2000</td><td style='text-align: left;'>1995.0</td></tr><tr><td style='text-align: left;'>1</td><td style='text-align: left;'>2022-01-07 00:00:00</td><td style='text-align: left;'>2022-01-08 00:00:00</td><td style='text-align: left;'>PC</td><td style='text-align: left;'>0x9999</td><td style='text-align: left;'>2000</td><td style='text-align: left;'>2265.0</td></tr><tr><td style='text-align: left;'>2</td><td style='text-align: left;'>2022-01-09 00:00:00</td><td style='text-align: left;'>2022-01-10 00:00:00</td><td style='text-align: left;'>PC</td><td style='text-align: left;'>0x9999</td><td style='text-align: left;'>2000</td><td style='text-align: left;'>1960.0</td></tr><tr><td style='text-align: left;'>3</td><td style='text-align: left;'>2022-01-11 00:00:00</td><td style='text-align: left;'>2022-01-12 00:00:00</td><td style='text-align: left;'>PC</td><td style='text-align: left;'>0x9999</td><td style='text-align: left;'>2000</td><td style='text-align: left;'>1359.0</td></tr></table>"
      ],
      "text/plain": [
       "Swift_Calendar(username='anonymous',too_id='16832')"
      ]
     },
     "execution_count": 13,
     "metadata": {},
     "output_type": "execute_result"
    }
   ],
   "source": [
    "mytoo[0].calendar"
   ]
  },
  {
   "cell_type": "code",
   "execution_count": null,
   "id": "57e5f1cb",
   "metadata": {},
   "outputs": [],
   "source": []
  }
 ],
 "metadata": {
  "kernelspec": {
   "display_name": "Python 3 (ipykernel)",
   "language": "python",
   "name": "python3"
  },
  "language_info": {
   "codemirror_mode": {
    "name": "ipython",
    "version": 3
   },
   "file_extension": ".py",
   "mimetype": "text/x-python",
   "name": "python",
   "nbconvert_exporter": "python",
   "pygments_lexer": "ipython3",
   "version": "3.9.13"
  }
 },
 "nbformat": 4,
 "nbformat_minor": 5
}
