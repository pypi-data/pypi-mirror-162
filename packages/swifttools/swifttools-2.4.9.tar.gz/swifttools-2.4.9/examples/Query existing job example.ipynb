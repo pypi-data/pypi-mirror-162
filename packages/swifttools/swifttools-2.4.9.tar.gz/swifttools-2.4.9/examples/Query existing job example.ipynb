{
 "cells": [
  {
   "cell_type": "markdown",
   "id": "stainless-pathology",
   "metadata": {},
   "source": [
    "# `swift_too` module\n",
    "\n",
    "## Swift_QueryJob example - Querying and fetching the results of an existing job\n",
    "\n",
    "### API version = 1.2, `swifttools` version 2.4\n",
    "\n",
    "#### Author: Jamie A. Kennea (Penn State)\n",
    "\n",
    "If you wish to retrieve the results of a previously job, this is the task of the QueryJob class. All you need for this class is your username, shared secret and the job number which is reported back when the job is submitted either with `submit()` or `queue()` methods. The jobnumber can be found in the property `jobnumber`."
   ]
  },
  {
   "cell_type": "code",
   "execution_count": 1,
   "id": "legendary-deficit",
   "metadata": {},
   "outputs": [],
   "source": [
    "from swifttools.swift_too import QueryJob, VisQuery\n",
    "from time import sleep"
   ]
  },
  {
   "cell_type": "markdown",
   "id": "portable-recovery",
   "metadata": {},
   "source": [
    "Previously we would have defined here our username and shared_secret, however in `swifttools 2.2`, for most requests you can skip this and they will default to an anonymous user. For this notebook we'll use the anonymous login to make things simpler."
   ]
  },
  {
   "cell_type": "markdown",
   "id": "latest-fluid",
   "metadata": {},
   "source": [
    "First let's submit a simple job so we can get an example jobnumber. In this case I'm just going to do something that isn't too strenuous on the system, let's see if Sgr A* is currently visible, or when it is next visible."
   ]
  },
  {
   "cell_type": "code",
   "execution_count": 15,
   "id": "cardiac-conservation",
   "metadata": {},
   "outputs": [
    {
     "name": "stdout",
     "output_type": "stream",
     "text": [
      "Queued job successfully! Jobnumber = 466318\n"
     ]
    }
   ],
   "source": [
    "vq = VisQuery()\n",
    "vq.name = \"SMC X-2\"\n",
    "vq.hires = (True,)\n",
    "vq.length = 1\n",
    "if vq.queue():\n",
    "    print(f\"Queued job successfully! Jobnumber = {vq.status.jobnumber}\")\n",
    "else:\n",
    "    print(f\"Error: {vq.status.errors}\")"
   ]
  },
  {
   "cell_type": "markdown",
   "id": "another-soundtrack",
   "metadata": {},
   "source": [
    "Note that the job has been submitted, but because we used the `queue()` method, it may not have completed yet. If you wait a bit, it will be, but the next step can be run straight away to demonstrate what happens if processing isn't complete."
   ]
  },
  {
   "cell_type": "markdown",
   "id": "compressed-compression",
   "metadata": {},
   "source": [
    "\n",
    "\n",
    "OK let's see how our job is doing, because the purpose of the QueryJob class is to allow us to fetch a job later, or maybe ASAP. Maybe you don't want to hang around waiting for a bunch of jobs to complete, submit some, have some coffee, come back and fetch, or just want to query the result of an existing job."
   ]
  },
  {
   "cell_type": "code",
   "execution_count": 16,
   "id": "dying-animal",
   "metadata": {
    "scrolled": false
   },
   "outputs": [
    {
     "name": "stdout",
     "output_type": "stream",
     "text": [
      "Current status of job #466318: Accepted\n"
     ]
    }
   ],
   "source": [
    "qj = QueryJob()\n",
    "qj.jobnumber = vq.status.jobnumber\n",
    "qj.queue()\n",
    "\n",
    "print(f\"Current status of job #{vq.status.jobnumber}: {qj.status}\")"
   ]
  },
  {
   "cell_type": "markdown",
   "id": "informed-advertiser",
   "metadata": {},
   "source": [
    "Note that for the class `QueryJob`, as it does not take many parameters, you can also pass parameters as arguments. If you do this, then the request will be submitted on invokation, so there's no need use the `submit()` method."
   ]
  },
  {
   "cell_type": "code",
   "execution_count": 17,
   "id": "handy-concern",
   "metadata": {
    "scrolled": false
   },
   "outputs": [],
   "source": [
    "while not qj:\n",
    "    qj = QueryJob(jobnumber=vq.status.jobnumber)\n",
    "    print(f\"Current status of job #{vq.status.jobnumber}: {qj.status}\")\n",
    "    sleep(1)"
   ]
  },
  {
   "cell_type": "markdown",
   "id": "british-firewall",
   "metadata": {},
   "source": [
    "The `submit` (or argument form) should return `True` if the job has been fetched. It'll return `False` for a number of reasons, firstly if the job is still *Queued* (waiting to be processed) or *Processing*, the status will indicate this. Also the status can be *Rejected*, in the case where you have given bad parameters, or the job no longer exists.\n",
    "\n",
    "\n",
    "The above \"while\" will keep polling the job until it is complete. We put in the sleep between requests so as to not over spam the TOO_API server.\n",
    "\n",
    "OK let's assume that the above now reports \"Current status of job #XXX: Accepted\", which indicates a successful `QueryJob` call of a completed job. Let's see what our QueryJob class data now looks like."
   ]
  },
  {
   "cell_type": "code",
   "execution_count": 18,
   "id": "unexpected-boating",
   "metadata": {},
   "outputs": [
    {
     "data": {
      "text/html": [
       "<table><thead><th style='text-align: left;'>Parameter</th><th style='text-align: left;'>Value</th></thead><tr><td style='text-align: left;'>username</td><td style='text-align: left;'>anonymous</td></tr><tr><td style='text-align: left;'>jobnumber</td><td style='text-align: left;'>466318</td></tr><tr><td style='text-align: left;'>fetchresult</td><td style='text-align: left;'>True</td></tr><tr><td style='text-align: left;'>status</td><td style='text-align: left;'>Accepted</td></tr><tr><td style='text-align: left;'>errors</td><td style='text-align: left;'>[]</td></tr><tr><td style='text-align: left;'>warnings</td><td style='text-align: left;'>[]</td></tr><tr><td style='text-align: left;'>timestamp</td><td style='text-align: left;'>2022-07-15 15:24:21</td></tr><tr><td style='text-align: left;'>began</td><td style='text-align: left;'>2022-07-15 15:24:21</td></tr><tr><td style='text-align: left;'>completed</td><td style='text-align: left;'>2022-07-15 15:24:22</td></tr><tr><td style='text-align: left;'>result</td><td style='text-align: left;'>Swift_VisQuery object</td></tr></table>"
      ],
      "text/plain": [
       "QueryJob(username='anonymous',jobnumber='466318',fetchresult='True')"
      ]
     },
     "execution_count": 18,
     "metadata": {},
     "output_type": "execute_result"
    }
   ],
   "source": [
    "qj"
   ]
  },
  {
   "cell_type": "markdown",
   "id": "intellectual-fetish",
   "metadata": {},
   "source": [
    "You can see the data inside the class here presented in table form. The the more useful value here is `result`, which contains the result of the job. In the Python api, this will be a `Swift_VisQuery` object. You can display the result of the job like this:"
   ]
  },
  {
   "cell_type": "code",
   "execution_count": 19,
   "id": "induced-sunday",
   "metadata": {
    "scrolled": false
   },
   "outputs": [
    {
     "data": {
      "text/html": [
       "<table><thead><th style='text-align: left;'>Begin Time</th><th style='text-align: left;'>End Time</th><th style='text-align: left;'>Window length</th></thead><tr><td style='text-align: left;'>2022-07-15 16:16:00</td><td style='text-align: left;'>2022-07-15 16:53:00</td><td style='text-align: left;'>0:37:00</td></tr><tr><td style='text-align: left;'>2022-07-15 17:51:00</td><td style='text-align: left;'>2022-07-15 18:29:00</td><td style='text-align: left;'>0:38:00</td></tr><tr><td style='text-align: left;'>2022-07-15 19:27:00</td><td style='text-align: left;'>2022-07-15 20:04:00</td><td style='text-align: left;'>0:37:00</td></tr><tr><td style='text-align: left;'>2022-07-15 21:02:00</td><td style='text-align: left;'>2022-07-15 21:40:00</td><td style='text-align: left;'>0:38:00</td></tr><tr><td style='text-align: left;'>2022-07-15 22:37:00</td><td style='text-align: left;'>2022-07-15 23:15:00</td><td style='text-align: left;'>0:38:00</td></tr><tr><td style='text-align: left;'>2022-07-16 00:13:00</td><td style='text-align: left;'>2022-07-16 00:50:00</td><td style='text-align: left;'>0:37:00</td></tr><tr><td style='text-align: left;'>2022-07-16 01:58:00</td><td style='text-align: left;'>2022-07-16 02:26:00</td><td style='text-align: left;'>0:28:00</td></tr><tr><td style='text-align: left;'>2022-07-16 03:43:00</td><td style='text-align: left;'>2022-07-16 04:01:00</td><td style='text-align: left;'>0:18:00</td></tr><tr><td style='text-align: left;'>2022-07-16 05:24:00</td><td style='text-align: left;'>2022-07-16 05:37:00</td><td style='text-align: left;'>0:13:00</td></tr><tr><td style='text-align: left;'>2022-07-16 06:34:00</td><td style='text-align: left;'>2022-07-16 06:37:00</td><td style='text-align: left;'>0:03:00</td></tr><tr><td style='text-align: left;'>2022-07-16 07:04:00</td><td style='text-align: left;'>2022-07-16 07:12:00</td><td style='text-align: left;'>0:08:00</td></tr><tr><td style='text-align: left;'>2022-07-16 08:10:00</td><td style='text-align: left;'>2022-07-16 08:17:00</td><td style='text-align: left;'>0:07:00</td></tr><tr><td style='text-align: left;'>2022-07-16 08:44:00</td><td style='text-align: left;'>2022-07-16 08:48:00</td><td style='text-align: left;'>0:04:00</td></tr><tr><td style='text-align: left;'>2022-07-16 09:45:00</td><td style='text-align: left;'>2022-07-16 09:59:00</td><td style='text-align: left;'>0:14:00</td></tr><tr><td style='text-align: left;'>2022-07-16 11:21:00</td><td style='text-align: left;'>2022-07-16 11:41:00</td><td style='text-align: left;'>0:20:00</td></tr><tr><td style='text-align: left;'>2022-07-16 12:56:00</td><td style='text-align: left;'>2022-07-16 13:23:00</td><td style='text-align: left;'>0:27:00</td></tr><tr><td style='text-align: left;'>2022-07-16 14:32:00</td><td style='text-align: left;'>2022-07-16 15:09:00</td><td style='text-align: left;'>0:37:00</td></tr></table>"
      ],
      "text/plain": [
       "Swift_VisQuery(username='anonymous',ra='13.639291666667',dec='-73.683694444444',length='1.0',begin='2022-07-15 15:24:00',hires='['True']')"
      ]
     },
     "execution_count": 19,
     "metadata": {},
     "output_type": "execute_result"
    }
   ],
   "source": [
    "qj.result"
   ]
  },
  {
   "cell_type": "markdown",
   "id": "incredible-sculpture",
   "metadata": {},
   "source": [
    "Other parameters that might be of interest are the `timestamp`, `began` and `completed` values, which allow you to find out when the job was submitted, when it started processing and when it finished. For example:"
   ]
  },
  {
   "cell_type": "code",
   "execution_count": 20,
   "id": "incident-discount",
   "metadata": {
    "scrolled": false
   },
   "outputs": [
    {
     "name": "stdout",
     "output_type": "stream",
     "text": [
      "Job was submitted at 2022-07-15 15:24:21, was queued for 0s and took 1s to process.\n"
     ]
    }
   ],
   "source": [
    "print(\n",
    "    f\"Job was submitted at {qj.timestamp}, was queued for {(qj.began - qj.timestamp).seconds}s and took {(qj.completed - qj.began).seconds}s to process.\"\n",
    ")"
   ]
  },
  {
   "cell_type": "markdown",
   "id": "formed-smooth",
   "metadata": {},
   "source": [
    "As usual, times reported back are UT. That is it! If all is correct, then the following show the upcoming or current *Swift* visibility window for Sgr A*!"
   ]
  },
  {
   "cell_type": "code",
   "execution_count": 21,
   "id": "stopped-september",
   "metadata": {},
   "outputs": [
    {
     "name": "stdout",
     "output_type": "stream",
     "text": [
      "2022-07-15 16:16:00 - 2022-07-15 16:53:00 (0:37:00)\n",
      "2022-07-15 17:51:00 - 2022-07-15 18:29:00 (0:38:00)\n",
      "2022-07-15 19:27:00 - 2022-07-15 20:04:00 (0:37:00)\n",
      "2022-07-15 21:02:00 - 2022-07-15 21:40:00 (0:38:00)\n",
      "2022-07-15 22:37:00 - 2022-07-15 23:15:00 (0:38:00)\n",
      "2022-07-16 00:13:00 - 2022-07-16 00:50:00 (0:37:00)\n",
      "2022-07-16 01:58:00 - 2022-07-16 02:26:00 (0:28:00)\n",
      "2022-07-16 03:43:00 - 2022-07-16 04:01:00 (0:18:00)\n",
      "2022-07-16 05:24:00 - 2022-07-16 05:37:00 (0:13:00)\n",
      "2022-07-16 06:34:00 - 2022-07-16 06:37:00 (0:03:00)\n",
      "2022-07-16 07:04:00 - 2022-07-16 07:12:00 (0:08:00)\n",
      "2022-07-16 08:10:00 - 2022-07-16 08:17:00 (0:07:00)\n",
      "2022-07-16 08:44:00 - 2022-07-16 08:48:00 (0:04:00)\n",
      "2022-07-16 09:45:00 - 2022-07-16 09:59:00 (0:14:00)\n",
      "2022-07-16 11:21:00 - 2022-07-16 11:41:00 (0:20:00)\n",
      "2022-07-16 12:56:00 - 2022-07-16 13:23:00 (0:27:00)\n",
      "2022-07-16 14:32:00 - 2022-07-16 15:09:00 (0:37:00)\n"
     ]
    }
   ],
   "source": [
    "_ = [print(win) for win in qj.result]"
   ]
  },
  {
   "cell_type": "markdown",
   "id": "invisible-thumb",
   "metadata": {},
   "source": [
    "That first date is going to be the first visibility date, which if the target is visible now should be essentially the same as `timestamp` in `QueryJob`, or sometime in the future if the target was constrained when the job was submitted. "
   ]
  },
  {
   "cell_type": "code",
   "execution_count": 9,
   "id": "chronic-theorem",
   "metadata": {},
   "outputs": [
    {
     "name": "stdout",
     "output_type": "stream",
     "text": [
      "0:38:37\n"
     ]
    }
   ],
   "source": [
    "print(qj.result[0][0] - qj.timestamp)"
   ]
  },
  {
   "cell_type": "markdown",
   "id": "simple-brush",
   "metadata": {},
   "source": [
    "Note due to the weird way datetime displays negative timediffs, you might see something like `-1 day, 23:59:19` if the value is negative!"
   ]
  }
 ],
 "metadata": {
  "kernelspec": {
   "display_name": "Python 3 (ipykernel)",
   "language": "python",
   "name": "python3"
  },
  "language_info": {
   "codemirror_mode": {
    "name": "ipython",
    "version": 3
   },
   "file_extension": ".py",
   "mimetype": "text/x-python",
   "name": "python",
   "nbconvert_exporter": "python",
   "pygments_lexer": "ipython3",
   "version": "3.9.13"
  }
 },
 "nbformat": 4,
 "nbformat_minor": 5
}
