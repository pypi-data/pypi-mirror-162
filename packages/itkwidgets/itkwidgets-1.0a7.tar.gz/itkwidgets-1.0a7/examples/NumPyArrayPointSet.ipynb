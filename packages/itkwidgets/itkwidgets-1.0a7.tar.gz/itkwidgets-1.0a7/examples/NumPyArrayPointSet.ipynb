{
 "cells": [
  {
   "cell_type": "code",
   "execution_count": null,
   "id": "492c7f7a-b291-4f01-9c85-9fea9da52fcc",
   "metadata": {},
   "outputs": [],
   "source": [
    "import sys\n",
    "\n",
    "!{sys.executable} -m pip install -q \"itkwidgets>=1.0a5\""
   ]
  },
  {
   "cell_type": "code",
   "execution_count": null,
   "id": "ee6c9cad-31f9-4adc-8740-6bb2103ade97",
   "metadata": {},
   "outputs": [],
   "source": [
    "import numpy as np\n",
    "from itkwidgets import view"
   ]
  },
  {
   "cell_type": "code",
   "execution_count": null,
   "id": "684615f0-f389-460f-8de6-6e3fc986d022",
   "metadata": {},
   "outputs": [],
   "source": [
    "number_of_points = 3000\n",
    "gaussian_mean = [0.0, 0.0, 0.0]\n",
    "gaussian_cov = [[1.0, 0.0, 0.0], [0.0, 2.0, 0.0], [0.0, 0.0, 0.5]]\n",
    "point_set = np.random.multivariate_normal(gaussian_mean, gaussian_cov, number_of_points)"
   ]
  },
  {
   "cell_type": "code",
   "execution_count": null,
   "id": "7571e8e2-5b3e-4204-9934-d30472e2f427",
   "metadata": {},
   "outputs": [],
   "source": [
    "view(point_sets=point_set)"
   ]
  },
  {
   "cell_type": "code",
   "execution_count": null,
   "id": "4f8a0ef9-68fb-44f0-bd6d-7ad31615ee06",
   "metadata": {},
   "outputs": [],
   "source": []
  }
 ],
 "metadata": {
  "kernelspec": {
   "display_name": "Python 3 (ipykernel)",
   "language": "python",
   "name": "python3"
  },
  "language_info": {
   "codemirror_mode": {
    "name": "ipython",
    "version": 3
   },
   "file_extension": ".py",
   "mimetype": "text/x-python",
   "name": "python",
   "nbconvert_exporter": "python",
   "pygments_lexer": "ipython3",
   "version": "3.8.10"
  }
 },
 "nbformat": 4,
 "nbformat_minor": 5
}
