{
 "cells": [
  {
   "cell_type": "code",
   "execution_count": null,
   "id": "3b12a0d4",
   "metadata": {},
   "outputs": [],
   "source": [
    "import sys\n",
    "\n",
    "!{sys.executable} -m pip install -q \"itkwidgets>=1.0a5\" imageio"
   ]
  },
  {
   "cell_type": "code",
   "execution_count": 2,
   "id": "c3c5eb6e",
   "metadata": {},
   "outputs": [],
   "source": [
    "from itkwidgets import view\n",
    "\n",
    "try:\n",
    "    import imageio.v2 as imageio\n",
    "except ImportError:\n",
    "    # Colab\n",
    "    import imageio"
   ]
  },
  {
   "cell_type": "code",
   "execution_count": 3,
   "id": "1bc45207",
   "metadata": {},
   "outputs": [],
   "source": [
    "stent = imageio.imread('imageio:stent.npz')"
   ]
  },
  {
   "cell_type": "code",
   "execution_count": 4,
   "id": "26582452",
   "metadata": {},
   "outputs": [
    {
     "data": {
      "application/javascript": [
       "window.connectPlugin && window.connectPlugin(\"b48ca497-8150-4d41-ad45-5dfaf9daf43c\")"
      ],
      "text/plain": [
       "<IPython.core.display.Javascript object>"
      ]
     },
     "metadata": {},
     "output_type": "display_data"
    },
    {
     "data": {
      "text/html": [
       "<div id=\"d45ae1b1-233a-4f6b-830b-40601ed80560\"></div>"
      ],
      "text/plain": [
       "<IPython.core.display.HTML object>"
      ]
     },
     "metadata": {},
     "output_type": "display_data"
    },
    {
     "data": {
      "text/plain": [
       "<itkwidgets.viewer.Viewer at 0x7f5804bfbd60>"
      ]
     },
     "execution_count": 4,
     "metadata": {},
     "output_type": "execute_result"
    }
   ],
   "source": [
    "viewer = view(stent, rotate=True)\n",
    "viewer"
   ]
  },
  {
   "cell_type": "code",
   "execution_count": null,
   "id": "5ffa3b37-ae13-4c5d-93e1-64d36c99b196",
   "metadata": {},
   "outputs": [],
   "source": [
    "viewer.set_image_gradient_opacity(0.4)"
   ]
  }
 ],
 "metadata": {
  "kernelspec": {
   "display_name": "Python 3 (ipykernel)",
   "language": "python",
   "name": "python3"
  },
  "language_info": {
   "codemirror_mode": {
    "name": "ipython",
    "version": 3
   },
   "file_extension": ".py",
   "mimetype": "text/x-python",
   "name": "python",
   "nbconvert_exporter": "python",
   "pygments_lexer": "ipython3",
   "version": "3.9.12"
  }
 },
 "nbformat": 4,
 "nbformat_minor": 5
}
