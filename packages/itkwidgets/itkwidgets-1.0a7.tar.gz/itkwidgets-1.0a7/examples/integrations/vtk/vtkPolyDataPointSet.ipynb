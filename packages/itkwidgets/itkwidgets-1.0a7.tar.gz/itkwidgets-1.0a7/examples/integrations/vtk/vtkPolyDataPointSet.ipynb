{
 "cells": [
  {
   "cell_type": "code",
   "execution_count": null,
   "id": "5bc1116d-ac15-4904-b1b6-e380def34369",
   "metadata": {},
   "outputs": [],
   "source": [
    "# Install dependencies for this example\n",
    "import sys\n",
    "\n",
    "!{sys.executable} -m pip install -q \"itkwidgets>=1.0a5\" vtk"
   ]
  },
  {
   "cell_type": "code",
   "execution_count": null,
   "id": "cde79357-38d8-4da0-b73b-eef96cc01f14",
   "metadata": {},
   "outputs": [],
   "source": [
    "from urllib.request import urlretrieve\n",
    "import os\n",
    "\n",
    "import vtk\n",
    "\n",
    "from itkwidgets import view"
   ]
  },
  {
   "cell_type": "code",
   "execution_count": null,
   "id": "7ea3eb03-26d7-44af-a383-0ce5fd2d2859",
   "metadata": {},
   "outputs": [],
   "source": [
    "# Download data\n",
    "file_name = 'cow.vtp'\n",
    "if not os.path.exists(file_name):\n",
    "    url = 'https://data.kitware.com/api/v1/file/5a826bdb8d777f0685782957/download'\n",
    "    urlretrieve(url, file_name)"
   ]
  },
  {
   "cell_type": "code",
   "execution_count": null,
   "id": "1c91d7cc-7b31-4555-890a-5b91315f5268",
   "metadata": {},
   "outputs": [],
   "source": [
    "reader = vtk.vtkXMLPolyDataReader()\n",
    "reader.SetFileName(file_name)\n",
    "reader.Update()\n",
    "vtk_poly = reader.GetOutput()"
   ]
  },
  {
   "cell_type": "code",
   "execution_count": null,
   "id": "1c5c6c98-5463-4e62-a325-46dcc445c79c",
   "metadata": {},
   "outputs": [],
   "source": [
    "view(point_sets=vtk_poly)"
   ]
  },
  {
   "cell_type": "code",
   "execution_count": null,
   "id": "a689c5b3-f58b-4a47-8270-3e576b391360",
   "metadata": {},
   "outputs": [],
   "source": []
  }
 ],
 "metadata": {
  "kernelspec": {
   "display_name": "Python 3 (ipykernel)",
   "language": "python",
   "name": "python3"
  },
  "language_info": {
   "codemirror_mode": {
    "name": "ipython",
    "version": 3
   },
   "file_extension": ".py",
   "mimetype": "text/x-python",
   "name": "python",
   "nbconvert_exporter": "python",
   "pygments_lexer": "ipython3",
   "version": "3.8.10"
  }
 },
 "nbformat": 4,
 "nbformat_minor": 5
}
