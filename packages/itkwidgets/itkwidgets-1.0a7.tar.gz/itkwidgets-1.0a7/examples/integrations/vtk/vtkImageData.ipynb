{
 "cells": [
  {
   "cell_type": "code",
   "execution_count": null,
   "id": "44a0e747-8e2a-46d7-8040-be711815fa6c",
   "metadata": {},
   "outputs": [],
   "source": [
    "# Install dependencies for this example\n",
    "import sys\n",
    "\n",
    "!{sys.executable} -m pip install -q \"itkwidgets>=1.0a5\" vtk"
   ]
  },
  {
   "cell_type": "code",
   "execution_count": null,
   "id": "03be0ed0-1f43-4b4a-8163-4a5730f4edda",
   "metadata": {},
   "outputs": [],
   "source": [
    "from urllib.request import urlretrieve\n",
    "import os\n",
    "\n",
    "import vtk\n",
    "\n",
    "from itkwidgets import view"
   ]
  },
  {
   "cell_type": "code",
   "execution_count": null,
   "id": "2cf5c0bf-4a20-496b-bb8d-2f6a71f7b1bf",
   "metadata": {},
   "outputs": [],
   "source": [
    "# Download data\n",
    "file_name = 'vase.vti'\n",
    "if not os.path.exists(file_name):\n",
    "    url = 'https://data.kitware.com/api/v1/file/5a826bdc8d777f0685782960/download'\n",
    "    urlretrieve(url, file_name)"
   ]
  },
  {
   "cell_type": "code",
   "execution_count": null,
   "id": "747a5e97-3216-4af1-ad62-ebc46a6dc3e8",
   "metadata": {},
   "outputs": [],
   "source": [
    "reader = vtk.vtkXMLImageDataReader()\n",
    "reader.SetFileName(file_name)\n",
    "reader.Update()\n",
    "vtk_image = reader.GetOutput()"
   ]
  },
  {
   "cell_type": "code",
   "execution_count": null,
   "id": "06d943d7-749d-49f0-ac5f-b1da4ebe5e27",
   "metadata": {},
   "outputs": [],
   "source": [
    "view(vtk_image)"
   ]
  },
  {
   "cell_type": "code",
   "execution_count": null,
   "id": "63809e1e-09cd-4e42-80c0-3e76e2ab3892",
   "metadata": {},
   "outputs": [],
   "source": []
  }
 ],
 "metadata": {
  "kernelspec": {
   "display_name": "Python 3 (ipykernel)",
   "language": "python",
   "name": "python3"
  },
  "language_info": {
   "codemirror_mode": {
    "name": "ipython",
    "version": 3
   },
   "file_extension": ".py",
   "mimetype": "text/x-python",
   "name": "python",
   "nbconvert_exporter": "python",
   "pygments_lexer": "ipython3",
   "version": "3.8.10"
  }
 },
 "nbformat": 4,
 "nbformat_minor": 5
}
