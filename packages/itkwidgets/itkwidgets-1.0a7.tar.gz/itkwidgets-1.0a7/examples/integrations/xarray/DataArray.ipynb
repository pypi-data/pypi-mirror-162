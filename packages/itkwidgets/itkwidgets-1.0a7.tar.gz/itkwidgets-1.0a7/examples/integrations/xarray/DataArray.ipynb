{
 "cells": [
  {
   "cell_type": "code",
   "execution_count": null,
   "id": "58a7abea-7bd5-4668-82a2-70f79d9a6a25",
   "metadata": {},
   "outputs": [],
   "source": [
    "import sys\n",
    "\n",
    "!{sys.executable} -m pip install -q \"itkwidgets>=1.0a5\" netCDF4 xarray"
   ]
  },
  {
   "cell_type": "code",
   "execution_count": null,
   "id": "d99ecd85-f3ed-4f50-ac7c-f0b8d327d79f",
   "metadata": {},
   "outputs": [],
   "source": [
    "import numpy as np\n",
    "import xarray as xr\n",
    "from itkwidgets import view"
   ]
  },
  {
   "cell_type": "code",
   "execution_count": null,
   "id": "55897e16-ad3f-4633-aad9-6aa4dee8e5ce",
   "metadata": {},
   "outputs": [],
   "source": [
    "# load in the file\n",
    "ds = xr.tutorial.open_dataset(\"ROMS_example\")\n",
    "\n",
    "# This is a way to turn on chunking and lazy evaluation. Opening with mfdataset, or\n",
    "# setting the chunking in the open_dataset would also achieve this.\n",
    "ds"
   ]
  },
  {
   "cell_type": "code",
   "execution_count": null,
   "id": "763b592c-18c2-4631-aeee-68e5e5649b70",
   "metadata": {},
   "outputs": [],
   "source": [
    "view(ds.zeta, ui_collapsed=False, cmap=\"Asymmtrical Earth Tones (6_21b)\", sample_distance=0)"
   ]
  },
  {
   "cell_type": "code",
   "execution_count": null,
   "id": "a8e4938c-e769-4f8e-97de-42dbb39caa1e",
   "metadata": {},
   "outputs": [],
   "source": [
    "if ds.Vtransform == 1:\n",
    "    Zo_rho = ds.hc * (ds.s_rho - ds.Cs_r) + ds.Cs_r * ds.h\n",
    "    z_rho = Zo_rho + ds.zeta * (1 + Zo_rho / ds.h)\n",
    "elif ds.Vtransform == 2:\n",
    "    Zo_rho = (ds.hc * ds.s_rho + ds.Cs_r * ds.h) / (ds.hc + ds.h)\n",
    "    z_rho = ds.zeta + (ds.zeta + ds.h) * Zo_rho\n",
    "\n",
    "ds.coords[\"z_rho\"] = z_rho.transpose()  # needing transpose seems to be an xarray bug\n",
    "ds.salt"
   ]
  },
  {
   "cell_type": "code",
   "execution_count": null,
   "id": "7b584e3a-6630-4f74-9f89-a95ba1b3af79",
   "metadata": {},
   "outputs": [],
   "source": [
    "view(\n",
    "    ds.salt.isel(ocean_time=0),\n",
    "    ui_collapsed=False,\n",
    "    cmap=\"Warm to Cool (Extended)\",\n",
    "    sample_distance=0,\n",
    "    color_range=[1, 36],\n",
    "    gradient_opacity=0.25,\n",
    "    gradient_opacity_scale=0.1\n",
    ")"
   ]
  },
  {
   "cell_type": "code",
   "execution_count": null,
   "id": "ff0751ac-5c6e-4b73-9be0-012166783806",
   "metadata": {},
   "outputs": [],
   "source": []
  }
 ],
 "metadata": {
  "kernelspec": {
   "display_name": "Python 3 (ipykernel)",
   "language": "python",
   "name": "python3"
  },
  "language_info": {
   "codemirror_mode": {
    "name": "ipython",
    "version": 3
   },
   "file_extension": ".py",
   "mimetype": "text/x-python",
   "name": "python",
   "nbconvert_exporter": "python",
   "pygments_lexer": "ipython3",
   "version": "3.8.10"
  }
 },
 "nbformat": 4,
 "nbformat_minor": 5
}
