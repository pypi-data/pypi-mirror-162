{
 "cells": [
  {
   "cell_type": "code",
   "execution_count": null,
   "id": "343e562f-7db1-49f5-87ff-71c2af2b75ba",
   "metadata": {},
   "outputs": [],
   "source": [
    "# Install dependencies for this example\n",
    "import sys\n",
    "\n",
    "!{sys.executable} -m pip install -q pyvista \"itkwidgets>=1.0a5\""
   ]
  },
  {
   "cell_type": "code",
   "execution_count": null,
   "id": "395c7503-042f-470f-8f76-473825a2cd0c",
   "metadata": {},
   "outputs": [],
   "source": [
    "import pyvista\n",
    "from pyvista import examples\n",
    "\n",
    "from itkwidgets import view"
   ]
  },
  {
   "cell_type": "code",
   "execution_count": null,
   "id": "47d02562-2919-4b99-b19f-8fe1559e6966",
   "metadata": {},
   "outputs": [],
   "source": [
    "lidar = examples.download_lidar()\n",
    "\n",
    "clipped = lidar.clip(origin=(0, 0, 1.76e3), normal=(0, 0, 1))"
   ]
  },
  {
   "cell_type": "code",
   "execution_count": null,
   "id": "76eba29a-1bf3-4b28-9574-67f71ce350bd",
   "metadata": {},
   "outputs": [],
   "source": [
    "view(point_sets=clipped)"
   ]
  },
  {
   "cell_type": "code",
   "execution_count": null,
   "id": "782ae818-b867-455d-836f-438f951c86a5",
   "metadata": {},
   "outputs": [],
   "source": []
  }
 ],
 "metadata": {
  "kernelspec": {
   "display_name": "Python 3 (ipykernel)",
   "language": "python",
   "name": "python3"
  },
  "language_info": {
   "codemirror_mode": {
    "name": "ipython",
    "version": 3
   },
   "file_extension": ".py",
   "mimetype": "text/x-python",
   "name": "python",
   "nbconvert_exporter": "python",
   "pygments_lexer": "ipython3",
   "version": "3.8.10"
  }
 },
 "nbformat": 4,
 "nbformat_minor": 5
}
