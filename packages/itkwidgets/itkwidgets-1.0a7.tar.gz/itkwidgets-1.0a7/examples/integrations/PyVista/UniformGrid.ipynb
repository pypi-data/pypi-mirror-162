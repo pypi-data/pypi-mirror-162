{
 "cells": [
  {
   "cell_type": "code",
   "execution_count": null,
   "id": "e04361ad-b0a3-4407-888d-779ae6f1863d",
   "metadata": {},
   "outputs": [],
   "source": [
    "# Install dependencies for this example\n",
    "import sys\n",
    "\n",
    "!{sys.executable} -m pip install -q pyvista \"itkwidgets>=1.0a5\""
   ]
  },
  {
   "cell_type": "code",
   "execution_count": null,
   "id": "8a45c57e-d319-4fd2-9251-567b1f918970",
   "metadata": {},
   "outputs": [],
   "source": [
    "import pyvista\n",
    "from pyvista import examples\n",
    "\n",
    "from itkwidgets import view"
   ]
  },
  {
   "cell_type": "code",
   "execution_count": null,
   "id": "9e67fcf6-99bd-4940-aaab-4fa28cbe1ea2",
   "metadata": {},
   "outputs": [],
   "source": [
    "dataset = examples.load_uniform()\n",
    "dataset"
   ]
  },
  {
   "cell_type": "code",
   "execution_count": null,
   "id": "70e42aaf-6d75-4bb3-8e50-20e735ba98ea",
   "metadata": {},
   "outputs": [],
   "source": [
    "view(dataset)"
   ]
  },
  {
   "cell_type": "code",
   "execution_count": null,
   "id": "0d4f9556-a45d-4e0e-a431-cf356506b141",
   "metadata": {},
   "outputs": [],
   "source": []
  }
 ],
 "metadata": {
  "kernelspec": {
   "display_name": "Python 3 (ipykernel)",
   "language": "python",
   "name": "python3"
  },
  "language_info": {
   "codemirror_mode": {
    "name": "ipython",
    "version": 3
   },
   "file_extension": ".py",
   "mimetype": "text/x-python",
   "name": "python",
   "nbconvert_exporter": "python",
   "pygments_lexer": "ipython3",
   "version": "3.8.10"
  }
 },
 "nbformat": 4,
 "nbformat_minor": 5
}
