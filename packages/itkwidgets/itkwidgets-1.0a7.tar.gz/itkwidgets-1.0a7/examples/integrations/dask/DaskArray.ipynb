{
 "cells": [
  {
   "cell_type": "code",
   "execution_count": 1,
   "id": "9572df40-3091-473c-ae4e-d7267c7b1205",
   "metadata": {},
   "outputs": [],
   "source": [
    "# Install dependencies for this example\n",
    "import sys\n",
    "\n",
    "!{sys.executable} -m pip install -q --upgrade --pre itk-io\n",
    "!{sys.executable} -m pip install -q dask toolz scikit-image matplotlib \"itkwidgets>=1.0a5\""
   ]
  },
  {
   "cell_type": "code",
   "execution_count": 2,
   "id": "5dfea14c-c10e-4622-92ee-6f336d732b50",
   "metadata": {},
   "outputs": [],
   "source": [
    "from urllib.request import urlretrieve\n",
    "import os\n",
    "import zipfile\n",
    "\n",
    "import itk\n",
    "import dask.array.image\n",
    "\n",
    "from itkwidgets import view"
   ]
  },
  {
   "cell_type": "code",
   "execution_count": 3,
   "id": "84e4e778-d5de-4f84-92b3-cfa3c82d6746",
   "metadata": {},
   "outputs": [],
   "source": [
    "# Download data\n",
    "file_name = 'emdata_janelia_822252.zip'\n",
    "if not os.path.exists(file_name):\n",
    "    url = 'https://data.kitware.com/api/v1/file/5bf232498d777f2179b18acc/download'\n",
    "    urlretrieve(url, file_name)\n",
    "with zipfile.ZipFile(file_name, 'r') as zip_ref:\n",
    "    zip_ref.extractall()"
   ]
  },
  {
   "cell_type": "markdown",
   "id": "9ea9f28f-98c9-47d3-84a9-81bbaac61ac8",
   "metadata": {},
   "source": [
    "This example is based on\n",
    "\n",
    "http://matthewrocklin.com/blog/work/2017/01/17/dask-images"
   ]
  },
  {
   "cell_type": "code",
   "execution_count": 4,
   "id": "74e1d927-1d34-430b-9c70-e773286829ee",
   "metadata": {},
   "outputs": [
    {
     "data": {
      "application/javascript": [
       "window.connectPlugin && window.connectPlugin(\"31434865-eb7f-4310-815c-bedeaaa84e9d\")"
      ],
      "text/plain": [
       "<IPython.core.display.Javascript object>"
      ]
     },
     "metadata": {},
     "output_type": "display_data"
    },
    {
     "data": {
      "text/html": [
       "<div id=\"b9045e25-8227-484c-be56-a6952fbdc061\"></div>"
      ],
      "text/plain": [
       "<IPython.core.display.HTML object>"
      ]
     },
     "metadata": {},
     "output_type": "display_data"
    },
    {
     "data": {
      "text/plain": [
       "<itkwidgets.viewer.Viewer at 0x7f4762a30d90>"
      ]
     },
     "execution_count": 4,
     "metadata": {},
     "output_type": "execute_result"
    }
   ],
   "source": [
    "sample = itk.imread('emdata_janelia_822252/3000_3100_4010.png')\n",
    "view(sample)"
   ]
  },
  {
   "cell_type": "code",
   "execution_count": 5,
   "id": "d1792a9c-5120-4627-b7cb-ddf98f0451dd",
   "metadata": {},
   "outputs": [],
   "source": [
    "stack = dask.array.image.imread('emdata_janelia_822252/*')\n",
    "stack"
   ]
  },
  {
   "cell_type": "code",
   "execution_count": null,
   "id": "b37a638b-3c96-41fc-bc75-67ce22cfdcf4",
   "metadata": {},
   "outputs": [],
   "source": [
    "view(stack, shadow=False, gradient_opacity=0.4, ui_collapsed=True)"
   ]
  },
  {
   "cell_type": "code",
   "execution_count": null,
   "id": "2069055f-ddb9-4979-958d-7177de4c1f68",
   "metadata": {},
   "outputs": [],
   "source": []
  }
 ],
 "metadata": {
  "kernelspec": {
   "display_name": "Python 3 (ipykernel)",
   "language": "python",
   "name": "python3"
  },
  "language_info": {
   "codemirror_mode": {
    "name": "ipython",
    "version": 3
   },
   "file_extension": ".py",
   "mimetype": "text/x-python",
   "name": "python",
   "nbconvert_exporter": "python",
   "pygments_lexer": "ipython3",
   "version": "3.8.10"
  }
 },
 "nbformat": 4,
 "nbformat_minor": 5
}
