{
 "cells": [
  {
   "cell_type": "code",
   "execution_count": 1,
   "id": "92213dba",
   "metadata": {},
   "outputs": [
    {
     "name": "stderr",
     "output_type": "stream",
     "text": [
      "2022-03-17 21:47:08.580576: W tensorflow/stream_executor/platform/default/dso_loader.cc:59] Could not load dynamic library 'libcudart.so.10.1'; dlerror: libcudart.so.10.1: cannot open shared object file: No such file or directory\n",
      "2022-03-17 21:47:08.580631: I tensorflow/stream_executor/cuda/cudart_stub.cc:29] Ignore above cudart dlerror if you do not have a GPU set up on your machine.\n"
     ]
    }
   ],
   "source": [
    "import numpy as np\n",
    "from tensorflow import keras\n",
    "from tensorflow.keras import layers"
   ]
  },
  {
   "cell_type": "code",
   "execution_count": 2,
   "id": "6bfd9ece",
   "metadata": {},
   "outputs": [
    {
     "name": "stdout",
     "output_type": "stream",
     "text": [
      "x_train shape: (60000, 28, 28, 1)\n",
      "60000 train samples\n",
      "10000 test samples\n"
     ]
    }
   ],
   "source": [
    "# Model / data parameters\n",
    "num_classes = 10\n",
    "input_shape = (28, 28, 1)\n",
    "\n",
    "# the data, split between train and test sets\n",
    "(x_train, y_train), (x_test, y_test) = keras.datasets.mnist.load_data()\n",
    "\n",
    "# Scale images to the [0, 1] range\n",
    "x_train = x_train.astype(\"float32\") / 255\n",
    "x_test = x_test.astype(\"float32\") / 255\n",
    "# Make sure images have shape (28, 28, 1)\n",
    "x_train = np.expand_dims(x_train, -1)\n",
    "x_test = np.expand_dims(x_test, -1)\n",
    "print(\"x_train shape:\", x_train.shape)\n",
    "print(x_train.shape[0], \"train samples\")\n",
    "print(x_test.shape[0], \"test samples\")\n",
    "\n",
    "\n",
    "# convert class vectors to binary class matrices\n",
    "y_train = keras.utils.to_categorical(y_train, num_classes)\n",
    "y_test = keras.utils.to_categorical(y_test, num_classes)"
   ]
  },
  {
   "cell_type": "code",
   "execution_count": 3,
   "id": "a7db24db",
   "metadata": {},
   "outputs": [
    {
     "name": "stdout",
     "output_type": "stream",
     "text": [
      "Model: \"sequential\"\n",
      "_________________________________________________________________\n",
      "Layer (type)                 Output Shape              Param #   \n",
      "=================================================================\n",
      "conv2d (Conv2D)              (None, 26, 26, 16)        160       \n",
      "_________________________________________________________________\n",
      "max_pooling2d (MaxPooling2D) (None, 13, 13, 16)        0         \n",
      "_________________________________________________________________\n",
      "conv2d_1 (Conv2D)            (None, 11, 11, 16)        2320      \n",
      "_________________________________________________________________\n",
      "max_pooling2d_1 (MaxPooling2 (None, 5, 5, 16)          0         \n",
      "_________________________________________________________________\n",
      "flatten (Flatten)            (None, 400)               0         \n",
      "_________________________________________________________________\n",
      "dropout (Dropout)            (None, 400)               0         \n",
      "_________________________________________________________________\n",
      "dense (Dense)                (None, 10)                4010      \n",
      "=================================================================\n",
      "Total params: 6,490\n",
      "Trainable params: 6,490\n",
      "Non-trainable params: 0\n",
      "_________________________________________________________________\n"
     ]
    },
    {
     "name": "stderr",
     "output_type": "stream",
     "text": [
      "2022-03-17 21:47:12.443722: I tensorflow/stream_executor/platform/default/dso_loader.cc:48] Successfully opened dynamic library libcuda.so.1\n",
      "2022-03-17 21:47:12.716482: E tensorflow/stream_executor/cuda/cuda_driver.cc:314] failed call to cuInit: CUDA_ERROR_NO_DEVICE: no CUDA-capable device is detected\n",
      "2022-03-17 21:47:12.716537: I tensorflow/stream_executor/cuda/cuda_diagnostics.cc:156] kernel driver does not appear to be running on this host (jsamranv): /proc/driver/nvidia/version does not exist\n",
      "2022-03-17 21:47:12.719154: I tensorflow/core/platform/cpu_feature_guard.cc:142] This TensorFlow binary is optimized with oneAPI Deep Neural Network Library (oneDNN)to use the following CPU instructions in performance-critical operations:  AVX2 AVX512F FMA\n",
      "To enable them in other operations, rebuild TensorFlow with the appropriate compiler flags.\n",
      "2022-03-17 21:47:12.728304: I tensorflow/core/platform/profile_utils/cpu_utils.cc:104] CPU Frequency: 2095219999 Hz\n",
      "2022-03-17 21:47:12.728410: I tensorflow/compiler/xla/service/service.cc:168] XLA service 0x55b6f6fd5bc0 initialized for platform Host (this does not guarantee that XLA will be used). Devices:\n",
      "2022-03-17 21:47:12.728421: I tensorflow/compiler/xla/service/service.cc:176]   StreamExecutor device (0): Host, Default Version\n"
     ]
    }
   ],
   "source": [
    "model = keras.Sequential(\n",
    "    [\n",
    "        keras.Input(shape=input_shape),\n",
    "        layers.Conv2D(16, kernel_size=(3, 3), activation=\"relu\"),\n",
    "        layers.MaxPooling2D(pool_size=(2, 2)),\n",
    "        layers.Conv2D(16, kernel_size=(3, 3), activation=\"relu\"),\n",
    "        layers.MaxPooling2D(pool_size=(2, 2)),\n",
    "        layers.Flatten(),\n",
    "        layers.Dropout(0.5),\n",
    "        layers.Dense(num_classes, activation=\"softmax\"),\n",
    "    ]\n",
    ")\n",
    "\n",
    "model.summary()"
   ]
  },
  {
   "cell_type": "code",
   "execution_count": 4,
   "id": "2489ca49",
   "metadata": {},
   "outputs": [],
   "source": [
    "model.compile(loss=\"categorical_crossentropy\", optimizer=\"adam\", metrics=[\"accuracy\"])"
   ]
  },
  {
   "cell_type": "code",
   "execution_count": 5,
   "id": "f504a7df",
   "metadata": {},
   "outputs": [],
   "source": [
    "from sklearn.utils import resample\n",
    "\n",
    "x_sampled, y_sampled = resample(x_train, y_train, replace=False, n_samples=10000)"
   ]
  },
  {
   "cell_type": "code",
   "execution_count": 28,
   "id": "5680a2d2",
   "metadata": {},
   "outputs": [
    {
     "name": "stdout",
     "output_type": "stream",
     "text": [
      "79/79 - 3s - loss: 0.0864 - accuracy: 0.9746\n",
      "79/79 - 3s - loss: 0.0832 - accuracy: 0.9726\n",
      "79/79 - 3s - loss: 0.0785 - accuracy: 0.9760\n",
      "79/79 - 3s - loss: 0.0851 - accuracy: 0.9717\n",
      "79/79 - 3s - loss: 0.0842 - accuracy: 0.9715\n",
      "79/79 - 3s - loss: 0.0815 - accuracy: 0.9743\n",
      "79/79 - 3s - loss: 0.0811 - accuracy: 0.9739\n",
      "79/79 - 3s - loss: 0.0742 - accuracy: 0.9765\n",
      "79/79 - 3s - loss: 0.0836 - accuracy: 0.9735\n",
      "79/79 - 3s - loss: 0.0840 - accuracy: 0.9711\n",
      "              f1  precision     recall  categorical_accuracy\n",
      "count  10.000000  10.000000  10.000000             10.000000\n",
      "mean    0.991445   0.992422   0.990471              0.991509\n",
      "std     0.001482   0.001321   0.001660              0.001682\n",
      "min     0.988219   0.989575   0.986867              0.987688\n",
      "25%     0.990986   0.991897   0.990056              0.991112\n",
      "50%     0.991667   0.992748   0.990625              0.991949\n",
      "75%     0.992411   0.993334   0.991525              0.992795\n",
      "max     0.993060   0.994007   0.992364              0.992931\n"
     ]
    },
    {
     "data": {
      "image/png": "[encoded data removed]",
      "text/plain": [
       "<Figure size 432x288 with 4 Axes>"
      ]
     },
     "metadata": {
      "needs_background": "light"
     },
     "output_type": "display_data"
    }
   ],
   "source": [
    "from BootstrapEval import bootstrap_eval\n",
    "from tensorflow.keras import backend as K\n",
    "from tensorflow.keras.metrics import categorical_accuracy\n",
    "\n",
    "def recall_m(y_true, y_pred):\n",
    "    TP = K.sum(K.round(K.clip(y_true * y_pred, 0, 1)))\n",
    "    Positives = K.sum(K.round(K.clip(y_true, 0, 1)))\n",
    "\n",
    "    recall = TP / (Positives+K.epsilon())    \n",
    "    return recall\n",
    "\n",
    "def precision_m(y_true, y_pred):\n",
    "    TP = K.sum(K.round(K.clip(y_true * y_pred, 0, 1)))\n",
    "    Pred_Positives = K.sum(K.round(K.clip(y_pred, 0, 1)))\n",
    "\n",
    "    precision = TP / (Pred_Positives+K.epsilon())\n",
    "    return precision \n",
    "    \n",
    "def f1(y_true, y_pred):    \n",
    "    precision, recall = precision_m(y_true, y_pred), recall_m(y_true, y_pred)\n",
    "    return 2*((precision*recall)/(precision+recall+K.epsilon()))\n",
    "\n",
    "def cat_acc(y_true, y_pred):\n",
    "    return np.mean(categorical_accuracy(y_true, y_pred).numpy())\n",
    "\n",
    "metrics = {\"f1\": f1, \"precision\": precision_m, \"recall\": recall_m, \"categorical_accuracy\": cat_acc}\n",
    "score_df = bootstrap_eval(metrics=metrics,\n",
    "                          model=model,\n",
    "                          X=x_sampled,\n",
    "                          y=y_sampled,\n",
    "                          B=10,\n",
    "                          optional_output=\"sh\",\n",
    "                          seed=None,\n",
    "                          batch_size=128, epochs=1, verbose=2)"
   ]
  },
  {
   "cell_type": "code",
   "execution_count": null,
   "id": "1428875e",
   "metadata": {},
   "outputs": [],
   "source": []
  }
 ],
 "metadata": {
  "kernel_info": {
   "name": "python38-azureml"
  },
  "kernelspec": {
   "display_name": "Python 3.8 - AzureML",
   "language": "python",
   "name": "python38-azureml"
  },
  "language_info": {
   "codemirror_mode": {
    "name": "ipython",
    "version": 3
   },
   "file_extension": ".py",
   "mimetype": "text/x-python",
   "name": "python",
   "nbconvert_exporter": "python",
   "pygments_lexer": "ipython3",
   "version": "3.8.1"
  },
  "nteract": {
   "version": "nteract-front-end@1.0.0"
  }
 },
 "nbformat": 4,
 "nbformat_minor": 5
}
