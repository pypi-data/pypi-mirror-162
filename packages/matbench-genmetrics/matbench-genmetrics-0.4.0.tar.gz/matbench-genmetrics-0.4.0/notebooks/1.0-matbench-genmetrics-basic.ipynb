{
  "cells": [
    {
      "cell_type": "markdown",
      "metadata": {
        "colab_type": "text",
        "id": "view-in-github"
      },
      "source": [
        "[![Open In Colab](https://colab.research.google.com/assets/colab-badge.svg)](https://colab.research.google.com/github/sparks-baird/matbench-genmetrics/blob/main/notebooks/1.0-matbench-genmetrics-basic.ipynb)"
      ]
    },
    {
      "cell_type": "markdown",
      "metadata": {
        "id": "UuyUq4fmcsKz"
      },
      "source": [
        "`pyyaml==5.4.1` just for `DummyGenerator`. See [SO post](https://stackoverflow.com/questions/69564817/typeerror-load-missing-1-required-positional-argument-loader-in-google-col)."
      ]
    },
    {
      "cell_type": "code",
      "execution_count": 1,
      "metadata": {
        "colab": {
          "base_uri": "https://localhost:8080/",
          "height": 1000
        },
        "id": "I8x-h1IDaQed",
        "outputId": "75b97c74-4860-4b68-d589-48786e924eb3"
      },
      "outputs": [
        {
          "name": "stdout",
          "output_type": "stream",
          "text": [
            "not in Colab\n"
          ]
        }
      ],
      "source": [
        "try:\n",
        "    import google.colab  # type: ignore # noqa: F401\n",
        "    %pip install matbench-genmetrics pyyaml==5.4.1\n",
        "except ImportError:\n",
        "    print(\"not in Colab\")"
      ]
    },
    {
      "cell_type": "code",
      "execution_count": 2,
      "metadata": {
        "colab": {
          "base_uri": "https://localhost:8080/"
        },
        "id": "ELRPHpcbaLsu",
        "outputId": "755ead2c-6842-4a9f-f23f-f2612170cedc"
      },
      "outputs": [
        {
          "data": {
            "application/vnd.jupyter.widget-view+json": {
              "model_id": "89d1657243a54e6eac5a56348e1d4fe7",
              "version_major": 2,
              "version_minor": 0
            },
            "text/plain": [
              "  0%|          | 0/5 [00:00<?, ?it/s]"
            ]
          },
          "metadata": {},
          "output_type": "display_data"
        },
        {
          "name": "stderr",
          "output_type": "stream",
          "text": [
            "Reading file c:\\Users\\sterg\\Miniconda3\\envs\\matbench-genmetrics\\lib\\site-packages\\mp_time_split\\utils\\mp_dummy_time_summary.json.gz: 0it [00:00, ?it/s]0, ?it/s]\n",
            "Decoding objects from c:\\Users\\sterg\\Miniconda3\\envs\\matbench-genmetrics\\lib\\site-packages\\mp_time_split\\utils\\mp_dummy_time_summary.json.gz: 100%|##########| 11/11 [00:00<00:00, 1819.15it/s]\n",
            "Reading file c:\\Users\\sterg\\Miniconda3\\envs\\matbench-genmetrics\\lib\\site-packages\\mp_time_split\\utils\\mp_dummy_time_summary.json.gz: 0it [00:00, ?it/s]0, ?it/s]\n",
            "Decoding objects from c:\\Users\\sterg\\Miniconda3\\envs\\matbench-genmetrics\\lib\\site-packages\\mp_time_split\\utils\\mp_dummy_time_summary.json.gz: 100%|##########| 11/11 [00:00<00:00, 2094.87it/s]\n",
            "Reading file c:\\Users\\sterg\\Miniconda3\\envs\\matbench-genmetrics\\lib\\site-packages\\mp_time_split\\utils\\mp_dummy_time_summary.json.gz: 0it [00:00, ?it/s]0, ?it/s]\n",
            "Decoding objects from c:\\Users\\sterg\\Miniconda3\\envs\\matbench-genmetrics\\lib\\site-packages\\mp_time_split\\utils\\mp_dummy_time_summary.json.gz: 100%|##########| 11/11 [00:00<00:00, 1794.04it/s]\n",
            "Reading file c:\\Users\\sterg\\Miniconda3\\envs\\matbench-genmetrics\\lib\\site-packages\\mp_time_split\\utils\\mp_dummy_time_summary.json.gz: 0it [00:00, ?it/s]0, ?it/s]\n",
            "Decoding objects from c:\\Users\\sterg\\Miniconda3\\envs\\matbench-genmetrics\\lib\\site-packages\\mp_time_split\\utils\\mp_dummy_time_summary.json.gz: 100%|##########| 11/11 [00:00<00:00, 1833.10it/s]\n",
            "Reading file c:\\Users\\sterg\\Miniconda3\\envs\\matbench-genmetrics\\lib\\site-packages\\mp_time_split\\utils\\mp_dummy_time_summary.json.gz: 0it [00:00, ?it/s]0, ?it/s]\n",
            "Decoding objects from c:\\Users\\sterg\\Miniconda3\\envs\\matbench-genmetrics\\lib\\site-packages\\mp_time_split\\utils\\mp_dummy_time_summary.json.gz: 100%|##########| 11/11 [00:00<00:00, 2200.26it/s]\n"
          ]
        },
        {
          "name": "stdout",
          "output_type": "stream",
          "text": [
            "{0: {'validity': 0.4375, 'coverage': 0.0, 'novelty': 1.0, 'uniqueness': 0.9555555555555556}, 1: {'validity': 0.4390681003584229, 'coverage': 0.0, 'novelty': 1.0, 'uniqueness': 0.9333333333333333}, 2: {'validity': 0.4401197604790419, 'coverage': 0.0, 'novelty': 1.0, 'uniqueness': 0.8888888888888888}, 3: {'validity': 0.4408740359897172, 'coverage': 0.0, 'novelty': 1.0, 'uniqueness': 0.8888888888888888}, 4: {'validity': 0.4414414414414415, 'coverage': 0.0, 'novelty': 1.0, 'uniqueness': 1.0}}\n"
          ]
        }
      ],
      "source": [
        "from mp_time_split.utils.gen import DummyGenerator\n",
        "from matbench_genmetrics.core import MPTSMetrics\n",
        "from tqdm.notebook import tqdm\n",
        "\n",
        "mptm = MPTSMetrics(dummy=True, verbose=False)\n",
        "for fold in tqdm(mptm.folds):\n",
        "    train_val_inputs = mptm.get_train_and_val_data(fold)\n",
        "\n",
        "    dg = DummyGenerator()\n",
        "    dg.fit(train_val_inputs)\n",
        "    gen_structures = dg.gen(n=10)\n",
        "\n",
        "    mptm.evaluate_and_record(fold, gen_structures)\n",
        "\n",
        "print(mptm.recorded_metrics)"
      ]
    },
    {
      "cell_type": "code",
      "execution_count": null,
      "metadata": {},
      "outputs": [],
      "source": []
    }
  ],
  "metadata": {
    "colab": {
      "authorship_tag": "ABX9TyM7lZwyW6BRzFicX7nrCR4Z",
      "include_colab_link": true,
      "name": "1.0-matbench-genmetrics-basic.ipynb",
      "provenance": []
    },
    "kernelspec": {
      "display_name": "Python 3.9.12 ('matbench-genmetrics')",
      "language": "python",
      "name": "python3"
    },
    "language_info": {
      "codemirror_mode": {
        "name": "ipython",
        "version": 3
      },
      "file_extension": ".py",
      "mimetype": "text/x-python",
      "name": "python",
      "nbconvert_exporter": "python",
      "pygments_lexer": "ipython3",
      "version": "3.9.12"
    },
    "vscode": {
      "interpreter": {
        "hash": "d2f48d3dafb56173acbe673856209ccdb111702e2fa202d4a97a890dec519891"
      }
    }
  },
  "nbformat": 4,
  "nbformat_minor": 0
}
