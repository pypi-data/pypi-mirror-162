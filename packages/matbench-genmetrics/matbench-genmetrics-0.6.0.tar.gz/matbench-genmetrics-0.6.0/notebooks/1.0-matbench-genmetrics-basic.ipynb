{
  "cells": [
    {
      "cell_type": "markdown",
      "metadata": {
        "colab_type": "text",
        "id": "view-in-github"
      },
      "source": [
        "<a href=\"https://colab.research.google.com/github/sparks-baird/matbench-genmetrics/blob/notebooks/notebooks/1.0-matbench-genmetrics-basic.ipynb\" target=\"_parent\"><img src=\"https://colab.research.google.com/assets/colab-badge.svg\" alt=\"Open In Colab\"/></a>"
      ]
    },
    {
      "cell_type": "markdown",
      "metadata": {
        "id": "wKCu_chJrCRa"
      },
      "source": [
        "`pyyaml==5.4.1` just for `DummyGenerator` on Colab. See [SO post](https://stackoverflow.com/questions/69564817/typeerror-load-missing-1-required-positional-argument-loader-in-google-col).\n",
        "\n",
        "<font color=\"red\">**NOTE: If using Colab, \"Restart Runtime\" after installation.**</font>"
      ]
    },
    {
      "cell_type": "code",
      "execution_count": 1,
      "metadata": {
        "colab": {
          "base_uri": "https://localhost:8080/",
          "height": 1000
        },
        "id": "I8x-h1IDaQed",
        "outputId": "85f2ea84-cd73-4746-ef62-7f77d2cc4716"
      },
      "outputs": [
        {
          "name": "stdout",
          "output_type": "stream",
          "text": [
            "not in Colab\n"
          ]
        }
      ],
      "source": [
        "%load_ext autoreload\n",
        "%autoreload 2\n",
        "try:\n",
        "    import google.colab  # type: ignore # noqa: F401\n",
        "    %pip install matbench-genmetrics pyyaml==5.4.1\n",
        "except ImportError:\n",
        "    print(\"not in Colab\")"
      ]
    },
    {
      "cell_type": "code",
      "execution_count": 2,
      "metadata": {
        "colab": {
          "base_uri": "https://localhost:8080/",
          "height": 694,
          "referenced_widgets": [
            "3ea0d9384b1540e49aa98e8ceb1f9d2c",
            "9adf9bba70344a2d989eca3a200ccbfc",
            "9e4c5c387e254cdaa95532d6c454f2ef",
            "b21188b862af4fa9b936f79f3b02e547",
            "648b6613c6fe4094a57e92c4a211176d",
            "cea10a3253974c48b6ea128256fe758e",
            "309d497bfbfa4b54ba94739952e1501d",
            "95540d4f0cfb4c2f8bba97b2376649b9",
            "04195646383b4d37be4cb26f80eeaad0",
            "f980e888d2384fad9dba96082b639a5e",
            "bf19fd5980ef4b67a2e124c9706aaec5"
          ]
        },
        "id": "ELRPHpcbaLsu",
        "outputId": "306ca5a6-6a4d-4b09-f89b-e11d73defd0e"
      },
      "outputs": [
        {
          "data": {
            "application/vnd.jupyter.widget-view+json": {
              "model_id": "ecaede70524b4272b3d4c9881d8977ee",
              "version_major": 2,
              "version_minor": 0
            },
            "text/plain": [
              "  0%|          | 0/5 [00:00<?, ?it/s]"
            ]
          },
          "metadata": {},
          "output_type": "display_data"
        },
        {
          "name": "stderr",
          "output_type": "stream",
          "text": [
            "Reading file c:\\Users\\sterg\\Miniconda3\\envs\\matbench-genmetrics\\lib\\site-packages\\mp_time_split\\utils\\mp_dummy_time_summary.json.gz: 0it [00:00, ?it/s]0, ?it/s]\n",
            "Decoding objects from c:\\Users\\sterg\\Miniconda3\\envs\\matbench-genmetrics\\lib\\site-packages\\mp_time_split\\utils\\mp_dummy_time_summary.json.gz: 100%|##########| 11/11 [00:00<00:00, 2202.58it/s]\n",
            "DEBUG:pystow.utils:did not re-download C:\\Users\\sterg\\.data\\matbench-genmetrics\\dummy_comp_fingerprints.csv from https://figshare.com/ndownloader/files/36582174\n",
            "DEBUG:pystow.utils:did not re-download C:\\Users\\sterg\\.data\\matbench-genmetrics\\dummy_struct_fingerprints.csv from https://figshare.com/ndownloader/files/36582177\n"
          ]
        },
        {
          "data": {
            "application/vnd.jupyter.widget-view+json": {
              "model_id": "f315d994a394412abeca3bd01822c127",
              "version_major": 2,
              "version_minor": 0
            },
            "text/plain": [
              "ElementProperty:   0%|          | 0/10 [00:00<?, ?it/s]"
            ]
          },
          "metadata": {},
          "output_type": "display_data"
        },
        {
          "data": {
            "application/vnd.jupyter.widget-view+json": {
              "model_id": "61b3db89fa9f40d3b3f74ae07eaf2437",
              "version_major": 2,
              "version_minor": 0
            },
            "text/plain": [
              "SiteStatsFingerprint:   0%|          | 0/10 [00:00<?, ?it/s]"
            ]
          },
          "metadata": {},
          "output_type": "display_data"
        },
        {
          "name": "stderr",
          "output_type": "stream",
          "text": [
            "INFO:matbench_genmetrics.utils.match:Computing composition match matrix\n",
            "INFO:matbench_genmetrics.utils.match:Computing structure match matrix\n",
            "INFO:matbench_genmetrics.utils.match:Computing composition match matrix\n",
            "INFO:matbench_genmetrics.utils.match:Computing structure match matrix\n",
            "INFO:matbench_genmetrics.utils.match:Computing composition match matrix\n",
            "INFO:matbench_genmetrics.utils.match:Computing structure match matrix\n",
            "DEBUG:pystow.utils:did not re-download C:\\Users\\sterg\\.data\\matbench-genmetrics\\dummy_comp_fingerprints.csv from https://figshare.com/ndownloader/files/36582174\n",
            "DEBUG:pystow.utils:did not re-download C:\\Users\\sterg\\.data\\matbench-genmetrics\\dummy_struct_fingerprints.csv from https://figshare.com/ndownloader/files/36582177\n"
          ]
        },
        {
          "data": {
            "application/vnd.jupyter.widget-view+json": {
              "model_id": "aa7a7777220d4fd2bd3dcdb23f8a8079",
              "version_major": 2,
              "version_minor": 0
            },
            "text/plain": [
              "ElementProperty:   0%|          | 0/10 [00:00<?, ?it/s]"
            ]
          },
          "metadata": {},
          "output_type": "display_data"
        },
        {
          "data": {
            "application/vnd.jupyter.widget-view+json": {
              "model_id": "b86242663947473296c1d32108e490bf",
              "version_major": 2,
              "version_minor": 0
            },
            "text/plain": [
              "SiteStatsFingerprint:   0%|          | 0/10 [00:00<?, ?it/s]"
            ]
          },
          "metadata": {},
          "output_type": "display_data"
        },
        {
          "name": "stderr",
          "output_type": "stream",
          "text": [
            "INFO:matbench_genmetrics.utils.match:Computing composition match matrix\n",
            "INFO:matbench_genmetrics.utils.match:Computing structure match matrix\n",
            "INFO:matbench_genmetrics.utils.match:Computing composition match matrix\n",
            "INFO:matbench_genmetrics.utils.match:Computing structure match matrix\n",
            "INFO:matbench_genmetrics.utils.match:Computing composition match matrix\n",
            "INFO:matbench_genmetrics.utils.match:Computing structure match matrix\n",
            "DEBUG:pystow.utils:did not re-download C:\\Users\\sterg\\.data\\matbench-genmetrics\\dummy_comp_fingerprints.csv from https://figshare.com/ndownloader/files/36582174\n",
            "DEBUG:pystow.utils:did not re-download C:\\Users\\sterg\\.data\\matbench-genmetrics\\dummy_struct_fingerprints.csv from https://figshare.com/ndownloader/files/36582177\n"
          ]
        },
        {
          "ename": "KeyboardInterrupt",
          "evalue": "",
          "output_type": "error",
          "traceback": [
            "\u001b[1;31m---------------------------------------------------------------------------\u001b[0m",
            "\u001b[1;31mKeyboardInterrupt\u001b[0m                         Traceback (most recent call last)",
            "\u001b[1;32mc:\\Users\\sterg\\Documents\\GitHub\\sparks-baird\\matbench-genmetrics\\notebooks\\1.0-matbench-genmetrics-basic.ipynb Cell 4\u001b[0m in \u001b[0;36m<cell line: 7>\u001b[1;34m()\u001b[0m\n\u001b[0;32m     <a href='vscode-notebook-cell:/c%3A/Users/sterg/Documents/GitHub/sparks-baird/matbench-genmetrics/notebooks/1.0-matbench-genmetrics-basic.ipynb#W3sZmlsZQ%3D%3D?line=9'>10</a>\u001b[0m     dg \u001b[39m=\u001b[39m DummyGenerator()\n\u001b[0;32m     <a href='vscode-notebook-cell:/c%3A/Users/sterg/Documents/GitHub/sparks-baird/matbench-genmetrics/notebooks/1.0-matbench-genmetrics-basic.ipynb#W3sZmlsZQ%3D%3D?line=10'>11</a>\u001b[0m     dg\u001b[39m.\u001b[39mfit(train_val_inputs)\n\u001b[1;32m---> <a href='vscode-notebook-cell:/c%3A/Users/sterg/Documents/GitHub/sparks-baird/matbench-genmetrics/notebooks/1.0-matbench-genmetrics-basic.ipynb#W3sZmlsZQ%3D%3D?line=11'>12</a>\u001b[0m     gen_structures \u001b[39m=\u001b[39m dg\u001b[39m.\u001b[39;49mgen(n\u001b[39m=\u001b[39;49m\u001b[39m10\u001b[39;49m)\n\u001b[0;32m     <a href='vscode-notebook-cell:/c%3A/Users/sterg/Documents/GitHub/sparks-baird/matbench-genmetrics/notebooks/1.0-matbench-genmetrics-basic.ipynb#W3sZmlsZQ%3D%3D?line=13'>14</a>\u001b[0m     mptm\u001b[39m.\u001b[39mevaluate_and_record(fold, gen_structures)\n\u001b[0;32m     <a href='vscode-notebook-cell:/c%3A/Users/sterg/Documents/GitHub/sparks-baird/matbench-genmetrics/notebooks/1.0-matbench-genmetrics-basic.ipynb#W3sZmlsZQ%3D%3D?line=15'>16</a>\u001b[0m pprint(mptm\u001b[39m.\u001b[39mrecorded_metrics)\n",
            "File \u001b[1;32mc:\\Users\\sterg\\Miniconda3\\envs\\matbench-genmetrics\\lib\\site-packages\\mp_time_split\\utils\\gen.py:21\u001b[0m, in \u001b[0;36mDummyGenerator.gen\u001b[1;34m(self, n)\u001b[0m\n\u001b[0;32m     19\u001b[0m structures \u001b[39m=\u001b[39m []\n\u001b[0;32m     20\u001b[0m \u001b[39mfor\u001b[39;00m _ \u001b[39min\u001b[39;00m \u001b[39mrange\u001b[39m(n):\n\u001b[1;32m---> 21\u001b[0m     crystal\u001b[39m.\u001b[39;49mfrom_random(\u001b[39m3\u001b[39;49m, \u001b[39m99\u001b[39;49m, [\u001b[39m\"\u001b[39;49m\u001b[39mBa\u001b[39;49m\u001b[39m\"\u001b[39;49m, \u001b[39m\"\u001b[39;49m\u001b[39mTi\u001b[39;49m\u001b[39m\"\u001b[39;49m, \u001b[39m\"\u001b[39;49m\u001b[39mO\u001b[39;49m\u001b[39m\"\u001b[39;49m], [\u001b[39m1\u001b[39;49m, \u001b[39m1\u001b[39;49m, \u001b[39m3\u001b[39;49m])\n\u001b[0;32m     22\u001b[0m     structures\u001b[39m.\u001b[39mappend(crystal\u001b[39m.\u001b[39mto_pymatgen())\n\u001b[0;32m     23\u001b[0m \u001b[39mreturn\u001b[39;00m structures\n",
            "File \u001b[1;32mc:\\Users\\sterg\\Miniconda3\\envs\\matbench-genmetrics\\lib\\site-packages\\pyxtal\\__init__.py:311\u001b[0m, in \u001b[0;36mpyxtal.from_random\u001b[1;34m(self, dim, group, species, numIons, factor, thickness, area, lattice, sites, conventional, t_factor, max_count, torsions, force_pass, block, num_block, seed, tm, use_hall)\u001b[0m\n\u001b[0;32m    293\u001b[0m     struc \u001b[39m=\u001b[39m block_crystal(dim,\n\u001b[0;32m    294\u001b[0m                           group,\n\u001b[0;32m    295\u001b[0m                           species,\n\u001b[1;32m   (...)\u001b[0m\n\u001b[0;32m    308\u001b[0m                           use_hall \u001b[39m=\u001b[39m use_hall,\n\u001b[0;32m    309\u001b[0m                           )\n\u001b[0;32m    310\u001b[0m \u001b[39melse\u001b[39;00m:\n\u001b[1;32m--> 311\u001b[0m     struc \u001b[39m=\u001b[39m random_crystal(dim,\n\u001b[0;32m    312\u001b[0m                            group,\n\u001b[0;32m    313\u001b[0m                            species,\n\u001b[0;32m    314\u001b[0m                            numIons,\n\u001b[0;32m    315\u001b[0m                            factor,\n\u001b[0;32m    316\u001b[0m                            thickness,\n\u001b[0;32m    317\u001b[0m                            area,\n\u001b[0;32m    318\u001b[0m                            lattice,\n\u001b[0;32m    319\u001b[0m                            sites,\n\u001b[0;32m    320\u001b[0m                            conventional,\n\u001b[0;32m    321\u001b[0m                            tm,\n\u001b[0;32m    322\u001b[0m                            use_hall \u001b[39m=\u001b[39;49m use_hall,\n\u001b[0;32m    323\u001b[0m                            )\n\u001b[0;32m    324\u001b[0m \u001b[39mif\u001b[39;00m force_pass:\n\u001b[0;32m    325\u001b[0m     quit \u001b[39m=\u001b[39m \u001b[39mTrue\u001b[39;00m\n",
            "File \u001b[1;32mc:\\Users\\sterg\\Miniconda3\\envs\\matbench-genmetrics\\lib\\site-packages\\pyxtal\\crystal.py:114\u001b[0m, in \u001b[0;36mrandom_crystal.__init__\u001b[1;34m(self, dim, group, species, numIons, factor, thickness, area, lattice, sites, conventional, tm, use_hall)\u001b[0m\n\u001b[0;32m    112\u001b[0m \u001b[39mself\u001b[39m\u001b[39m.\u001b[39mset_volume()\n\u001b[0;32m    113\u001b[0m \u001b[39mself\u001b[39m\u001b[39m.\u001b[39mset_lattice(lattice)\n\u001b[1;32m--> 114\u001b[0m \u001b[39mself\u001b[39;49m\u001b[39m.\u001b[39;49mset_crystal()\n",
            "File \u001b[1;32mc:\\Users\\sterg\\Miniconda3\\envs\\matbench-genmetrics\\lib\\site-packages\\pyxtal\\crystal.py:249\u001b[0m, in \u001b[0;36mrandom_crystal.set_crystal\u001b[1;34m(self)\u001b[0m\n\u001b[0;32m    247\u001b[0m \u001b[39mfor\u001b[39;00m cycle2 \u001b[39min\u001b[39;00m \u001b[39mrange\u001b[39m(\u001b[39mself\u001b[39m\u001b[39m.\u001b[39mcoord_attempts):\n\u001b[0;32m    248\u001b[0m     \u001b[39mself\u001b[39m\u001b[39m.\u001b[39mcycle2 \u001b[39m=\u001b[39m cycle2\n\u001b[1;32m--> 249\u001b[0m     output \u001b[39m=\u001b[39m \u001b[39mself\u001b[39;49m\u001b[39m.\u001b[39;49m_set_coords()\n\u001b[0;32m    251\u001b[0m     \u001b[39mif\u001b[39;00m output:\n\u001b[0;32m    252\u001b[0m         \u001b[39mself\u001b[39m\u001b[39m.\u001b[39matom_sites \u001b[39m=\u001b[39m output\n",
            "File \u001b[1;32mc:\\Users\\sterg\\Miniconda3\\envs\\matbench-genmetrics\\lib\\site-packages\\pyxtal\\crystal.py:269\u001b[0m, in \u001b[0;36mrandom_crystal._set_coords\u001b[1;34m(self)\u001b[0m\n\u001b[0;32m    267\u001b[0m \u001b[39m# generate coordinates for each ion type in turn\u001b[39;00m\n\u001b[0;32m    268\u001b[0m \u001b[39mfor\u001b[39;00m numIon, specie \u001b[39min\u001b[39;00m \u001b[39mzip\u001b[39m(\u001b[39mself\u001b[39m\u001b[39m.\u001b[39mnumIons, \u001b[39mself\u001b[39m\u001b[39m.\u001b[39mspecies):\n\u001b[1;32m--> 269\u001b[0m     output \u001b[39m=\u001b[39m \u001b[39mself\u001b[39;49m\u001b[39m.\u001b[39;49m_set_ion_wyckoffs(numIon, specie, cell, wyks)\n\u001b[0;32m    270\u001b[0m     \u001b[39mif\u001b[39;00m output \u001b[39mis\u001b[39;00m \u001b[39mnot\u001b[39;00m \u001b[39mNone\u001b[39;00m:\n\u001b[0;32m    271\u001b[0m         wyks\u001b[39m.\u001b[39mextend(output)\n",
            "File \u001b[1;32mc:\\Users\\sterg\\Miniconda3\\envs\\matbench-genmetrics\\lib\\site-packages\\pyxtal\\crystal.py:331\u001b[0m, in \u001b[0;36mrandom_crystal._set_ion_wyckoffs\u001b[1;34m(self, numIon, specie, cell, wyks)\u001b[0m\n\u001b[0;32m    329\u001b[0m pt \u001b[39m=\u001b[39m \u001b[39mself\u001b[39m\u001b[39m.\u001b[39mlattice\u001b[39m.\u001b[39mgenerate_point()\n\u001b[0;32m    330\u001b[0m \u001b[39m# Merge coordinates if the atoms are close\u001b[39;00m\n\u001b[1;32m--> 331\u001b[0m pt, wp, _ \u001b[39m=\u001b[39m wp\u001b[39m.\u001b[39;49mmerge(pt, cell, tol)\n\u001b[0;32m    332\u001b[0m \u001b[39m# For pure planar structure\u001b[39;00m\n\u001b[0;32m    333\u001b[0m \u001b[39mif\u001b[39;00m \u001b[39mself\u001b[39m\u001b[39m.\u001b[39mdim \u001b[39m==\u001b[39m \u001b[39m2\u001b[39m \u001b[39mand\u001b[39;00m \u001b[39mself\u001b[39m\u001b[39m.\u001b[39mthickness \u001b[39mis\u001b[39;00m \u001b[39mnot\u001b[39;00m \u001b[39mNone\u001b[39;00m \u001b[39mand\u001b[39;00m \\\n\u001b[0;32m    334\u001b[0m     \u001b[39mself\u001b[39m\u001b[39m.\u001b[39mthickness \u001b[39m<\u001b[39m \u001b[39m0.1\u001b[39m:\n",
            "File \u001b[1;32mc:\\Users\\sterg\\Miniconda3\\envs\\matbench-genmetrics\\lib\\site-packages\\pyxtal\\symmetry.py:1920\u001b[0m, in \u001b[0;36mWyckoff_position.merge\u001b[1;34m(self, pt, lattice, tol, orientations)\u001b[0m\n\u001b[0;32m   1918\u001b[0m PBC \u001b[39m=\u001b[39m wp\u001b[39m.\u001b[39mPBC\n\u001b[0;32m   1919\u001b[0m group \u001b[39m=\u001b[39m Group(wp\u001b[39m.\u001b[39mnumber, wp\u001b[39m.\u001b[39mdim)\n\u001b[1;32m-> 1920\u001b[0m pt \u001b[39m=\u001b[39m \u001b[39mself\u001b[39;49m\u001b[39m.\u001b[39;49mproject(pt, lattice, PBC)\n\u001b[0;32m   1921\u001b[0m coor \u001b[39m=\u001b[39m apply_ops(pt, wp)\n\u001b[0;32m   1922\u001b[0m \u001b[39mif\u001b[39;00m orientations \u001b[39mis\u001b[39;00m \u001b[39mNone\u001b[39;00m:\n",
            "File \u001b[1;32mc:\\Users\\sterg\\Miniconda3\\envs\\matbench-genmetrics\\lib\\site-packages\\pyxtal\\symmetry.py:2168\u001b[0m, in \u001b[0;36mWyckoff_position.project\u001b[1;34m(self, point, cell, PBC, id)\u001b[0m\n\u001b[0;32m   2166\u001b[0m distances \u001b[39m=\u001b[39m []\n\u001b[0;32m   2167\u001b[0m \u001b[39mfor\u001b[39;00m v \u001b[39min\u001b[39;00m m:\n\u001b[1;32m-> 2168\u001b[0m     new_vector \u001b[39m=\u001b[39m project_single(pt, rot, trans\u001b[39m+\u001b[39;49mv)\n\u001b[0;32m   2169\u001b[0m     new_vectors\u001b[39m.\u001b[39mappend(new_vector)\n\u001b[0;32m   2170\u001b[0m     tmp \u001b[39m=\u001b[39m (new_vector\u001b[39m-\u001b[39mpoint)\u001b[39m.\u001b[39mdot(cell)\n",
            "File \u001b[1;32mc:\\Users\\sterg\\Miniconda3\\envs\\matbench-genmetrics\\lib\\site-packages\\pyxtal\\symmetry.py:2156\u001b[0m, in \u001b[0;36mWyckoff_position.project.<locals>.project_single\u001b[1;34m(point, rot, trans)\u001b[0m\n\u001b[0;32m   2154\u001b[0m     \u001b[39m#if not np.isclose(b, 0):\u001b[39;00m\n\u001b[0;32m   2155\u001b[0m     \u001b[39mif\u001b[39;00m b \u001b[39m>\u001b[39m \u001b[39m1e-3\u001b[39m:\n\u001b[1;32m-> 2156\u001b[0m         new_vector \u001b[39m+\u001b[39m\u001b[39m=\u001b[39m basis_vector \u001b[39m*\u001b[39m (np\u001b[39m.\u001b[39;49mdot(point, basis_vector) \u001b[39m/\u001b[39m (b \u001b[39m*\u001b[39m\u001b[39m*\u001b[39m \u001b[39m2\u001b[39m))\n\u001b[0;32m   2157\u001b[0m new_vector \u001b[39m+\u001b[39m\u001b[39m=\u001b[39m trans\n\u001b[0;32m   2158\u001b[0m \u001b[39mreturn\u001b[39;00m new_vector\n",
            "File \u001b[1;32m<__array_function__ internals>:180\u001b[0m, in \u001b[0;36mdot\u001b[1;34m(*args, **kwargs)\u001b[0m\n",
            "\u001b[1;31mKeyboardInterrupt\u001b[0m: "
          ]
        }
      ],
      "source": [
        "from mp_time_split.utils.gen import DummyGenerator\n",
        "from matbench_genmetrics.core import MPTSMetrics10, MPTSMetrics100, MPTSMetrics1000, MPTSMetrics10000\n",
        "from tqdm.notebook import tqdm\n",
        "from pprint import pprint\n",
        "\n",
        "mptm = MPTSMetrics10(dummy=True, verbose=True)\n",
        "for fold in tqdm(mptm.folds):\n",
        "    train_val_inputs = mptm.get_train_and_val_data(fold)\n",
        "\n",
        "    dg = DummyGenerator()\n",
        "    dg.fit(train_val_inputs)\n",
        "    gen_structures = dg.gen(n=10)\n",
        "\n",
        "    mptm.evaluate_and_record(fold, gen_structures)\n",
        "\n",
        "pprint(mptm.recorded_metrics)"
      ]
    },
    {
      "cell_type": "code",
      "execution_count": 3,
      "metadata": {
        "colab": {
          "base_uri": "https://localhost:8080/",
          "height": 173,
          "referenced_widgets": [
            "9577147df3864eca9185925dc48ccb7b",
            "977aa854d9c3421e9273d629cede1d86",
            "bae8d4921e2148cb925a0962f41a6184",
            "1edc04cabb66434fa34e8ad666b70778",
            "f358d26c3fc14761866907ad409ef193",
            "8ca9e4bfab754fee929f41e52f347128",
            "5a4f9e6d40d74f1294de1718a9637111",
            "10639805e41d49adb805b4086eb3aa3f",
            "88f9f207dd374250b09258ac5c8a405f",
            "37d8d9e20c0043638b3f62305b77dcb6",
            "431a7a45bc424b8d8749444ea3ecefab"
          ]
        },
        "id": "8xDhvtf7i1-d",
        "outputId": "51e959d2-b763-42c3-a651-72a2cc31b177"
      },
      "outputs": [
        {
          "data": {
            "application/vnd.jupyter.widget-view+json": {
              "model_id": "3d5cccf742554a979351c8a3ff6f9a49",
              "version_major": 2,
              "version_minor": 0
            },
            "text/plain": [
              "  0%|          | 0/5 [00:00<?, ?it/s]"
            ]
          },
          "metadata": {},
          "output_type": "display_data"
        },
        {
          "name": "stderr",
          "output_type": "stream",
          "text": [
            "Reading file c:\\Users\\sterg\\Miniconda3\\envs\\matbench-genmetrics\\lib\\site-packages\\mp_time_split\\utils\\mp_time_summary.json.gz: 0it [00:54, ?it/s]#####9| 40455/40476 [00:54<00:00, 1004.29it/s]\n",
            "Decoding objects from c:\\Users\\sterg\\Miniconda3\\envs\\matbench-genmetrics\\lib\\site-packages\\mp_time_split\\utils\\mp_time_summary.json.gz: 100%|##########| 40476/40476 [00:54<00:00, 740.90it/s] \n",
            "DEBUG:pystow.utils:did not re-download C:\\Users\\sterg\\.data\\matbench-genmetrics\\comp_fingerprints.csv from https://figshare.com/ndownloader/files/36581838\n",
            "DEBUG:pystow.utils:did not re-download C:\\Users\\sterg\\.data\\matbench-genmetrics\\struct_fingerprints.csv from https://figshare.com/ndownloader/files/36581841\n"
          ]
        },
        {
          "data": {
            "application/vnd.jupyter.widget-view+json": {
              "model_id": "5e8916484d974b9280f79668ecf5288a",
              "version_major": 2,
              "version_minor": 0
            },
            "text/plain": [
              "ElementProperty:   0%|          | 0/100 [00:00<?, ?it/s]"
            ]
          },
          "metadata": {},
          "output_type": "display_data"
        },
        {
          "data": {
            "application/vnd.jupyter.widget-view+json": {
              "model_id": "d10cdc3c77f647fa8bb40aa6de494a5c",
              "version_major": 2,
              "version_minor": 0
            },
            "text/plain": [
              "SiteStatsFingerprint:   0%|          | 0/100 [00:00<?, ?it/s]"
            ]
          },
          "metadata": {},
          "output_type": "display_data"
        },
        {
          "name": "stderr",
          "output_type": "stream",
          "text": [
            "INFO:matbench_genmetrics.utils.match:Computing composition match matrix\n",
            "INFO:matbench_genmetrics.utils.match:Computing structure match matrix\n",
            "INFO:matbench_genmetrics.utils.match:Computing composition match matrix\n",
            "INFO:matbench_genmetrics.utils.match:Computing structure match matrix\n",
            "INFO:matbench_genmetrics.utils.match:Computing composition match matrix\n",
            "INFO:matbench_genmetrics.utils.match:Computing structure match matrix\n",
            "DEBUG:pystow.utils:did not re-download C:\\Users\\sterg\\.data\\matbench-genmetrics\\comp_fingerprints.csv from https://figshare.com/ndownloader/files/36581838\n",
            "DEBUG:pystow.utils:did not re-download C:\\Users\\sterg\\.data\\matbench-genmetrics\\struct_fingerprints.csv from https://figshare.com/ndownloader/files/36581841\n"
          ]
        },
        {
          "data": {
            "application/vnd.jupyter.widget-view+json": {
              "model_id": "0dc7d103c67646a8aa425ece10beb25b",
              "version_major": 2,
              "version_minor": 0
            },
            "text/plain": [
              "ElementProperty:   0%|          | 0/100 [00:00<?, ?it/s]"
            ]
          },
          "metadata": {},
          "output_type": "display_data"
        },
        {
          "data": {
            "application/vnd.jupyter.widget-view+json": {
              "model_id": "ce63a0af8db848e1a9a5f759164422b5",
              "version_major": 2,
              "version_minor": 0
            },
            "text/plain": [
              "SiteStatsFingerprint:   0%|          | 0/100 [00:00<?, ?it/s]"
            ]
          },
          "metadata": {},
          "output_type": "display_data"
        },
        {
          "name": "stderr",
          "output_type": "stream",
          "text": [
            "INFO:matbench_genmetrics.utils.match:Computing composition match matrix\n",
            "INFO:matbench_genmetrics.utils.match:Computing structure match matrix\n",
            "INFO:matbench_genmetrics.utils.match:Computing composition match matrix\n",
            "INFO:matbench_genmetrics.utils.match:Computing structure match matrix\n",
            "INFO:matbench_genmetrics.utils.match:Computing composition match matrix\n",
            "INFO:matbench_genmetrics.utils.match:Computing structure match matrix\n",
            "DEBUG:pystow.utils:did not re-download C:\\Users\\sterg\\.data\\matbench-genmetrics\\comp_fingerprints.csv from https://figshare.com/ndownloader/files/36581838\n",
            "DEBUG:pystow.utils:did not re-download C:\\Users\\sterg\\.data\\matbench-genmetrics\\struct_fingerprints.csv from https://figshare.com/ndownloader/files/36581841\n"
          ]
        },
        {
          "data": {
            "application/vnd.jupyter.widget-view+json": {
              "model_id": "5572d285566b44f0bb531e94b824ea5c",
              "version_major": 2,
              "version_minor": 0
            },
            "text/plain": [
              "ElementProperty:   0%|          | 0/100 [00:00<?, ?it/s]"
            ]
          },
          "metadata": {},
          "output_type": "display_data"
        },
        {
          "data": {
            "application/vnd.jupyter.widget-view+json": {
              "model_id": "cfa5c3ffb8234c1c9306fb5e7e1a9cf5",
              "version_major": 2,
              "version_minor": 0
            },
            "text/plain": [
              "SiteStatsFingerprint:   0%|          | 0/100 [00:00<?, ?it/s]"
            ]
          },
          "metadata": {},
          "output_type": "display_data"
        },
        {
          "name": "stderr",
          "output_type": "stream",
          "text": [
            "INFO:matbench_genmetrics.utils.match:Computing composition match matrix\n",
            "INFO:matbench_genmetrics.utils.match:Computing structure match matrix\n",
            "INFO:matbench_genmetrics.utils.match:Computing composition match matrix\n",
            "INFO:matbench_genmetrics.utils.match:Computing structure match matrix\n",
            "INFO:matbench_genmetrics.utils.match:Computing composition match matrix\n",
            "INFO:matbench_genmetrics.utils.match:Computing structure match matrix\n",
            "DEBUG:pystow.utils:did not re-download C:\\Users\\sterg\\.data\\matbench-genmetrics\\comp_fingerprints.csv from https://figshare.com/ndownloader/files/36581838\n",
            "DEBUG:pystow.utils:did not re-download C:\\Users\\sterg\\.data\\matbench-genmetrics\\struct_fingerprints.csv from https://figshare.com/ndownloader/files/36581841\n"
          ]
        },
        {
          "data": {
            "application/vnd.jupyter.widget-view+json": {
              "model_id": "b08715a8049b4489b5f0f7f286a70e8d",
              "version_major": 2,
              "version_minor": 0
            },
            "text/plain": [
              "ElementProperty:   0%|          | 0/100 [00:00<?, ?it/s]"
            ]
          },
          "metadata": {},
          "output_type": "display_data"
        },
        {
          "data": {
            "application/vnd.jupyter.widget-view+json": {
              "model_id": "517f64a0d3d444b0ab611f08c4c1b26d",
              "version_major": 2,
              "version_minor": 0
            },
            "text/plain": [
              "SiteStatsFingerprint:   0%|          | 0/100 [00:00<?, ?it/s]"
            ]
          },
          "metadata": {},
          "output_type": "display_data"
        },
        {
          "name": "stderr",
          "output_type": "stream",
          "text": [
            "INFO:matbench_genmetrics.utils.match:Computing composition match matrix\n",
            "INFO:matbench_genmetrics.utils.match:Computing structure match matrix\n",
            "INFO:matbench_genmetrics.utils.match:Computing composition match matrix\n",
            "INFO:matbench_genmetrics.utils.match:Computing structure match matrix\n",
            "INFO:matbench_genmetrics.utils.match:Computing composition match matrix\n",
            "INFO:matbench_genmetrics.utils.match:Computing structure match matrix\n",
            "DEBUG:pystow.utils:did not re-download C:\\Users\\sterg\\.data\\matbench-genmetrics\\comp_fingerprints.csv from https://figshare.com/ndownloader/files/36581838\n",
            "DEBUG:pystow.utils:did not re-download C:\\Users\\sterg\\.data\\matbench-genmetrics\\struct_fingerprints.csv from https://figshare.com/ndownloader/files/36581841\n"
          ]
        },
        {
          "data": {
            "application/vnd.jupyter.widget-view+json": {
              "model_id": "76606f3ce9864d5ebdcb02a9fec3d2af",
              "version_major": 2,
              "version_minor": 0
            },
            "text/plain": [
              "ElementProperty:   0%|          | 0/100 [00:00<?, ?it/s]"
            ]
          },
          "metadata": {},
          "output_type": "display_data"
        },
        {
          "data": {
            "application/vnd.jupyter.widget-view+json": {
              "model_id": "d7065b7c50dc409e97f423d4df4cf34f",
              "version_major": 2,
              "version_minor": 0
            },
            "text/plain": [
              "SiteStatsFingerprint:   0%|          | 0/100 [00:00<?, ?it/s]"
            ]
          },
          "metadata": {},
          "output_type": "display_data"
        },
        {
          "name": "stderr",
          "output_type": "stream",
          "text": [
            "INFO:matbench_genmetrics.utils.match:Computing composition match matrix\n",
            "INFO:matbench_genmetrics.utils.match:Computing structure match matrix\n",
            "INFO:matbench_genmetrics.utils.match:Computing composition match matrix\n",
            "INFO:matbench_genmetrics.utils.match:Computing structure match matrix\n",
            "INFO:matbench_genmetrics.utils.match:Computing composition match matrix\n",
            "INFO:matbench_genmetrics.utils.match:Computing structure match matrix\n"
          ]
        },
        {
          "name": "stdout",
          "output_type": "stream",
          "text": [
            "{0: {'coverage': 0.0,\n",
            "     'novelty': 0.88,\n",
            "     'uniqueness': 0.9309090909090909,\n",
            "     'validity': 0.43006222663150606},\n",
            " 1: {'coverage': 0.0,\n",
            "     'novelty': 0.88,\n",
            "     'uniqueness': 0.9123232323232323,\n",
            "     'validity': 0.4037679773765829},\n",
            " 2: {'coverage': 0.0,\n",
            "     'novelty': 0.92,\n",
            "     'uniqueness': 0.9026262626262627,\n",
            "     'validity': 0.3859558382837529},\n",
            " 3: {'coverage': 0.0,\n",
            "     'novelty': 0.94,\n",
            "     'uniqueness': 0.9244444444444444,\n",
            "     'validity': 0.3648432083922647},\n",
            " 4: {'coverage': 0.0,\n",
            "     'novelty': 0.91,\n",
            "     'uniqueness': 0.9309090909090909,\n",
            "     'validity': 0.33547552744387366}}\n"
          ]
        }
      ],
      "source": [
        "mptm = MPTSMetrics100(dummy=False, verbose=True)\n",
        "for fold in tqdm(mptm.folds):\n",
        "    train_val_inputs = mptm.get_train_and_val_data(fold)\n",
        "\n",
        "    dg = DummyGenerator()\n",
        "    dg.fit(train_val_inputs)\n",
        "    gen_structures = dg.gen(n=100)\n",
        "\n",
        "    mptm.evaluate_and_record(fold, gen_structures)\n",
        "\n",
        "pprint(mptm.recorded_metrics)"
      ]
    },
    {
      "cell_type": "code",
      "execution_count": null,
      "metadata": {},
      "outputs": [],
      "source": []
    }
  ],
  "metadata": {
    "colab": {
      "include_colab_link": true,
      "name": "1.0-matbench-genmetrics-basic.ipynb",
      "provenance": []
    },
    "kernelspec": {
      "display_name": "Python 3.9.12 ('matbench-genmetrics')",
      "language": "python",
      "name": "python3"
    },
    "language_info": {
      "codemirror_mode": {
        "name": "ipython",
        "version": 3
      },
      "file_extension": ".py",
      "mimetype": "text/x-python",
      "name": "python",
      "nbconvert_exporter": "python",
      "pygments_lexer": "ipython3",
      "version": "3.9.12"
    },
    "vscode": {
      "interpreter": {
        "hash": "d2f48d3dafb56173acbe673856209ccdb111702e2fa202d4a97a890dec519891"
      }
    },
    "widgets": {
      "application/vnd.jupyter.widget-state+json": {
        "04195646383b4d37be4cb26f80eeaad0": {
          "model_module": "@jupyter-widgets/controls",
          "model_module_version": "1.5.0",
          "model_name": "ProgressStyleModel",
          "state": {
            "_model_module": "@jupyter-widgets/controls",
            "_model_module_version": "1.5.0",
            "_model_name": "ProgressStyleModel",
            "_view_count": null,
            "_view_module": "@jupyter-widgets/base",
            "_view_module_version": "1.2.0",
            "_view_name": "StyleView",
            "bar_color": null,
            "description_width": ""
          }
        },
        "10639805e41d49adb805b4086eb3aa3f": {
          "model_module": "@jupyter-widgets/base",
          "model_module_version": "1.2.0",
          "model_name": "LayoutModel",
          "state": {
            "_model_module": "@jupyter-widgets/base",
            "_model_module_version": "1.2.0",
            "_model_name": "LayoutModel",
            "_view_count": null,
            "_view_module": "@jupyter-widgets/base",
            "_view_module_version": "1.2.0",
            "_view_name": "LayoutView",
            "align_content": null,
            "align_items": null,
            "align_self": null,
            "border": null,
            "bottom": null,
            "display": null,
            "flex": null,
            "flex_flow": null,
            "grid_area": null,
            "grid_auto_columns": null,
            "grid_auto_flow": null,
            "grid_auto_rows": null,
            "grid_column": null,
            "grid_gap": null,
            "grid_row": null,
            "grid_template_areas": null,
            "grid_template_columns": null,
            "grid_template_rows": null,
            "height": null,
            "justify_content": null,
            "justify_items": null,
            "left": null,
            "margin": null,
            "max_height": null,
            "max_width": null,
            "min_height": null,
            "min_width": null,
            "object_fit": null,
            "object_position": null,
            "order": null,
            "overflow": null,
            "overflow_x": null,
            "overflow_y": null,
            "padding": null,
            "right": null,
            "top": null,
            "visibility": null,
            "width": null
          }
        },
        "1edc04cabb66434fa34e8ad666b70778": {
          "model_module": "@jupyter-widgets/controls",
          "model_module_version": "1.5.0",
          "model_name": "HTMLModel",
          "state": {
            "_dom_classes": [],
            "_model_module": "@jupyter-widgets/controls",
            "_model_module_version": "1.5.0",
            "_model_name": "HTMLModel",
            "_view_count": null,
            "_view_module": "@jupyter-widgets/controls",
            "_view_module_version": "1.5.0",
            "_view_name": "HTMLView",
            "description": "",
            "description_tooltip": null,
            "layout": "IPY_MODEL_37d8d9e20c0043638b3f62305b77dcb6",
            "placeholder": "​",
            "style": "IPY_MODEL_431a7a45bc424b8d8749444ea3ecefab",
            "value": " 0/5 [00:00&lt;?, ?it/s]"
          }
        },
        "309d497bfbfa4b54ba94739952e1501d": {
          "model_module": "@jupyter-widgets/controls",
          "model_module_version": "1.5.0",
          "model_name": "DescriptionStyleModel",
          "state": {
            "_model_module": "@jupyter-widgets/controls",
            "_model_module_version": "1.5.0",
            "_model_name": "DescriptionStyleModel",
            "_view_count": null,
            "_view_module": "@jupyter-widgets/base",
            "_view_module_version": "1.2.0",
            "_view_name": "StyleView",
            "description_width": ""
          }
        },
        "37d8d9e20c0043638b3f62305b77dcb6": {
          "model_module": "@jupyter-widgets/base",
          "model_module_version": "1.2.0",
          "model_name": "LayoutModel",
          "state": {
            "_model_module": "@jupyter-widgets/base",
            "_model_module_version": "1.2.0",
            "_model_name": "LayoutModel",
            "_view_count": null,
            "_view_module": "@jupyter-widgets/base",
            "_view_module_version": "1.2.0",
            "_view_name": "LayoutView",
            "align_content": null,
            "align_items": null,
            "align_self": null,
            "border": null,
            "bottom": null,
            "display": null,
            "flex": null,
            "flex_flow": null,
            "grid_area": null,
            "grid_auto_columns": null,
            "grid_auto_flow": null,
            "grid_auto_rows": null,
            "grid_column": null,
            "grid_gap": null,
            "grid_row": null,
            "grid_template_areas": null,
            "grid_template_columns": null,
            "grid_template_rows": null,
            "height": null,
            "justify_content": null,
            "justify_items": null,
            "left": null,
            "margin": null,
            "max_height": null,
            "max_width": null,
            "min_height": null,
            "min_width": null,
            "object_fit": null,
            "object_position": null,
            "order": null,
            "overflow": null,
            "overflow_x": null,
            "overflow_y": null,
            "padding": null,
            "right": null,
            "top": null,
            "visibility": null,
            "width": null
          }
        },
        "3ea0d9384b1540e49aa98e8ceb1f9d2c": {
          "model_module": "@jupyter-widgets/controls",
          "model_module_version": "1.5.0",
          "model_name": "HBoxModel",
          "state": {
            "_dom_classes": [],
            "_model_module": "@jupyter-widgets/controls",
            "_model_module_version": "1.5.0",
            "_model_name": "HBoxModel",
            "_view_count": null,
            "_view_module": "@jupyter-widgets/controls",
            "_view_module_version": "1.5.0",
            "_view_name": "HBoxView",
            "box_style": "",
            "children": [
              "IPY_MODEL_9adf9bba70344a2d989eca3a200ccbfc",
              "IPY_MODEL_9e4c5c387e254cdaa95532d6c454f2ef",
              "IPY_MODEL_b21188b862af4fa9b936f79f3b02e547"
            ],
            "layout": "IPY_MODEL_648b6613c6fe4094a57e92c4a211176d"
          }
        },
        "431a7a45bc424b8d8749444ea3ecefab": {
          "model_module": "@jupyter-widgets/controls",
          "model_module_version": "1.5.0",
          "model_name": "DescriptionStyleModel",
          "state": {
            "_model_module": "@jupyter-widgets/controls",
            "_model_module_version": "1.5.0",
            "_model_name": "DescriptionStyleModel",
            "_view_count": null,
            "_view_module": "@jupyter-widgets/base",
            "_view_module_version": "1.2.0",
            "_view_name": "StyleView",
            "description_width": ""
          }
        },
        "5a4f9e6d40d74f1294de1718a9637111": {
          "model_module": "@jupyter-widgets/controls",
          "model_module_version": "1.5.0",
          "model_name": "DescriptionStyleModel",
          "state": {
            "_model_module": "@jupyter-widgets/controls",
            "_model_module_version": "1.5.0",
            "_model_name": "DescriptionStyleModel",
            "_view_count": null,
            "_view_module": "@jupyter-widgets/base",
            "_view_module_version": "1.2.0",
            "_view_name": "StyleView",
            "description_width": ""
          }
        },
        "648b6613c6fe4094a57e92c4a211176d": {
          "model_module": "@jupyter-widgets/base",
          "model_module_version": "1.2.0",
          "model_name": "LayoutModel",
          "state": {
            "_model_module": "@jupyter-widgets/base",
            "_model_module_version": "1.2.0",
            "_model_name": "LayoutModel",
            "_view_count": null,
            "_view_module": "@jupyter-widgets/base",
            "_view_module_version": "1.2.0",
            "_view_name": "LayoutView",
            "align_content": null,
            "align_items": null,
            "align_self": null,
            "border": null,
            "bottom": null,
            "display": null,
            "flex": null,
            "flex_flow": null,
            "grid_area": null,
            "grid_auto_columns": null,
            "grid_auto_flow": null,
            "grid_auto_rows": null,
            "grid_column": null,
            "grid_gap": null,
            "grid_row": null,
            "grid_template_areas": null,
            "grid_template_columns": null,
            "grid_template_rows": null,
            "height": null,
            "justify_content": null,
            "justify_items": null,
            "left": null,
            "margin": null,
            "max_height": null,
            "max_width": null,
            "min_height": null,
            "min_width": null,
            "object_fit": null,
            "object_position": null,
            "order": null,
            "overflow": null,
            "overflow_x": null,
            "overflow_y": null,
            "padding": null,
            "right": null,
            "top": null,
            "visibility": null,
            "width": null
          }
        },
        "88f9f207dd374250b09258ac5c8a405f": {
          "model_module": "@jupyter-widgets/controls",
          "model_module_version": "1.5.0",
          "model_name": "ProgressStyleModel",
          "state": {
            "_model_module": "@jupyter-widgets/controls",
            "_model_module_version": "1.5.0",
            "_model_name": "ProgressStyleModel",
            "_view_count": null,
            "_view_module": "@jupyter-widgets/base",
            "_view_module_version": "1.2.0",
            "_view_name": "StyleView",
            "bar_color": null,
            "description_width": ""
          }
        },
        "8ca9e4bfab754fee929f41e52f347128": {
          "model_module": "@jupyter-widgets/base",
          "model_module_version": "1.2.0",
          "model_name": "LayoutModel",
          "state": {
            "_model_module": "@jupyter-widgets/base",
            "_model_module_version": "1.2.0",
            "_model_name": "LayoutModel",
            "_view_count": null,
            "_view_module": "@jupyter-widgets/base",
            "_view_module_version": "1.2.0",
            "_view_name": "LayoutView",
            "align_content": null,
            "align_items": null,
            "align_self": null,
            "border": null,
            "bottom": null,
            "display": null,
            "flex": null,
            "flex_flow": null,
            "grid_area": null,
            "grid_auto_columns": null,
            "grid_auto_flow": null,
            "grid_auto_rows": null,
            "grid_column": null,
            "grid_gap": null,
            "grid_row": null,
            "grid_template_areas": null,
            "grid_template_columns": null,
            "grid_template_rows": null,
            "height": null,
            "justify_content": null,
            "justify_items": null,
            "left": null,
            "margin": null,
            "max_height": null,
            "max_width": null,
            "min_height": null,
            "min_width": null,
            "object_fit": null,
            "object_position": null,
            "order": null,
            "overflow": null,
            "overflow_x": null,
            "overflow_y": null,
            "padding": null,
            "right": null,
            "top": null,
            "visibility": null,
            "width": null
          }
        },
        "95540d4f0cfb4c2f8bba97b2376649b9": {
          "model_module": "@jupyter-widgets/base",
          "model_module_version": "1.2.0",
          "model_name": "LayoutModel",
          "state": {
            "_model_module": "@jupyter-widgets/base",
            "_model_module_version": "1.2.0",
            "_model_name": "LayoutModel",
            "_view_count": null,
            "_view_module": "@jupyter-widgets/base",
            "_view_module_version": "1.2.0",
            "_view_name": "LayoutView",
            "align_content": null,
            "align_items": null,
            "align_self": null,
            "border": null,
            "bottom": null,
            "display": null,
            "flex": null,
            "flex_flow": null,
            "grid_area": null,
            "grid_auto_columns": null,
            "grid_auto_flow": null,
            "grid_auto_rows": null,
            "grid_column": null,
            "grid_gap": null,
            "grid_row": null,
            "grid_template_areas": null,
            "grid_template_columns": null,
            "grid_template_rows": null,
            "height": null,
            "justify_content": null,
            "justify_items": null,
            "left": null,
            "margin": null,
            "max_height": null,
            "max_width": null,
            "min_height": null,
            "min_width": null,
            "object_fit": null,
            "object_position": null,
            "order": null,
            "overflow": null,
            "overflow_x": null,
            "overflow_y": null,
            "padding": null,
            "right": null,
            "top": null,
            "visibility": null,
            "width": null
          }
        },
        "9577147df3864eca9185925dc48ccb7b": {
          "model_module": "@jupyter-widgets/controls",
          "model_module_version": "1.5.0",
          "model_name": "HBoxModel",
          "state": {
            "_dom_classes": [],
            "_model_module": "@jupyter-widgets/controls",
            "_model_module_version": "1.5.0",
            "_model_name": "HBoxModel",
            "_view_count": null,
            "_view_module": "@jupyter-widgets/controls",
            "_view_module_version": "1.5.0",
            "_view_name": "HBoxView",
            "box_style": "",
            "children": [
              "IPY_MODEL_977aa854d9c3421e9273d629cede1d86",
              "IPY_MODEL_bae8d4921e2148cb925a0962f41a6184",
              "IPY_MODEL_1edc04cabb66434fa34e8ad666b70778"
            ],
            "layout": "IPY_MODEL_f358d26c3fc14761866907ad409ef193"
          }
        },
        "977aa854d9c3421e9273d629cede1d86": {
          "model_module": "@jupyter-widgets/controls",
          "model_module_version": "1.5.0",
          "model_name": "HTMLModel",
          "state": {
            "_dom_classes": [],
            "_model_module": "@jupyter-widgets/controls",
            "_model_module_version": "1.5.0",
            "_model_name": "HTMLModel",
            "_view_count": null,
            "_view_module": "@jupyter-widgets/controls",
            "_view_module_version": "1.5.0",
            "_view_name": "HTMLView",
            "description": "",
            "description_tooltip": null,
            "layout": "IPY_MODEL_8ca9e4bfab754fee929f41e52f347128",
            "placeholder": "​",
            "style": "IPY_MODEL_5a4f9e6d40d74f1294de1718a9637111",
            "value": "  0%"
          }
        },
        "9adf9bba70344a2d989eca3a200ccbfc": {
          "model_module": "@jupyter-widgets/controls",
          "model_module_version": "1.5.0",
          "model_name": "HTMLModel",
          "state": {
            "_dom_classes": [],
            "_model_module": "@jupyter-widgets/controls",
            "_model_module_version": "1.5.0",
            "_model_name": "HTMLModel",
            "_view_count": null,
            "_view_module": "@jupyter-widgets/controls",
            "_view_module_version": "1.5.0",
            "_view_name": "HTMLView",
            "description": "",
            "description_tooltip": null,
            "layout": "IPY_MODEL_cea10a3253974c48b6ea128256fe758e",
            "placeholder": "​",
            "style": "IPY_MODEL_309d497bfbfa4b54ba94739952e1501d",
            "value": "100%"
          }
        },
        "9e4c5c387e254cdaa95532d6c454f2ef": {
          "model_module": "@jupyter-widgets/controls",
          "model_module_version": "1.5.0",
          "model_name": "FloatProgressModel",
          "state": {
            "_dom_classes": [],
            "_model_module": "@jupyter-widgets/controls",
            "_model_module_version": "1.5.0",
            "_model_name": "FloatProgressModel",
            "_view_count": null,
            "_view_module": "@jupyter-widgets/controls",
            "_view_module_version": "1.5.0",
            "_view_name": "ProgressView",
            "bar_style": "success",
            "description": "",
            "description_tooltip": null,
            "layout": "IPY_MODEL_95540d4f0cfb4c2f8bba97b2376649b9",
            "max": 5,
            "min": 0,
            "orientation": "horizontal",
            "style": "IPY_MODEL_04195646383b4d37be4cb26f80eeaad0",
            "value": 5
          }
        },
        "b21188b862af4fa9b936f79f3b02e547": {
          "model_module": "@jupyter-widgets/controls",
          "model_module_version": "1.5.0",
          "model_name": "HTMLModel",
          "state": {
            "_dom_classes": [],
            "_model_module": "@jupyter-widgets/controls",
            "_model_module_version": "1.5.0",
            "_model_name": "HTMLModel",
            "_view_count": null,
            "_view_module": "@jupyter-widgets/controls",
            "_view_module_version": "1.5.0",
            "_view_name": "HTMLView",
            "description": "",
            "description_tooltip": null,
            "layout": "IPY_MODEL_f980e888d2384fad9dba96082b639a5e",
            "placeholder": "​",
            "style": "IPY_MODEL_bf19fd5980ef4b67a2e124c9706aaec5",
            "value": " 5/5 [00:48&lt;00:00,  9.52s/it]"
          }
        },
        "bae8d4921e2148cb925a0962f41a6184": {
          "model_module": "@jupyter-widgets/controls",
          "model_module_version": "1.5.0",
          "model_name": "FloatProgressModel",
          "state": {
            "_dom_classes": [],
            "_model_module": "@jupyter-widgets/controls",
            "_model_module_version": "1.5.0",
            "_model_name": "FloatProgressModel",
            "_view_count": null,
            "_view_module": "@jupyter-widgets/controls",
            "_view_module_version": "1.5.0",
            "_view_name": "ProgressView",
            "bar_style": "",
            "description": "",
            "description_tooltip": null,
            "layout": "IPY_MODEL_10639805e41d49adb805b4086eb3aa3f",
            "max": 5,
            "min": 0,
            "orientation": "horizontal",
            "style": "IPY_MODEL_88f9f207dd374250b09258ac5c8a405f",
            "value": 0
          }
        },
        "bf19fd5980ef4b67a2e124c9706aaec5": {
          "model_module": "@jupyter-widgets/controls",
          "model_module_version": "1.5.0",
          "model_name": "DescriptionStyleModel",
          "state": {
            "_model_module": "@jupyter-widgets/controls",
            "_model_module_version": "1.5.0",
            "_model_name": "DescriptionStyleModel",
            "_view_count": null,
            "_view_module": "@jupyter-widgets/base",
            "_view_module_version": "1.2.0",
            "_view_name": "StyleView",
            "description_width": ""
          }
        },
        "cea10a3253974c48b6ea128256fe758e": {
          "model_module": "@jupyter-widgets/base",
          "model_module_version": "1.2.0",
          "model_name": "LayoutModel",
          "state": {
            "_model_module": "@jupyter-widgets/base",
            "_model_module_version": "1.2.0",
            "_model_name": "LayoutModel",
            "_view_count": null,
            "_view_module": "@jupyter-widgets/base",
            "_view_module_version": "1.2.0",
            "_view_name": "LayoutView",
            "align_content": null,
            "align_items": null,
            "align_self": null,
            "border": null,
            "bottom": null,
            "display": null,
            "flex": null,
            "flex_flow": null,
            "grid_area": null,
            "grid_auto_columns": null,
            "grid_auto_flow": null,
            "grid_auto_rows": null,
            "grid_column": null,
            "grid_gap": null,
            "grid_row": null,
            "grid_template_areas": null,
            "grid_template_columns": null,
            "grid_template_rows": null,
            "height": null,
            "justify_content": null,
            "justify_items": null,
            "left": null,
            "margin": null,
            "max_height": null,
            "max_width": null,
            "min_height": null,
            "min_width": null,
            "object_fit": null,
            "object_position": null,
            "order": null,
            "overflow": null,
            "overflow_x": null,
            "overflow_y": null,
            "padding": null,
            "right": null,
            "top": null,
            "visibility": null,
            "width": null
          }
        },
        "f358d26c3fc14761866907ad409ef193": {
          "model_module": "@jupyter-widgets/base",
          "model_module_version": "1.2.0",
          "model_name": "LayoutModel",
          "state": {
            "_model_module": "@jupyter-widgets/base",
            "_model_module_version": "1.2.0",
            "_model_name": "LayoutModel",
            "_view_count": null,
            "_view_module": "@jupyter-widgets/base",
            "_view_module_version": "1.2.0",
            "_view_name": "LayoutView",
            "align_content": null,
            "align_items": null,
            "align_self": null,
            "border": null,
            "bottom": null,
            "display": null,
            "flex": null,
            "flex_flow": null,
            "grid_area": null,
            "grid_auto_columns": null,
            "grid_auto_flow": null,
            "grid_auto_rows": null,
            "grid_column": null,
            "grid_gap": null,
            "grid_row": null,
            "grid_template_areas": null,
            "grid_template_columns": null,
            "grid_template_rows": null,
            "height": null,
            "justify_content": null,
            "justify_items": null,
            "left": null,
            "margin": null,
            "max_height": null,
            "max_width": null,
            "min_height": null,
            "min_width": null,
            "object_fit": null,
            "object_position": null,
            "order": null,
            "overflow": null,
            "overflow_x": null,
            "overflow_y": null,
            "padding": null,
            "right": null,
            "top": null,
            "visibility": null,
            "width": null
          }
        },
        "f980e888d2384fad9dba96082b639a5e": {
          "model_module": "@jupyter-widgets/base",
          "model_module_version": "1.2.0",
          "model_name": "LayoutModel",
          "state": {
            "_model_module": "@jupyter-widgets/base",
            "_model_module_version": "1.2.0",
            "_model_name": "LayoutModel",
            "_view_count": null,
            "_view_module": "@jupyter-widgets/base",
            "_view_module_version": "1.2.0",
            "_view_name": "LayoutView",
            "align_content": null,
            "align_items": null,
            "align_self": null,
            "border": null,
            "bottom": null,
            "display": null,
            "flex": null,
            "flex_flow": null,
            "grid_area": null,
            "grid_auto_columns": null,
            "grid_auto_flow": null,
            "grid_auto_rows": null,
            "grid_column": null,
            "grid_gap": null,
            "grid_row": null,
            "grid_template_areas": null,
            "grid_template_columns": null,
            "grid_template_rows": null,
            "height": null,
            "justify_content": null,
            "justify_items": null,
            "left": null,
            "margin": null,
            "max_height": null,
            "max_width": null,
            "min_height": null,
            "min_width": null,
            "object_fit": null,
            "object_position": null,
            "order": null,
            "overflow": null,
            "overflow_x": null,
            "overflow_y": null,
            "padding": null,
            "right": null,
            "top": null,
            "visibility": null,
            "width": null
          }
        }
      }
    }
  },
  "nbformat": 4,
  "nbformat_minor": 0
}
