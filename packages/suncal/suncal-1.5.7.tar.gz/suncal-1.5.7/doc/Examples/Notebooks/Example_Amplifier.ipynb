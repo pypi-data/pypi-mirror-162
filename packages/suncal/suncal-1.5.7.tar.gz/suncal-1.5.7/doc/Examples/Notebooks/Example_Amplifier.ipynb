{
 "cells": [
  {
   "cell_type": "code",
   "execution_count": 1,
   "metadata": {},
   "outputs": [],
   "source": [
    "import sympy\n",
    "import numpy as np\n",
    "import matplotlib.pyplot as plt\n",
    "\n",
    "import suncal"
   ]
  },
  {
   "cell_type": "markdown",
   "metadata": {},
   "source": [
    "# Instrumentation amplifier\n",
    "\n",
    "Problem: Choose resistors to minimize the uncertainty of the amplifier gain.\n",
    "\n",
    "(Ref: Figure 5-12 in Thackray, Electronic Design)\n",
    "\n",
    "![Amplifier](inst_amp.png)\n",
    "\n",
    "The textbook equation for gain is $-\\frac{R_4}{R_3}(1+\\frac{2 R_2}{R_1})$. However, the resistor pairs (e.g. both $R_2$'s) will not be identical, but pulled from the same distribution. We need to re-derive the gain expression keeping the resistor pairs separate. Instead of doing a bunch of ugly algebra, we can set up the current equations and use Sympy to solve the system."
   ]
  },
  {
   "cell_type": "code",
   "execution_count": 2,
   "metadata": {},
   "outputs": [
    {
     "data": {
      "text/latex": [
       "$\\displaystyle \\frac{R_{1} R_{3a} R_{4b} v_{s2} - R_{1} R_{3b} R_{4a} v_{s1} - R_{1} R_{4a} R_{4b} v_{s1} + R_{1} R_{4a} R_{4b} v_{s2} - R_{21} R_{3a} R_{4b} v_{s1} + R_{21} R_{3a} R_{4b} v_{s2} - R_{21} R_{4a} R_{4b} v_{s1} + R_{21} R_{4a} R_{4b} v_{s2} - R_{22} R_{3b} R_{4a} v_{s1} + R_{22} R_{3b} R_{4a} v_{s2} - R_{22} R_{4a} R_{4b} v_{s1} + R_{22} R_{4a} R_{4b} v_{s2}}{R_{1} R_{3a} \\left(R_{3b} + R_{4b}\\right)}$"
      ],
      "text/plain": [
       "(R_1*R_3a*R_4b*v_s2 - R_1*R_3b*R_4a*v_s1 - R_1*R_4a*R_4b*v_s1 + R_1*R_4a*R_4b*v_s2 - R_21*R_3a*R_4b*v_s1 + R_21*R_3a*R_4b*v_s2 - R_21*R_4a*R_4b*v_s1 + R_21*R_4a*R_4b*v_s2 - R_22*R_3b*R_4a*v_s1 + R_22*R_3b*R_4a*v_s2 - R_22*R_4a*R_4b*v_s1 + R_22*R_4a*R_4b*v_s2)/(R_1*R_3a*(R_3b + R_4b))"
      ]
     },
     "execution_count": 2,
     "metadata": {},
     "output_type": "execute_result"
    }
   ],
   "source": [
    "vs1, vs2, vo1, vo2 = sympy.symbols(['v_s1', 'v_s2', 'v_o1','v_o2'])\n",
    "R22, R21, R3a, R3b, R4a, R4b = sympy.symbols(['R_21', 'R_22', 'R_3a','R_3b','R_4a','R_4b'])\n",
    "a3, vo, R1, R2, R3, R4 = sympy.symbols(['a3', 'vo', 'R_1', 'R_2','R_3', 'R_4'])\n",
    "eqn1 = sympy.Eq((vo1-a3)/R3a, (a3-vo)/R4a)\n",
    "eqn2 = sympy.Eq((vo2-a3)/R3b,  a3/R4b)\n",
    "eqn3 = sympy.Eq((vo1-vs1)/R21, (vs1-vs2)/R1)\n",
    "eqn4 = sympy.Eq((vo2-vs2)/R22, (vs2-vs1)/R1)\n",
    "vout = sympy.solve((eqn1, eqn2, eqn3, eqn4), (a3,vo1,vo2,vo))\n",
    "vout = vout[vo].simplify()\n",
    "vout"
   ]
  },
  {
   "cell_type": "markdown",
   "metadata": {},
   "source": [
    "Double check: if the resistor pairs are equal (R_1a == R1b, etc), the expression should reduce to $-\\frac{R_4}{R_3}(1+\\frac{2 R_2}{R_1})(v_{s1}-v_{s2})$."
   ]
  },
  {
   "cell_type": "code",
   "execution_count": 3,
   "metadata": {},
   "outputs": [
    {
     "data": {
      "text/latex": [
       "$\\displaystyle - \\frac{R_{4} \\left(R_{1} + 2 R_{2}\\right) \\left(v_{s1} - v_{s2}\\right)}{R_{1} R_{3}}$"
      ],
      "text/plain": [
       "-R_4*(R_1 + 2*R_2)*(v_s1 - v_s2)/(R_1*R_3)"
      ]
     },
     "execution_count": 3,
     "metadata": {},
     "output_type": "execute_result"
    }
   ],
   "source": [
    "vout_simp = vout.subs({'R_3a':R3,'R_3b':R3,'R_4a':R4,'R_4b':R4, 'R_22':R2, 'R_21':R2}).factor()\n",
    "vout_simp"
   ]
  },
  {
   "cell_type": "markdown",
   "metadata": {},
   "source": [
    "Now that we have our expression, send it in to the calculator. Make up some resistor values, and start with all 5% tolerance. This is assuming that 5% is normally distributed, which may or may not be valid... Print the sensitivity coefficients to see which has the most influence."
   ]
  },
  {
   "cell_type": "code",
   "execution_count": 4,
   "metadata": {},
   "outputs": [
    {
     "data": {
      "text/markdown": [
       "|Variable   | GUM Sensitivity   | GUM Proportion   | MC Sensitivity   | MC Proportion  |\n",
       "|----------|-----------------|----------------|----------------|---------------|\n",
       "|$R_{1}$   | 0.00094           | 33.00%           | 0.00095          | 32.98%         |\n",
       "|$R_{21}$   | -0.00010           | 8.25%            | 0.00010          | 8.09%          |\n",
       "|$R_{22}$   | -0.00010           | 8.25%            | 0.000100          | 8.07%          |\n",
       "|$R_{3a}$   | 0.00035           | 22.72%           | 0.00036          | 22.71%         |\n",
       "|$R_{3b}$   | 0.00012           | 2.52%            | 0.00012          | 2.49%          |\n",
       "|$R_{4a}$   | -0.00035          | 22.72%           | 0.00035         | 22.27%         |\n",
       "|$R_{4b}$   | -0.00012          | 2.52%            | 0.00012         | 2.49%          |\n",
       "|$v_{s1}$   | 0.0          | 0.00%            | 5.9e-09         | 0.00%          |\n",
       "|$v_{s2}$   | 0.0          | 0.00%            | 5.9e-09         | 0.00%          |"
      ],
      "text/plain": [
       "<suncal.report.Report at 0x273ace25c48>"
      ]
     },
     "execution_count": 4,
     "metadata": {},
     "output_type": "execute_result"
    }
   ],
   "source": [
    "inputs = [{'name':'R_1', 'nom':10000, 'uncerts':[{'name':'uR1',   'std':'5%'}]},\n",
    "          {'name':'R_21', 'nom':47000, 'uncerts':[{'name':'uR21', 'std':'5%'}]},\n",
    "          {'name':'R_22', 'nom':47000, 'uncerts':[{'name':'uR22', 'std':'5%'}]},\n",
    "          {'name':'R_3a', 'nom':22000, 'uncerts':[{'name':'uR31', 'std':'5%'}]},\n",
    "          {'name':'R_3b', 'nom':22000, 'uncerts':[{'name':'uR3b', 'std':'5%'}]}, \n",
    "          {'name':'R_4a', 'nom':22000, 'uncerts':[{'name':'uR4a', 'std':'5%'}]},\n",
    "          {'name':'R_4b', 'nom':22000, 'uncerts':[{'name':'uR4b', 'std':'5%'}]},\n",
    "          {'name':'v_s1', 'nom':.010,  'uncerts':[{'name':'uvs1', 'std':'1E-6'}]},\n",
    "          {'name':'v_s2', 'nom':-.010, 'uncerts':[{'name':'uvs2', 'std':'1E-6'}]}]         \n",
    "u = suncal.UncertCalc(vout, inputs=inputs)\n",
    "u.set_function(vout, idx=0, name='vout', show=False) # Set name and disable reporting\n",
    "u.set_function('vout/(v_s1-v_s2)', name='gain')\n",
    "u.calculate()\n",
    "u.out.report_sens()"
   ]
  },
  {
   "cell_type": "markdown",
   "metadata": {},
   "source": [
    "R1 is most of uncertainty. Change it to 1% and see how it looks."
   ]
  },
  {
   "cell_type": "code",
   "execution_count": 5,
   "metadata": {},
   "outputs": [
    {
     "data": {
      "text/markdown": [
       "|Variable   | GUM Sensitivity   | GUM Proportion   | MC Sensitivity   | MC Proportion  |\n",
       "|----------|-----------------|----------------|----------------|---------------|\n",
       "|$R_{1}$   | 0.000019           | 1.93%            | 0.000019          | 1.91%          |\n",
       "|$R_{21}$   | -2.0e-06           | 12.08%           | 2.0e-06          | 11.94%         |\n",
       "|$R_{22}$   | -2.0e-06           | 12.08%           | 2.0e-06          | 11.91%         |\n",
       "|$R_{3a}$   | 7.1e-06           | 33.26%           | 7.2e-06          | 33.46%         |\n",
       "|$R_{3b}$   | 2.4e-06           | 3.70%            | 2.4e-06          | 3.66%          |\n",
       "|$R_{4a}$   | -7.1e-06          | 33.26%           | 7.1e-06         | 32.86%         |\n",
       "|$R_{4b}$   | -2.4e-06          | 3.70%            | 2.4e-06         | 3.66%          |\n",
       "|$v_{s1}$   | -10.4          | 0.00%            | 10.4         | 0.00%          |\n",
       "|$v_{s2}$   | 10.4          | 0.00%            | 10.4         | 0.00%          |"
      ],
      "text/plain": [
       "<suncal.report.Report at 0x273ad01c1c8>"
      ]
     },
     "execution_count": 5,
     "metadata": {},
     "output_type": "execute_result"
    }
   ],
   "source": [
    "inputs[0]['uncerts'][0]['std'] = '1%'\n",
    "u = suncal.UncertCalc(vout, inputs=inputs)\n",
    "u.calculate()\n",
    "u.out.report_sens()"
   ]
  },
  {
   "cell_type": "markdown",
   "metadata": {},
   "source": [
    "### Optimize stages\n",
    "\n",
    "The amplifier has two stages. For constant gain $A = A1*A2$. Does it matter where we set each stage to for uncertainty purposes?\n",
    "\n",
    "Here we'll loop the solution, changing resistor values over a range of possible gain combinations."
   ]
  },
  {
   "cell_type": "code",
   "execution_count": 6,
   "metadata": {},
   "outputs": [],
   "source": [
    "Atot = 100\n",
    "A1list = np.linspace(1,Atot*.99,num=50)\n",
    "percent_uncert = np.zeros_like(A1list)\n",
    "for i, A1 in enumerate(A1list):\n",
    "    R1 = 10000\n",
    "    R3 = 22000\n",
    "    A2 = Atot/A1\n",
    "    R4 = A1 * R3\n",
    "    R2 = (A2 - 1) * R1 / 2\n",
    "\n",
    "    inputs = [{'name':'R_1',  'nom':R1, 'uncerts':[{'name':'uR1',  'dist':'uniform', 'a':'5%'}]},\n",
    "              {'name':'R_21', 'nom':R2, 'uncerts':[{'name':'uR21', 'dist':'uniform', 'a':'5%'}]},\n",
    "              {'name':'R_22', 'nom':R2, 'uncerts':[{'name':'uR22', 'dist':'uniform', 'a':'5%'}]},\n",
    "              {'name':'R_3a', 'nom':R3, 'uncerts':[{'name':'uR31', 'dist':'uniform', 'a':'5%'}]},\n",
    "              {'name':'R_3b', 'nom':R3, 'uncerts':[{'name':'uR3b', 'dist':'uniform', 'a':'5%'}]}, \n",
    "              {'name':'R_4a', 'nom':R4, 'uncerts':[{'name':'uR4a', 'dist':'uniform', 'a':'5%'}]},\n",
    "              {'name':'R_4b', 'nom':R4, 'uncerts':[{'name':'uR4b', 'dist':'uniform', 'a':'5%'}]}, \n",
    "              {'name':'v_s1', 'nom':.010,  'uncerts':[{'name':'uvs1', 'std':'1E-6'}]},\n",
    "              {'name':'v_s2', 'nom':-.010, 'uncerts':[{'name':'uvs2', 'std':'1E-6'}]}]\n",
    "    u = suncal.UncertCalc(vout, inputs=inputs)\n",
    "    u.calculate(mc=False)  # Only calculate GUM method to save time\n",
    "    out = u.out.gum\n",
    "    percent_uncert[i] = abs(out.uncert() / out.nom())"
   ]
  },
  {
   "cell_type": "code",
   "execution_count": 7,
   "metadata": {},
   "outputs": [
    {
     "data": {
      "image/png": "[encoded data removed]",
      "text/plain": [
       "<Figure size 432x288 with 1 Axes>"
      ]
     },
     "metadata": {
      "needs_background": "light"
     },
     "output_type": "display_data"
    }
   ],
   "source": [
    "plt.plot(A1list, percent_uncert*100, lw=2)\n",
    "plt.xlabel('Stage 1 Gain')\n",
    "plt.ylabel('Uncertainty %')\n",
    "plt.tight_layout()"
   ]
  },
  {
   "cell_type": "code",
   "execution_count": null,
   "metadata": {},
   "outputs": [],
   "source": []
  }
 ],
 "metadata": {
  "kernelspec": {
   "display_name": "Python 3 (ipykernel)",
   "language": "python",
   "name": "python3"
  },
  "language_info": {
   "codemirror_mode": {
    "name": "ipython",
    "version": 3
   },
   "file_extension": ".py",
   "mimetype": "text/x-python",
   "name": "python",
   "nbconvert_exporter": "python",
   "pygments_lexer": "ipython3",
   "version": "3.7.9"
  }
 },
 "nbformat": 4,
 "nbformat_minor": 4
}
