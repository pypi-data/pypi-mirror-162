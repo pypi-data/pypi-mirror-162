{
 "cells": [
  {
   "cell_type": "markdown",
   "metadata": {},
   "source": [
    "# Falling Ball Viscometer\n",
    "## Example E3 from NIST 1900\n",
    "\n",
    "Reference: NIST Technical Note 1900 (http://dx.doi.org/10.6028/NIST.TN.1900)\n",
    "\n",
    "This example demonstrates loading the configuration from a file."
   ]
  },
  {
   "cell_type": "code",
   "execution_count": 1,
   "metadata": {},
   "outputs": [],
   "source": [
    "import suncal"
   ]
  },
  {
   "cell_type": "code",
   "execution_count": 2,
   "metadata": {},
   "outputs": [
    {
     "data": {
      "text/markdown": [
       "|Function   | Method       | Nominal   | Std. Uncertainty   | 95% Coverage   | k         | Deg. Freedom  |\n",
       "|----------|------------|---------|------------------|--------------|---------|--------------|\n",
       "|$\\mu_{m}$   | GUM          | 5.69 mPa·s  | 1.03 mPa·s           | ± 2.01 mPa·s     | 1.960     | inf           |\n",
       "|$\\mu_{m}$   | Monte Carlo  | 5.82 mPa·s  | 1.11 mPa·s           | (4.05 mPa·s, 8.40 mPa·s) | 1.950     | -             |"
      ],
      "text/plain": [
       "<suncal.report.Report at 0x29e553e1248>"
      ]
     },
     "execution_count": 2,
     "metadata": {},
     "output_type": "execute_result"
    }
   ],
   "source": [
    "u = suncal.UncertCalc.from_configfile('../ex_viscometer.yaml')\n",
    "out = u.calculate()\n",
    "out.report(n=3)"
   ]
  },
  {
   "cell_type": "code",
   "execution_count": 3,
   "metadata": {},
   "outputs": [
    {
     "data": {
      "text/markdown": [
       "|Variable   | Mean      | Std. Uncertainty   | Deg. Freedom   | Description                              |\n",
       "|----------|---------|------------------|--------------|-----------------------------------------|\n",
       "|$\\mu_{c}$   | 4.630  | 0.046 mPa·s           | inf       | Viscosity of calibration liquid          |\n",
       "|$\\rho_{b}$   | 2217.00  | 0.50 kg/m³           | inf       | Density of ball                          |\n",
       "|$\\rho_{c}$   | 810.00  | 0.50 kg/m³           | inf       | Density of calibration liquid            |\n",
       "|$\\rho_{m}$   | 1180.00  | 0.50 kg/m³          | inf      | Density of sodium hydroxide solution     |\n",
       "|$t_{c}$   | 36.6 | 5.5 s          | inf      | Travel time in calibration liquid        |\n",
       "|$t_{m}$   | 61.0 | 6.1 s          | inf      | Travel time in sodium hydroxide solution |"
      ],
      "text/plain": [
       "<suncal.report.Report at 0x29e54dc8788>"
      ]
     },
     "execution_count": 3,
     "metadata": {},
     "output_type": "execute_result"
    }
   ],
   "source": [
    "u.out.report_inputs()"
   ]
  },
  {
   "cell_type": "code",
   "execution_count": 4,
   "metadata": {},
   "outputs": [
    {
     "data": {
      "text/markdown": [
       "### GUM Approximation\n",
       "\n",
       "\n",
       "|Function   | Interval   | Min       | Max       | k         | Deg. Freedom   | Expanded Uncertainty  |\n",
       "|----------|----------|---------|---------|---------|--------------|----------------------|\n",
       "|$\\mu_{m}$   | 99.00%     | 3.0 mPa·s  | 8.3 mPa·s  | 2.576     | inf            | 2.6 mPa·s              |\n",
       "|-          | 95.00%     | 3.7 mPa·s  | 7.7 mPa·s  | 1.960     | inf            | 2.0 mPa·s              |\n",
       "|-          | 90.00%     | 4.0 mPa·s  | 7.4 mPa·s  | 1.645     | inf            | 1.7 mPa·s              |\n",
       "|-          | 68.00%     | 4.7 mPa·s  | 6.7 mPa·s | 0.994     | inf            | 1.0 mPa·s             |\n",
       "\n",
       "\n",
       "### Monte Carlo\n",
       "\n",
       "Symmetric Coverage Intervals\n",
       "\n",
       "|Function   | Interval   | Min       | Max       | k        |\n",
       "|----------|----------|---------|---------|---------|\n",
       "|$\\mu_{m}$   | 99.00%     | 3.7 mPa·s  | 9.7 mPa·s  | 2.722    |\n",
       "|-          | 95.00%     | 4.1 mPa·s  | 8.4 mPa·s  | 1.950    |\n",
       "|-          | 90.00%     | 4.3 mPa·s  | 7.8 mPa·s  | 1.598    |\n",
       "|-          | 68.00%     | 4.8 mPa·s  | 6.9 mPa·s  | 0.935    |"
      ],
      "text/plain": [
       "<suncal.report.Report at 0x29e554560c8>"
      ]
     },
     "execution_count": 4,
     "metadata": {},
     "output_type": "execute_result"
    }
   ],
   "source": [
    "u.out.report_expanded()"
   ]
  },
  {
   "cell_type": "code",
   "execution_count": 5,
   "metadata": {},
   "outputs": [
    {
     "data": {
      "image/png": "[encoded data removed]",
      "text/plain": [
       "<Figure size 432x288 with 1 Axes>"
      ]
     },
     "metadata": {
      "needs_background": "light"
     },
     "output_type": "display_data"
    }
   ],
   "source": [
    "# Compare to NIST1900 Exhibit 3.\n",
    "u.out.plot_pdf();"
   ]
  },
  {
   "cell_type": "code",
   "execution_count": 6,
   "metadata": {},
   "outputs": [
    {
     "data": {
      "text/markdown": [
       "### Measurement Model:\n",
       "\n",
       "$\\mu_{m} = \\frac{\\mu_{c} t_{m} \\left(\\rho_{b} - \\rho_{m}\\right)}{t_{c} \\left(\\rho_{b} - \\rho_{c}\\right)}$\n",
       "\n",
       "### Measured Values:\n",
       "\n",
       "\n",
       "|Variable   | Std. Uncertainty   | Deg. Freedom  |\n",
       "|----------|------------------|--------------|\n",
       "|$\\mu_{c} = 4.63$   | $u_{\\mu c} = 0.0463\\,\\mathrm{mPa} \\cdot \\mathrm{s}$           | $\\nu_{\\mu c} = \\infty$      |\n",
       "|$\\rho_{b} = 2217.0$   | $u_{\\rho b} = 0.5\\,\\frac{\\mathrm{kg}}{\\mathrm{m}^{3}}$           | $\\nu_{\\rho b} = \\infty$      |\n",
       "|$\\rho_{c} = 810.0$   | $u_{\\rho c} = 0.5\\,\\frac{\\mathrm{kg}}{\\mathrm{m}^{3}}$           | $\\nu_{\\rho c} = \\infty$      |\n",
       "|$\\rho_{m} = 1180.0$  | $u_{\\rho m} = 0.5\\,\\frac{\\mathrm{kg}}{\\mathrm{m}^{3}}$          | $\\nu_{\\rho m} = \\infty$     |\n",
       "|$t_{c} = 36.6$  | $u_{t c} = 5.49\\,\\mathrm{s}$          | $\\nu_{t c} = \\infty$     |\n",
       "|$t_{m} = 61.0$  | $u_{t m} = 6.1\\,\\mathrm{s}$          | $\\nu_{t m} = \\infty$     |\n",
       "\n",
       "\n",
       "### Sensitivity Coefficients:\n",
       "\n",
       "$\\frac{\\partial}{\\partial \\mu_{c}} \\mu_{m} = \\frac{t_{m} \\left(\\rho_{b} - \\rho_{m}\\right)}{t_{c} \\left(\\rho_{b} - \\rho_{c}\\right)}$  $ = 1.2284$ \n",
       "\n",
       "$\\frac{\\partial}{\\partial \\rho_{b}} \\mu_{m} = \\frac{\\mu_{c} t_{m} \\left(- \\rho_{c} + \\rho_{m}\\right)}{t_{c} \\left(\\rho_{b} - \\rho_{c}\\right)^{2}}$  $ = 0.0014$ m³·mPa·s/kg\n",
       "\n",
       "$\\frac{\\partial}{\\partial \\rho_{c}} \\mu_{m} = \\frac{\\mu_{c} t_{m} \\left(\\rho_{b} - \\rho_{m}\\right)}{t_{c} \\left(\\rho_{b} - \\rho_{c}\\right)^{2}}$  $ = 0.0040$ m³·mPa·s/kg\n",
       "\n",
       "$\\frac{\\partial}{\\partial \\rho_{m}} \\mu_{m} = - \\frac{\\mu_{c} t_{m}}{t_{c} \\left(\\rho_{b} - \\rho_{c}\\right)}$  $ = -0.0055$ m³·mPa·s/kg\n",
       "\n",
       "$\\frac{\\partial}{\\partial t_{c}} \\mu_{m} = \\frac{\\mu_{c} t_{m} \\left(- \\rho_{b} + \\rho_{m}\\right)}{t_{c}^{2} \\left(\\rho_{b} - \\rho_{c}\\right)}$  $ = -0.1554$ mPa\n",
       "\n",
       "$\\frac{\\partial}{\\partial t_{m}} \\mu_{m} = \\frac{\\mu_{c} \\left(\\rho_{b} - \\rho_{m}\\right)}{t_{c} \\left(\\rho_{b} - \\rho_{c}\\right)}$  $ = 0.0932$ mPa\n",
       "\n",
       "### Combined Uncertainty:\n",
       "\n",
       "$u_{\\mu m} = \\sqrt{u_{\\mu c}^{2} \\left(\\frac{\\partial}{\\partial \\mu_{c}} \\mu_{m}\\right)^{2} + u_{\\rho b}^{2} \\left(\\frac{\\partial}{\\partial \\rho_{b}} \\mu_{m}\\right)^{2} + u_{\\rho c}^{2} \\left(\\frac{\\partial}{\\partial \\rho_{c}} \\mu_{m}\\right)^{2} + u_{\\rho m}^{2} \\left(\\frac{\\partial}{\\partial \\rho_{m}} \\mu_{m}\\right)^{2} + u_{t c}^{2} \\left(\\frac{\\partial}{\\partial t_{c}} \\mu_{m}\\right)^{2} + u_{t m}^{2} \\left(\\frac{\\partial}{\\partial t_{m}} \\mu_{m}\\right)^{2}}$\n",
       "\n",
       "$u_{\\mu m} = \\sqrt{\\frac{\\mu_{c}^{2} t_{c}^{2} t_{m}^{2} \\left(u_{\\rho b}^{2} \\left(\\rho_{c} - \\rho_{m}\\right)^{2} + u_{\\rho c}^{2} \\left(\\rho_{b} - \\rho_{m}\\right)^{2}\\right) + \\mu_{c}^{2} t_{m}^{2} u_{t c}^{2} \\left(\\rho_{b} - \\rho_{c}\\right)^{2} \\left(\\rho_{b} - \\rho_{m}\\right)^{2} + t_{c}^{2} \\left(\\rho_{b} - \\rho_{c}\\right)^{2} \\left(\\mu_{c}^{2} t_{m}^{2} u_{\\rho m}^{2} + \\mu_{c}^{2} u_{t m}^{2} \\left(\\rho_{b} - \\rho_{m}\\right)^{2} + t_{m}^{2} u_{\\mu c}^{2} \\left(\\rho_{b} - \\rho_{m}\\right)^{2}\\right)}{t_{c}^{4} \\left(\\rho_{b} - \\rho_{c}\\right)^{4}}} = 1.027\\,\\mathrm{mPa} \\cdot \\mathrm{s}$\n",
       "\n",
       "### Effective degrees of freedom:\n",
       "\n",
       "$\\nu_{\\mu m} = \\frac{u_{\\mu m}^{4}}{\\frac{\\mu_{c}^{4} u_{t m}^{4} \\left(\\rho_{b} - \\rho_{m}\\right)^{4}}{\\nu_{t m} t_{c}^{4} \\left(\\rho_{b} - \\rho_{c}\\right)^{4}} + \\frac{\\mu_{c}^{4} t_{m}^{4} u_{t c}^{4} \\left(- \\rho_{b} + \\rho_{m}\\right)^{4}}{\\nu_{t c} t_{c}^{8} \\left(\\rho_{b} - \\rho_{c}\\right)^{4}} + \\frac{\\mu_{c}^{4} t_{m}^{4} u_{\\rho m}^{4}}{\\nu_{\\rho m} t_{c}^{4} \\left(\\rho_{b} - \\rho_{c}\\right)^{4}} + \\frac{\\mu_{c}^{4} t_{m}^{4} u_{\\rho c}^{4} \\left(\\rho_{b} - \\rho_{m}\\right)^{4}}{\\nu_{\\rho c} t_{c}^{4} \\left(\\rho_{b} - \\rho_{c}\\right)^{8}} + \\frac{\\mu_{c}^{4} t_{m}^{4} u_{\\rho b}^{4} \\left(- \\rho_{c} + \\rho_{m}\\right)^{4}}{\\nu_{\\rho b} t_{c}^{4} \\left(\\rho_{b} - \\rho_{c}\\right)^{8}} + \\frac{t_{m}^{4} u_{\\mu c}^{4} \\left(\\rho_{b} - \\rho_{m}\\right)^{4}}{\\nu_{\\mu c} t_{c}^{4} \\left(\\rho_{b} - \\rho_{c}\\right)^{4}}} = \\infty$"
      ],
      "text/plain": [
       "<suncal.report.Report at 0x29e5b4afec8>"
      ]
     },
     "execution_count": 6,
     "metadata": {},
     "output_type": "execute_result"
    }
   ],
   "source": [
    "# What did the GUM calculation actually do?\n",
    "u.out.gum.report_derivation(solve=True)"
   ]
  },
  {
   "cell_type": "code",
   "execution_count": null,
   "metadata": {},
   "outputs": [],
   "source": []
  }
 ],
 "metadata": {
  "kernelspec": {
   "display_name": "Python 3 (ipykernel)",
   "language": "python",
   "name": "python3"
  },
  "language_info": {
   "codemirror_mode": {
    "name": "ipython",
    "version": 3
   },
   "file_extension": ".py",
   "mimetype": "text/x-python",
   "name": "python",
   "nbconvert_exporter": "python",
   "pygments_lexer": "ipython3",
   "version": "3.7.9"
  }
 },
 "nbformat": 4,
 "nbformat_minor": 4
}
