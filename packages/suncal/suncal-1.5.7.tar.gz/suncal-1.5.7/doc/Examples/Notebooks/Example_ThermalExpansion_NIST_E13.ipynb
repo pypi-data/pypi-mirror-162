{
 "cells": [
  {
   "cell_type": "markdown",
   "metadata": {},
   "source": [
    "# Thermal Expansion Coefficient\n",
    "## Example E13 from NIST 1900\n",
    "\n",
    "Reference: NIST Technical Note 1900 (http://dx.doi.org/10.6028/NIST.TN.1900)\n",
    "\n",
    "\n",
    "### Gaussian Inputs\n",
    "\n",
    "E13 first gives the calculation assuming all Gaussian inputs. It computes mean value and expanded uncertainties at 95% and 99% coverage."
   ]
  },
  {
   "cell_type": "code",
   "execution_count": 1,
   "metadata": {},
   "outputs": [],
   "source": [
    "import suncal"
   ]
  },
  {
   "cell_type": "code",
   "execution_count": 2,
   "metadata": {},
   "outputs": [
    {
     "data": {
      "text/markdown": [
       "|Function   | Method       | Nominal   | Std. Uncertainty   | 95% Coverage   | k         | Deg. Freedom  |\n",
       "|----------|------------|---------|------------------|--------------|---------|--------------|\n",
       "|$f_{1}$   | GUM          | 0.0000173 1/K  | 1.8e-06 1/K           | ± 3.4e-06 1/K     | 1.960     | inf           |\n",
       "|$f_{1}$   | Monte Carlo  | 0.0000173 1/K  | 1.8e-06 1/K           | (0.0000138 1/K, 0.0000207 1/K) | 1.961     | -             |"
      ],
      "text/plain": [
       "|Function   | Method       | Nominal   | Std. Uncertainty   | 95% Coverage   | k         | Deg. Freedom  |\n",
       "|----------|------------|---------|------------------|--------------|---------|--------------|\n",
       "|$f_{1}$   | GUM          | 0.0000173 1/K  | 1.8e-06 1/K           | ± 3.4e-06 1/K     | 1.960     | inf           |\n",
       "|$f_{1}$   | Monte Carlo  | 0.0000173 1/K  | 1.8e-06 1/K           | (0.0000138 1/K, 0.0000207 1/K) | 1.961     | -             |"
      ]
     },
     "metadata": {},
     "output_type": "display_data"
    },
    {
     "data": {
      "text/markdown": [
       "### GUM Approximation\n",
       "\n",
       "\n",
       "|Function   | Interval   | Min       | Max       | k         | Deg. Freedom   | Expanded Uncertainty  |\n",
       "|----------|----------|---------|---------|---------|--------------|----------------------|\n",
       "|$f_{1}$   | 99.00%     | 0.000013 1/K  | 0.000022 1/K  | 2.576     | inf            | 4.5e-06 1/K              |\n",
       "|-          | 95.00%     | 0.000014 1/K  | 0.000021 1/K  | 1.960     | inf            | 3.4e-06 1/K              |\n",
       "|-          | 90.00%     | 0.000014 1/K  | 0.000020 1/K  | 1.645     | inf            | 2.9e-06 1/K              |\n",
       "|-          | 68.00%     | 0.000016 1/K  | 0.000019 1/K | 0.994     | inf            | 1.7e-06 1/K             |\n",
       "\n",
       "\n",
       "### Monte Carlo\n",
       "\n",
       "Symmetric Coverage Intervals\n",
       "\n",
       "|Function   | Interval   | Min       | Max       | k        |\n",
       "|----------|----------|---------|---------|---------|\n",
       "|$f_{1}$   | 99.00%     | 0.000013 1/K  | 0.000022 1/K  | 2.573    |\n",
       "|-          | 95.00%     | 0.000014 1/K  | 0.000021 1/K  | 1.961    |\n",
       "|-          | 90.00%     | 0.000014 1/K  | 0.000020 1/K  | 1.646    |\n",
       "|-          | 68.00%     | 0.000016 1/K  | 0.000019 1/K  | 0.995    |"
      ],
      "text/plain": [
       "<suncal.report.Report at 0x1e400de0b88>"
      ]
     },
     "metadata": {},
     "output_type": "display_data"
    }
   ],
   "source": [
    "expansion = '(L1-L0)/(L0*(T1-T0))'\n",
    "\n",
    "inputs = [{'name': 'L0', 'nom':1.4999, 'units': 'm', 'uncerts': [{'name': 'uL0', 'std':.0001}]},\n",
    "          {'name': 'T0', 'nom':288.15, 'units': 'K', 'uncerts': [{'name': 'uT0', 'std':.02}]},\n",
    "          {'name': 'L1', 'nom':1.5021, 'units': 'm', 'uncerts': [{'name': 'uL1', 'std':.0002}]},\n",
    "          {'name': 'T1', 'nom':373.10, 'units': 'K', 'uncerts': [{'name': 'uT1', 'std':.05}]}]\n",
    "u = suncal.UncertCalc(expansion, inputs=inputs)\n",
    "display(u.calculate(intervals=[0.95, 0.99]))\n",
    "display(u.out.report_expanded())"
   ]
  },
  {
   "cell_type": "markdown",
   "metadata": {},
   "source": [
    "---\n",
    "### Student Inputs\n",
    "Next, the example supposes the inputs are t-distributions with 3 degrees of freedom, and recalculates."
   ]
  },
  {
   "cell_type": "code",
   "execution_count": 3,
   "metadata": {},
   "outputs": [
    {
     "data": {
      "text/markdown": [
       "|Function   | Method       | Nominal   | Std. Uncertainty   | 95% Coverage   | k         | Deg. Freedom  |\n",
       "|----------|------------|---------|------------------|--------------|---------|--------------|\n",
       "|$f_{1}$   | GUM          | 0.0000173 1/K  | 1.8e-06 1/K           | ± 4.7e-06 1/K     | 2.676     | 4.4           |\n",
       "|$f_{1}$   | Monte Carlo  | 0.0000173 1/K  | 1.7e-06 1/K           | (0.0000140 1/K, 0.0000205 1/K) | 1.865     | -             |"
      ],
      "text/plain": [
       "|Function   | Method       | Nominal   | Std. Uncertainty   | 95% Coverage   | k         | Deg. Freedom  |\n",
       "|----------|------------|---------|------------------|--------------|---------|--------------|\n",
       "|$f_{1}$   | GUM          | 0.0000173 1/K  | 1.8e-06 1/K           | ± 4.7e-06 1/K     | 2.676     | 4.4           |\n",
       "|$f_{1}$   | Monte Carlo  | 0.0000173 1/K  | 1.7e-06 1/K           | (0.0000140 1/K, 0.0000205 1/K) | 1.865     | -             |"
      ]
     },
     "metadata": {},
     "output_type": "display_data"
    },
    {
     "data": {
      "text/markdown": [
       "### GUM Approximation\n",
       "\n",
       "\n",
       "|Function   | Interval   | Min       | Max       | k         | Deg. Freedom   | Expanded Uncertainty  |\n",
       "|----------|----------|---------|---------|---------|--------------|----------------------|\n",
       "|$f_{1}$   | 99.00%     | 9.7e-06 1/K  | 0.000025 1/K  | 4.321     | 4.42           | 7.6e-06 1/K              |\n",
       "|-          | 95.00%     | 0.000013 1/K  | 0.000022 1/K  | 2.676     | 4.42           | 4.7e-06 1/K              |\n",
       "|-          | 90.00%     | 0.000014 1/K  | 0.000021 1/K  | 2.075     | 4.42           | 3.6e-06 1/K              |\n",
       "|-          | 68.00%     | 0.000015 1/K  | 0.000019 1/K | 1.120     | 4.42           | 2.0e-06 1/K             |\n",
       "\n",
       "\n",
       "### Monte Carlo\n",
       "\n",
       "Symmetric Coverage Intervals\n",
       "\n",
       "|Function   | Interval   | Min       | Max       | k        |\n",
       "|----------|----------|---------|---------|---------|\n",
       "|$f_{1}$   | 99.00%     | 0.000012 1/K  | 0.000023 1/K  | 3.285    |\n",
       "|-          | 95.00%     | 0.000014 1/K  | 0.000021 1/K  | 1.865    |\n",
       "|-          | 90.00%     | 0.000015 1/K  | 0.000020 1/K  | 1.412    |\n",
       "|-          | 68.00%     | 0.000016 1/K  | 0.000019 1/K  | 0.741    |"
      ],
      "text/plain": [
       "<suncal.report.Report at 0x1e4005b4a08>"
      ]
     },
     "execution_count": 3,
     "metadata": {},
     "output_type": "execute_result"
    }
   ],
   "source": [
    "inputs = [{'name': 'L0', 'nom':1.4999, 'units': 'm', 'uncerts': [{'name': 'uL0', 'dist':'t', 'unc':.0001, 'df':3}]},\n",
    "          {'name': 'T0', 'nom':288.15, 'units': 'K', 'uncerts': [{'name': 'uT0', 'dist':'t', 'unc':.02,   'df':3}]},\n",
    "          {'name': 'L1', 'nom':1.5021, 'units': 'm', 'uncerts': [{'name': 'uL1', 'dist':'t', 'unc':.0002, 'df':3}]},\n",
    "          {'name': 'T1', 'nom':373.10, 'units': 'K', 'uncerts': [{'name': 'uT1', 'dist':'t', 'unc':.05,   'df':3}]}]\n",
    "u = suncal.UncertCalc(expansion, inputs=inputs)\n",
    "display(u.calculate())\n",
    "u.out.report_expanded(conflist=[0.95, 0.99])"
   ]
  },
  {
   "cell_type": "code",
   "execution_count": 4,
   "metadata": {},
   "outputs": [
    {
     "data": {
      "image/png": "[encoded data removed]",
      "text/plain": [
       "<Figure size 432x288 with 1 Axes>"
      ]
     },
     "metadata": {
      "needs_background": "light"
     },
     "output_type": "display_data"
    }
   ],
   "source": [
    "u.out.plot_pdf(intervals=[.95, .99]);"
   ]
  },
  {
   "cell_type": "code",
   "execution_count": null,
   "metadata": {},
   "outputs": [],
   "source": []
  },
  {
   "cell_type": "code",
   "execution_count": null,
   "metadata": {},
   "outputs": [],
   "source": []
  }
 ],
 "metadata": {
  "kernelspec": {
   "display_name": "Python 3 (ipykernel)",
   "language": "python",
   "name": "python3"
  },
  "language_info": {
   "codemirror_mode": {
    "name": "ipython",
    "version": 3
   },
   "file_extension": ".py",
   "mimetype": "text/x-python",
   "name": "python",
   "nbconvert_exporter": "python",
   "pygments_lexer": "ipython3",
   "version": "3.7.9"
  }
 },
 "nbformat": 4,
 "nbformat_minor": 4
}
