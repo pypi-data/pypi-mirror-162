{
 "cells": [
  {
   "cell_type": "code",
   "execution_count": 1,
   "id": "a31d2350",
   "metadata": {},
   "outputs": [],
   "source": [
    "from ipr import main\n",
    "import matplotlib.pyplot as plt"
   ]
  },
  {
   "cell_type": "code",
   "execution_count": 2,
   "id": "b67666c1",
   "metadata": {},
   "outputs": [],
   "source": [
    "PRESSAO_ESTATICA = 300\n",
    "PRESSAO_DE_BOLHA = 200\n",
    "PRESSAO_FUNDO_POCO_1 = 180\n",
    "VAZAO = 3000\n",
    "NUMERO_PONTOS = 12"
   ]
  },
  {
   "cell_type": "code",
   "execution_count": 3,
   "id": "0bf2fc0d",
   "metadata": {},
   "outputs": [],
   "source": [
    "resultado = main(\n",
    "    pressao_estatica=PRESSAO_ESTATICA, \n",
    "    pressao_de_bolha=PRESSAO_DE_BOLHA, \n",
    "    pressao_fundo_poco_1=PRESSAO_FUNDO_POCO_1,\n",
    "    vazao=VAZAO,\n",
    "    numero_pontos=NUMERO_PONTOS)"
   ]
  },
  {
   "cell_type": "code",
   "execution_count": 4,
   "id": "e683024d",
   "metadata": {},
   "outputs": [
    {
     "data": {
      "text/html": [
       "<div>\n",
       "<style scoped>\n",
       "    .dataframe tbody tr th:only-of-type {\n",
       "        vertical-align: middle;\n",
       "    }\n",
       "\n",
       "    .dataframe tbody tr th {\n",
       "        vertical-align: top;\n",
       "    }\n",
       "\n",
       "    .dataframe thead th {\n",
       "        text-align: right;\n",
       "    }\n",
       "</style>\n",
       "<table border=\"1\" class=\"dataframe\">\n",
       "  <thead>\n",
       "    <tr style=\"text-align: right;\">\n",
       "      <th></th>\n",
       "      <th>pressoes</th>\n",
       "      <th>vazoes</th>\n",
       "    </tr>\n",
       "  </thead>\n",
       "  <tbody>\n",
       "    <tr>\n",
       "      <th>0</th>\n",
       "      <td>300.0</td>\n",
       "      <td>0.000000</td>\n",
       "    </tr>\n",
       "    <tr>\n",
       "      <th>1</th>\n",
       "      <td>275.0</td>\n",
       "      <td>625.000000</td>\n",
       "    </tr>\n",
       "    <tr>\n",
       "      <th>2</th>\n",
       "      <td>250.0</td>\n",
       "      <td>1250.000000</td>\n",
       "    </tr>\n",
       "    <tr>\n",
       "      <th>3</th>\n",
       "      <td>225.0</td>\n",
       "      <td>1875.000000</td>\n",
       "    </tr>\n",
       "    <tr>\n",
       "      <th>4</th>\n",
       "      <td>200.0</td>\n",
       "      <td>2518.656716</td>\n",
       "    </tr>\n",
       "    <tr>\n",
       "      <th>5</th>\n",
       "      <td>175.0</td>\n",
       "      <td>3113.339552</td>\n",
       "    </tr>\n",
       "    <tr>\n",
       "      <th>6</th>\n",
       "      <td>150.0</td>\n",
       "      <td>3638.059701</td>\n",
       "    </tr>\n",
       "    <tr>\n",
       "      <th>7</th>\n",
       "      <td>125.0</td>\n",
       "      <td>4092.817164</td>\n",
       "    </tr>\n",
       "    <tr>\n",
       "      <th>8</th>\n",
       "      <td>100.0</td>\n",
       "      <td>4477.611940</td>\n",
       "    </tr>\n",
       "    <tr>\n",
       "      <th>9</th>\n",
       "      <td>75.0</td>\n",
       "      <td>4792.444030</td>\n",
       "    </tr>\n",
       "    <tr>\n",
       "      <th>10</th>\n",
       "      <td>50.0</td>\n",
       "      <td>5037.313433</td>\n",
       "    </tr>\n",
       "    <tr>\n",
       "      <th>11</th>\n",
       "      <td>25.0</td>\n",
       "      <td>5212.220149</td>\n",
       "    </tr>\n",
       "    <tr>\n",
       "      <th>12</th>\n",
       "      <td>0.0</td>\n",
       "      <td>5317.164179</td>\n",
       "    </tr>\n",
       "  </tbody>\n",
       "</table>\n",
       "</div>"
      ],
      "text/plain": [
       "    pressoes       vazoes\n",
       "0      300.0     0.000000\n",
       "1      275.0   625.000000\n",
       "2      250.0  1250.000000\n",
       "3      225.0  1875.000000\n",
       "4      200.0  2518.656716\n",
       "5      175.0  3113.339552\n",
       "6      150.0  3638.059701\n",
       "7      125.0  4092.817164\n",
       "8      100.0  4477.611940\n",
       "9       75.0  4792.444030\n",
       "10      50.0  5037.313433\n",
       "11      25.0  5212.220149\n",
       "12       0.0  5317.164179"
      ]
     },
     "execution_count": 4,
     "metadata": {},
     "output_type": "execute_result"
    }
   ],
   "source": [
    "resultado"
   ]
  },
  {
   "cell_type": "code",
   "execution_count": 9,
   "id": "a24db8f6",
   "metadata": {},
   "outputs": [
    {
     "data": {
      "text/plain": [
       "<matplotlib.collections.PathCollection at 0x7ff0e7d13a30>"
      ]
     },
     "execution_count": 9,
     "metadata": {},
     "output_type": "execute_result"
    },
    {
     "data": {
      "image/png": "[encoded data removed]",
      "text/plain": [
       "<Figure size 432x288 with 1 Axes>"
      ]
     },
     "metadata": {
      "needs_background": "light"
     },
     "output_type": "display_data"
    }
   ],
   "source": [
    "plt.scatter(resultado.vazoes, resultado.pressoes)"
   ]
  },
  {
   "cell_type": "code",
   "execution_count": 8,
   "id": "19b2b86a",
   "metadata": {},
   "outputs": [
    {
     "data": {
      "text/plain": [
       "<AxesSubplot:xlabel='vazoes'>"
      ]
     },
     "execution_count": 8,
     "metadata": {},
     "output_type": "execute_result"
    },
    {
     "data": {
      "image/png": "[encoded data removed]",
      "text/plain": [
       "<Figure size 432x288 with 1 Axes>"
      ]
     },
     "metadata": {
      "needs_background": "light"
     },
     "output_type": "display_data"
    }
   ],
   "source": [
    "resultado.plot(\"vazoes\", \"pressoes\")"
   ]
  },
  {
   "cell_type": "code",
   "execution_count": null,
   "id": "3e61aae7",
   "metadata": {},
   "outputs": [],
   "source": []
  },
  {
   "cell_type": "code",
   "execution_count": null,
   "id": "00997c13",
   "metadata": {},
   "outputs": [],
   "source": []
  },
  {
   "cell_type": "code",
   "execution_count": null,
   "id": "3e6db454",
   "metadata": {},
   "outputs": [],
   "source": []
  },
  {
   "cell_type": "code",
   "execution_count": null,
   "id": "87ce64dc",
   "metadata": {},
   "outputs": [],
   "source": [
    "def minha_funcao(numero_1, numero_2):\n",
    "    return numero_1 + numero_2"
   ]
  },
  {
   "cell_type": "code",
   "execution_count": null,
   "id": "10e7e1ba",
   "metadata": {},
   "outputs": [],
   "source": [
    "minha_funcao(numero_1=3, numero_2=5)"
   ]
  },
  {
   "cell_type": "code",
   "execution_count": null,
   "id": "9e1123eb",
   "metadata": {},
   "outputs": [],
   "source": []
  },
  {
   "cell_type": "code",
   "execution_count": null,
   "id": "5f41d3b6",
   "metadata": {},
   "outputs": [],
   "source": []
  },
  {
   "cell_type": "code",
   "execution_count": null,
   "id": "3ef571cc",
   "metadata": {},
   "outputs": [],
   "source": []
  },
  {
   "cell_type": "code",
   "execution_count": null,
   "id": "cb59ad34",
   "metadata": {},
   "outputs": [],
   "source": []
  },
  {
   "cell_type": "code",
   "execution_count": null,
   "id": "6bb61899",
   "metadata": {},
   "outputs": [],
   "source": []
  },
  {
   "cell_type": "code",
   "execution_count": null,
   "id": "a47e6a46",
   "metadata": {},
   "outputs": [],
   "source": []
  }
 ],
 "metadata": {
  "kernelspec": {
   "display_name": "pynodal",
   "language": "python",
   "name": "pynodal"
  },
  "language_info": {
   "codemirror_mode": {
    "name": "ipython",
    "version": 3
   },
   "file_extension": ".py",
   "mimetype": "text/x-python",
   "name": "python",
   "nbconvert_exporter": "python",
   "pygments_lexer": "ipython3",
   "version": "3.10.5"
  }
 },
 "nbformat": 4,
 "nbformat_minor": 5
}
