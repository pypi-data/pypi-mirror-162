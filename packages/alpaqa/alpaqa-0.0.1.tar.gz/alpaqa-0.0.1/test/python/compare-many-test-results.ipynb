{
 "cells": [
  {
   "cell_type": "code",
   "execution_count": null,
   "id": "wanted-compilation",
   "metadata": {},
   "outputs": [],
   "source": [
    "from os.path import join, dirname, basename, splitext, abspath\n",
    "from glob import glob\n",
    "import pandas as pd\n",
    "import yaml\n",
    "import platform\n",
    "from datetime import timedelta\n",
    "from IPython.display import display\n",
    "from IPython.core.display import display, HTML\n",
    "import platform\n",
    "from util.loader import load_raw_data, convert_data\n",
    "display(HTML(\"<style>.container { width:100% !important; }</style>\"))\n",
    "\n",
    "this_folder = dirname(__file__) if '__file__' in globals() else abspath('')\n",
    "root_folder = dirname(dirname(this_folder))\n",
    "def get_test_result_folder(testname = 'baseline'):\n",
    "    return join(root_folder, 'test', 'testresults', 'XPS-15-9560', testname, 'CUTEst')\n",
    "\n",
    "def color_negative_red(val):\n",
    "    color = 'red' if val < 0 else 'black'\n",
    "    return f'color: {color}'\n",
    "def color_negative_red_positive_green(val):\n",
    "    if val > 0:\n",
    "        return 'color: green'\n",
    "    elif val < 0:\n",
    "        return 'color: red'\n",
    "    else:\n",
    "        return ''"
   ]
  },
  {
   "cell_type": "code",
   "execution_count": null,
   "id": "understanding-counter",
   "metadata": {},
   "outputs": [],
   "source": [
    "tests = [\n",
    "    'panoc-lbfgs-boxnqp',\n",
    "    'panoc-slbfgs-boxnqp',\n",
    "    'lbfgspp-boxnqp',\n",
    "    'lbfgsbpp-boxnqp',\n",
    "]\n",
    "results_folders = [ get_test_result_folder(t) for t in tests ]"
   ]
  },
  {
   "cell_type": "code",
   "execution_count": null,
   "id": "worldwide-there",
   "metadata": {
    "scrolled": true
   },
   "outputs": [],
   "source": [
    "results_raw = [ load_raw_data(f) for f in results_folders ]"
   ]
  },
  {
   "cell_type": "code",
   "execution_count": null,
   "id": "engaging-blackberry",
   "metadata": {},
   "outputs": [],
   "source": [
    "results_df = [ convert_data(r) for r in results_raw ]"
   ]
  },
  {
   "cell_type": "code",
   "execution_count": null,
   "id": "editorial-acquisition",
   "metadata": {},
   "outputs": [],
   "source": [
    "def df_stats(df):\n",
    "    conv = df['status'].value_counts()['Converged']\n",
    "    tot = df['status'].count()\n",
    "    tot_time = df['time'].sum()\n",
    "    conv_time = df[df['status'] == 'Converged']['time'].sum()\n",
    "    print(f'Converged:      {conv}/{tot} = {100*conv/tot:.02f}%')\n",
    "    print(f'Total time:     {tot_time:.03f}s')\n",
    "    print(f'Converged time: {conv_time:.03f}s')"
   ]
  },
  {
   "cell_type": "code",
   "execution_count": null,
   "id": "friendly-sixth",
   "metadata": {},
   "outputs": [],
   "source": [
    "for test, df in zip(tests, results_df):\n",
    "    print(test + '\\n---\\n')\n",
    "    df_stats(df)\n",
    "    print('\\n')"
   ]
  },
  {
   "cell_type": "code",
   "execution_count": null,
   "id": "armed-product",
   "metadata": {
    "scrolled": true
   },
   "outputs": [],
   "source": [
    "all_converged = None \n",
    "for df in results_df:\n",
    "      all_converged = (df['status'] == 'Converged') if all_converged is None else all_converged & (df['status'] == 'Converged')\n",
    "print(f\"Converged in all tests: {len(results_df[0][all_converged].index)}\")\n",
    "\n",
    "stats = [\n",
    "    ('Time:                  ', lambda d: d['time'].sum()),\n",
    "    ('Objective evaluations: ', lambda d: d['f evaluations'].sum()),\n",
    "    ('Gradient evaluations:  ', lambda d: d['grad_f evaluations'].sum()),\n",
    "    ('Outer iterations:      ', lambda d: d['outer iterations'].sum()),\n",
    "    ('Inner iterations:      ', lambda d: d['inner iterations'].sum()),\n",
    "    ('Linesearch failures:   ', lambda d: d['linesearch failures'].sum()),\n",
    "    ('L-BFGS failures:       ', lambda d: d['L-BFGS failures'].sum()),\n",
    "    ('L-BFGS rejected:       ', lambda d: d['L-BFGS rejected'].sum()),\n",
    "]\n",
    "\n",
    "print('\\t\\t\\t' + '\\t'.join(tests))\n",
    "for stat, fun in stats:\n",
    "      res = [ str(fun(df[all_converged])) for df in results_df]\n",
    "      print(stat + '\\t' + '\\t'.join(res))"
   ]
  },
  {
   "cell_type": "code",
   "execution_count": null,
   "metadata": {},
   "outputs": [],
   "source": [
    "df = results_df[0]\n",
    "df[(df['status'] != 'Converged') & (df['n'] == 2)]"
   ]
  },
  {
   "cell_type": "code",
   "execution_count": null,
   "metadata": {},
   "outputs": [],
   "source": []
  }
 ],
 "metadata": {
  "kernelspec": {
   "name": "python3",
   "display_name": "Python 3.9.2 64-bit ('py-venv')",
   "metadata": {
    "interpreter": {
     "hash": "5d4654af3199d5fc6ec5bea3457d8073abad6f85647580598dff8c259a6b449c"
    }
   }
  },
  "language_info": {
   "codemirror_mode": {
    "name": "ipython",
    "version": 3
   },
   "file_extension": ".py",
   "mimetype": "text/x-python",
   "name": "python",
   "nbconvert_exporter": "python",
   "pygments_lexer": "ipython3",
   "version": "3.9.2-final"
  }
 },
 "nbformat": 4,
 "nbformat_minor": 5
}