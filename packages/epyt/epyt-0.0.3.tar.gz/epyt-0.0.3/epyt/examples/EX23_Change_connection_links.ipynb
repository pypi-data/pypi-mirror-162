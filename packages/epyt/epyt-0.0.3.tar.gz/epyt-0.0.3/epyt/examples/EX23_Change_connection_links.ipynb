{
 "cells": [
  {
   "cell_type": "markdown",
   "id": "1964e4da",
   "metadata": {},
   "source": [
    "### Change connection of the links\n",
    "\n",
    "This example contains:\n",
    "* Load network.\n",
    "* Get all link node indices.\n",
    "* Set link node indices for specific link index.\n",
    "* Unload library"
   ]
  },
  {
   "cell_type": "code",
   "execution_count": 1,
   "id": "f41279ff",
   "metadata": {},
   "outputs": [
    {
     "name": "stdout",
     "output_type": "stream",
     "text": [
      "EPANET version 20200 loaded (EPyT version 0.0.1).\n",
      "Input File Net1.inp loaded successfully.\n",
      "\n"
     ]
    }
   ],
   "source": [
    "from epyt import epanet\n",
    "\n",
    "# Load network\n",
    "d = epanet('Net1.inp')"
   ]
  },
  {
   "cell_type": "code",
   "execution_count": 2,
   "id": "1497c746",
   "metadata": {},
   "outputs": [
    {
     "name": "stdout",
     "output_type": "stream",
     "text": [
      "[3, 4]\n",
      "[2, 4]\n"
     ]
    }
   ],
   "source": [
    "# Examples: >> help d.getLinkNodesIndex\n",
    "linkIndex = 3\n",
    "# d.getLinkNameID  d.getNodeNameID\n",
    "\n",
    "# Get all link node indices\n",
    "linkNodes = d.getLinkNodesIndex(linkIndex)\n",
    "print(linkNodes)\n",
    "\n",
    "# Examples: >>> help (d.setLinkNodesIndex)\n",
    "startNode = 2\n",
    "endNode = 4\n",
    "# Set link node indices for specific link index\n",
    "d.setLinkNodesIndex(linkIndex, startNode, endNode)\n",
    "print(d.getLinkNodesIndex(linkIndex))"
   ]
  },
  {
   "cell_type": "code",
   "execution_count": 3,
   "id": "46fed625",
   "metadata": {},
   "outputs": [
    {
     "name": "stdout",
     "output_type": "stream",
     "text": [
      "Close toolkit for the input file \"Net1\". EPANET Toolkit is unloaded.\n",
      "\n"
     ]
    }
   ],
   "source": [
    "# Unload library\n",
    "d.unload()"
   ]
  }
 ],
 "metadata": {
  "kernelspec": {
   "display_name": "Python 3 (ipykernel)",
   "language": "python",
   "name": "python3"
  },
  "language_info": {
   "codemirror_mode": {
    "name": "ipython",
    "version": 3
   },
   "file_extension": ".py",
   "mimetype": "text/x-python",
   "name": "python",
   "nbconvert_exporter": "python",
   "pygments_lexer": "ipython3",
   "version": "3.9.7"
  }
 },
 "nbformat": 4,
 "nbformat_minor": 5
}
