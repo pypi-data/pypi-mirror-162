{
 "cells": [
  {
   "cell_type": "markdown",
   "id": "4c491567",
   "metadata": {},
   "source": [
    "# SNEWS_PT Examples\n"
   ]
  },
  {
   "cell_type": "markdown",
   "id": "af067f1c",
   "metadata": {},
   "source": [
    "## Publication"
   ]
  },
  {
   "cell_type": "code",
   "execution_count": 3,
   "id": "34bebc1c-8272-4a87-b877-31b77700907d",
   "metadata": {
    "tags": []
   },
   "outputs": [
    {
     "name": "stdout",
     "output_type": "stream",
     "text": [
      "{'detector_name': 'LZ', 'machine_time': '22/03/07 16:18:09:185459', 'neutrino_time': '22/03/07 16:18:09:185459', 'p_val': 0.0007, 'p_values': [0.0007, 0.0008, 0.0009], 't_bin_width': 0.07, 'timing_series': None, 'which_tier': None, 'n_retract_latest': None, 'retraction_reason': None, 'detector_status': None, 'is_pre_sn': False, 'meta': {}}\n",
      "['CoincidenceTier', 'SigTier']\n",
      "Sending message\n",
      "\u001B[94m----------------------------------------------------------------\u001B[0m\n",
      "\u001B[91mSending message to CoincidenceTier\u001B[0m\n",
      "_id                 :14_CoincidenceTier_22/03/07 16:18:09:185459\n",
      "detector_name       :LZ\n",
      "machine_time        :22/03/07 16:18:09:185459\n",
      "neutrino_time       :22/03/07 16:18:09:185459\n",
      "p_val               :0.0007\n",
      "meta                :{'meta': {}}\n",
      "schema_version      :1.1.0\n",
      "\u001B[94m----------------------------------------------------------------\u001B[0m\n",
      "\u001B[91mSending message to SigTier\u001B[0m\n",
      "_id                 :14_SigTier_22/03/07 16:18:09:185459\n",
      "detector_name       :LZ\n",
      "machine_time        :22/03/07 16:18:09:185459\n",
      "neutrino_time       :22/03/07 16:18:09:185459\n",
      "p_values            :[0.0007, 0.0008, 0.0009]\n",
      "t_bin_width         :0.07\n",
      "meta                :{'meta': {}}\n",
      "schema_version      :1.1.0\n"
     ]
    }
   ],
   "source": [
    "from snews_pt.snews_pub import SNEWSTiersPublisher\n",
    "from datetime import  datetime\n",
    "\n",
    "test_time = datetime.utcnow().strftime(\"%y/%m/%d %H:%M:%S:%f\")\n",
    "message = SNEWSTiersPublisher(detector_name='LZ',machine_time=test_time ,neutrino_time=test_time, p_val=0.0007, p_values=[0.0007,0.0008,0.0009],t_bin_width=0.07)\n",
    "print(message.message_data)\n",
    "print(message.tiernames)\n",
    "print('Sending message')\n",
    "message.send_to_snews()"
   ]
  },
  {
   "cell_type": "markdown",
   "id": "f6d67ae3",
   "metadata": {},
   "source": [
    "## Subscription"
   ]
  },
  {
   "cell_type": "code",
   "id": "0ea6d89a",
   "metadata": {
    "pycharm": {
     "name": "#%%\n"
    }
   },
   "source": [
    "from snews_pt.snews_sub import Subscriber\n",
    "\n",
    "Subscriber().subscribe()"
   ],
   "execution_count": 2,
   "outputs": [
    {
     "name": "stdout",
     "output_type": "stream",
     "text": [
      "You are subscribing to \u001B[41m\u001B[1mALERT\u001B[0m\n",
      "Broker:\u001B[42mkafka://kafka.scimma.org/snews.alert-test\u001B[0m\n"
     ]
    },
    {
     "ename": "ValueError",
     "evalue": "topic snews.alert-test does not exist on the broker, so can't subscribe",
     "output_type": "error",
     "traceback": [
      "\u001B[0;31m---------------------------------------------------------------------------\u001B[0m",
      "\u001B[0;31mKeyError\u001B[0m                                  Traceback (most recent call last)",
      "\u001B[0;32m~/opt/anaconda3/lib/python3.9/site-packages/adc/consumer.py\u001B[0m in \u001B[0;36msubscribe\u001B[0;34m(self, topics, timeout)\u001B[0m\n\u001B[1;32m     40\u001B[0m             \u001B[0;32mtry\u001B[0m\u001B[0;34m:\u001B[0m\u001B[0;34m\u001B[0m\u001B[0;34m\u001B[0m\u001B[0m\n\u001B[0;32m---> 41\u001B[0;31m                 \u001B[0mtopic_meta\u001B[0m \u001B[0;34m=\u001B[0m \u001B[0mself\u001B[0m\u001B[0;34m.\u001B[0m\u001B[0mdescribe_topic\u001B[0m\u001B[0;34m(\u001B[0m\u001B[0mtopic\u001B[0m\u001B[0;34m,\u001B[0m \u001B[0mtimeout\u001B[0m\u001B[0;34m)\u001B[0m\u001B[0;34m\u001B[0m\u001B[0;34m\u001B[0m\u001B[0m\n\u001B[0m\u001B[1;32m     42\u001B[0m             \u001B[0;32mexcept\u001B[0m \u001B[0mKeyError\u001B[0m\u001B[0;34m:\u001B[0m\u001B[0;34m\u001B[0m\u001B[0;34m\u001B[0m\u001B[0m\n",
      "\u001B[0;32m~/opt/anaconda3/lib/python3.9/site-packages/adc/consumer.py\u001B[0m in \u001B[0;36mdescribe_topic\u001B[0;34m(self, topic, timeout)\u001B[0m\n\u001B[1;32m     64\u001B[0m         \u001B[0mself\u001B[0m\u001B[0;34m.\u001B[0m\u001B[0mlogger\u001B[0m\u001B[0;34m.\u001B[0m\u001B[0mdebug\u001B[0m\u001B[0;34m(\u001B[0m\u001B[0;34mf\"cluster metadata: {cluster_meta.topics}\"\u001B[0m\u001B[0;34m)\u001B[0m\u001B[0;34m\u001B[0m\u001B[0;34m\u001B[0m\u001B[0m\n\u001B[0;32m---> 65\u001B[0;31m         \u001B[0;32mreturn\u001B[0m \u001B[0mcluster_meta\u001B[0m\u001B[0;34m.\u001B[0m\u001B[0mtopics\u001B[0m\u001B[0;34m[\u001B[0m\u001B[0mtopic\u001B[0m\u001B[0;34m]\u001B[0m\u001B[0;34m\u001B[0m\u001B[0;34m\u001B[0m\u001B[0m\n\u001B[0m\u001B[1;32m     66\u001B[0m \u001B[0;34m\u001B[0m\u001B[0m\n",
      "\u001B[0;31mKeyError\u001B[0m: 'snews.alert-test'",
      "\nDuring handling of the above exception, another exception occurred:\n",
      "\u001B[0;31mValueError\u001B[0m                                Traceback (most recent call last)",
      "\u001B[0;32m/var/folders/mr/0p5djr157hxdh7bb2gmzywyr0000gn/T/ipykernel_4462/1770358198.py\u001B[0m in \u001B[0;36m<module>\u001B[0;34m\u001B[0m\n\u001B[1;32m      1\u001B[0m \u001B[0;32mfrom\u001B[0m \u001B[0mSNEWS_PT\u001B[0m\u001B[0;34m.\u001B[0m\u001B[0msnews_sub\u001B[0m \u001B[0;32mimport\u001B[0m \u001B[0mSubscriber\u001B[0m\u001B[0;34m\u001B[0m\u001B[0;34m\u001B[0m\u001B[0m\n\u001B[1;32m      2\u001B[0m \u001B[0;34m\u001B[0m\u001B[0m\n\u001B[0;32m----> 3\u001B[0;31m \u001B[0mSubscriber\u001B[0m\u001B[0;34m(\u001B[0m\u001B[0;34m)\u001B[0m\u001B[0;34m.\u001B[0m\u001B[0msubscribe\u001B[0m\u001B[0;34m(\u001B[0m\u001B[0;34m)\u001B[0m\u001B[0;34m\u001B[0m\u001B[0;34m\u001B[0m\u001B[0m\n\u001B[0m",
      "\u001B[0;32m~/work/SNEWS_Publishing_Tools/SNEWS_PT/snews_sub.py\u001B[0m in \u001B[0;36msubscribe\u001B[0;34m(self)\u001B[0m\n\u001B[1;32m     91\u001B[0m         \u001B[0mstream\u001B[0m \u001B[0;34m=\u001B[0m \u001B[0mStream\u001B[0m\u001B[0;34m(\u001B[0m\u001B[0muntil_eos\u001B[0m\u001B[0;34m=\u001B[0m\u001B[0;32mFalse\u001B[0m\u001B[0;34m)\u001B[0m\u001B[0;34m\u001B[0m\u001B[0;34m\u001B[0m\u001B[0m\n\u001B[1;32m     92\u001B[0m         \u001B[0;32mtry\u001B[0m\u001B[0;34m:\u001B[0m\u001B[0;34m\u001B[0m\u001B[0;34m\u001B[0m\u001B[0m\n\u001B[0;32m---> 93\u001B[0;31m             \u001B[0;32mwith\u001B[0m \u001B[0mstream\u001B[0m\u001B[0;34m.\u001B[0m\u001B[0mopen\u001B[0m\u001B[0;34m(\u001B[0m\u001B[0mself\u001B[0m\u001B[0;34m.\u001B[0m\u001B[0malert_topic\u001B[0m\u001B[0;34m,\u001B[0m \u001B[0;34m\"r\"\u001B[0m\u001B[0;34m)\u001B[0m \u001B[0;32mas\u001B[0m \u001B[0ms\u001B[0m\u001B[0;34m:\u001B[0m\u001B[0;34m\u001B[0m\u001B[0;34m\u001B[0m\u001B[0m\n\u001B[0m\u001B[1;32m     94\u001B[0m                 \u001B[0;32mfor\u001B[0m \u001B[0mmessage\u001B[0m \u001B[0;32min\u001B[0m \u001B[0ms\u001B[0m\u001B[0;34m:\u001B[0m\u001B[0;34m\u001B[0m\u001B[0;34m\u001B[0m\u001B[0m\n\u001B[1;32m     95\u001B[0m                     \u001B[0msave_message\u001B[0m\u001B[0;34m(\u001B[0m\u001B[0mmessage\u001B[0m\u001B[0;34m)\u001B[0m\u001B[0;34m\u001B[0m\u001B[0;34m\u001B[0m\u001B[0m\n",
      "\u001B[0;32m~/opt/anaconda3/lib/python3.9/site-packages/hop/io.py\u001B[0m in \u001B[0;36mopen\u001B[0;34m(self, url, mode, group_id, **kwargs)\u001B[0m\n\u001B[1;32m    114\u001B[0m                 \u001B[0mgroup_id\u001B[0m \u001B[0;34m=\u001B[0m \u001B[0m_generate_group_id\u001B[0m\u001B[0;34m(\u001B[0m\u001B[0musername\u001B[0m\u001B[0;34m,\u001B[0m \u001B[0;36m10\u001B[0m\u001B[0;34m)\u001B[0m\u001B[0;34m\u001B[0m\u001B[0;34m\u001B[0m\u001B[0m\n\u001B[1;32m    115\u001B[0m                 \u001B[0mlogger\u001B[0m\u001B[0;34m.\u001B[0m\u001B[0minfo\u001B[0m\u001B[0;34m(\u001B[0m\u001B[0;34mf\"group ID not specified, generating a random group ID: {group_id}\"\u001B[0m\u001B[0;34m)\u001B[0m\u001B[0;34m\u001B[0m\u001B[0;34m\u001B[0m\u001B[0m\n\u001B[0;32m--> 116\u001B[0;31m             return Consumer(\n\u001B[0m\u001B[1;32m    117\u001B[0m                 \u001B[0mgroup_id\u001B[0m\u001B[0;34m,\u001B[0m\u001B[0;34m\u001B[0m\u001B[0;34m\u001B[0m\u001B[0m\n\u001B[1;32m    118\u001B[0m                 \u001B[0mbroker_addresses\u001B[0m\u001B[0;34m,\u001B[0m\u001B[0;34m\u001B[0m\u001B[0;34m\u001B[0m\u001B[0m\n",
      "\u001B[0;32m~/opt/anaconda3/lib/python3.9/site-packages/hop/io.py\u001B[0m in \u001B[0;36m__init__\u001B[0;34m(self, group_id, broker_addresses, topics, **kwargs)\u001B[0m\n\u001B[1;32m    291\u001B[0m         ))\n\u001B[1;32m    292\u001B[0m         \u001B[0mlogger\u001B[0m\u001B[0;34m.\u001B[0m\u001B[0minfo\u001B[0m\u001B[0;34m(\u001B[0m\u001B[0;34mf\"subscribing to topics: {topics}\"\u001B[0m\u001B[0;34m)\u001B[0m\u001B[0;34m\u001B[0m\u001B[0;34m\u001B[0m\u001B[0m\n\u001B[0;32m--> 293\u001B[0;31m         \u001B[0mself\u001B[0m\u001B[0;34m.\u001B[0m\u001B[0m_consumer\u001B[0m\u001B[0;34m.\u001B[0m\u001B[0msubscribe\u001B[0m\u001B[0;34m(\u001B[0m\u001B[0mtopics\u001B[0m\u001B[0;34m)\u001B[0m\u001B[0;34m\u001B[0m\u001B[0;34m\u001B[0m\u001B[0m\n\u001B[0m\u001B[1;32m    294\u001B[0m \u001B[0;34m\u001B[0m\u001B[0m\n\u001B[1;32m    295\u001B[0m     \u001B[0;32mdef\u001B[0m \u001B[0mread\u001B[0m\u001B[0;34m(\u001B[0m\u001B[0mself\u001B[0m\u001B[0;34m,\u001B[0m \u001B[0mmetadata\u001B[0m\u001B[0;34m=\u001B[0m\u001B[0;32mFalse\u001B[0m\u001B[0;34m,\u001B[0m \u001B[0mautocommit\u001B[0m\u001B[0;34m=\u001B[0m\u001B[0;32mTrue\u001B[0m\u001B[0;34m,\u001B[0m \u001B[0;34m**\u001B[0m\u001B[0mkwargs\u001B[0m\u001B[0;34m)\u001B[0m\u001B[0;34m:\u001B[0m\u001B[0;34m\u001B[0m\u001B[0;34m\u001B[0m\u001B[0m\n",
      "\u001B[0;32m~/opt/anaconda3/lib/python3.9/site-packages/adc/consumer.py\u001B[0m in \u001B[0;36msubscribe\u001B[0;34m(self, topics, timeout)\u001B[0m\n\u001B[1;32m     41\u001B[0m                 \u001B[0mtopic_meta\u001B[0m \u001B[0;34m=\u001B[0m \u001B[0mself\u001B[0m\u001B[0;34m.\u001B[0m\u001B[0mdescribe_topic\u001B[0m\u001B[0;34m(\u001B[0m\u001B[0mtopic\u001B[0m\u001B[0;34m,\u001B[0m \u001B[0mtimeout\u001B[0m\u001B[0;34m)\u001B[0m\u001B[0;34m\u001B[0m\u001B[0;34m\u001B[0m\u001B[0m\n\u001B[1;32m     42\u001B[0m             \u001B[0;32mexcept\u001B[0m \u001B[0mKeyError\u001B[0m\u001B[0;34m:\u001B[0m\u001B[0;34m\u001B[0m\u001B[0;34m\u001B[0m\u001B[0m\n\u001B[0;32m---> 43\u001B[0;31m                 \u001B[0;32mraise\u001B[0m \u001B[0mValueError\u001B[0m\u001B[0;34m(\u001B[0m\u001B[0;34mf\"topic {topic} does not exist on the broker, so can't subscribe\"\u001B[0m\u001B[0;34m)\u001B[0m\u001B[0;34m\u001B[0m\u001B[0;34m\u001B[0m\u001B[0m\n\u001B[0m\u001B[1;32m     44\u001B[0m \u001B[0;34m\u001B[0m\u001B[0m\n\u001B[1;32m     45\u001B[0m             \u001B[0;32mfor\u001B[0m \u001B[0mpartition_id\u001B[0m \u001B[0;32min\u001B[0m \u001B[0mtopic_meta\u001B[0m\u001B[0;34m.\u001B[0m\u001B[0mpartitions\u001B[0m\u001B[0;34m.\u001B[0m\u001B[0mkeys\u001B[0m\u001B[0;34m(\u001B[0m\u001B[0;34m)\u001B[0m\u001B[0;34m:\u001B[0m\u001B[0;34m\u001B[0m\u001B[0;34m\u001B[0m\u001B[0m\n",
      "\u001B[0;31mValueError\u001B[0m: topic snews.alert-test does not exist on the broker, so can't subscribe"
     ]
    }
   ]
  },
  {
   "cell_type": "code",
   "execution_count": null,
   "outputs": [],
   "source": [],
   "metadata": {
    "collapsed": false,
    "pycharm": {
     "name": "#%%\n"
    }
   }
  }
 ],
 "metadata": {
  "kernelspec": {
   "name": "python3",
   "language": "python",
   "display_name": "Python 3 (ipykernel)"
  },
  "language_info": {
   "codemirror_mode": {
    "name": "ipython",
    "version": 3
   },
   "file_extension": ".py",
   "mimetype": "text/x-python",
   "name": "python",
   "nbconvert_exporter": "python",
   "pygments_lexer": "ipython3",
   "version": "3.7.11"
  }
 },
 "nbformat": 4,
 "nbformat_minor": 5
}