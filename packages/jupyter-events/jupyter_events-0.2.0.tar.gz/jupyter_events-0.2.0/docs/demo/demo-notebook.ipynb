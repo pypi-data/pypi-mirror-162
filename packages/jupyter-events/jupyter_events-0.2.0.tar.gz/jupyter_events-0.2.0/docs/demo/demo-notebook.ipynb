{
 "cells": [
  {
   "cell_type": "code",
   "execution_count": null,
   "metadata": {},
   "outputs": [],
   "source": [
    "import piplite\n",
    "\n",
    "piplite.install(\"jupyter_events\")"
   ]
  },
  {
   "cell_type": "code",
   "execution_count": null,
   "metadata": {},
   "outputs": [],
   "source": [
    "from jupyter_events.logger import EventLogger\n"
   ]
  }
 ],
 "metadata": {
  "language_info": {
   "name": "python"
  },
  "orig_nbformat": 4
 },
 "nbformat": 4,
 "nbformat_minor": 2
}
