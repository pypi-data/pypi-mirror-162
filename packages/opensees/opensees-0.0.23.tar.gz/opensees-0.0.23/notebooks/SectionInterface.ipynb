{
 "cells": [
  {
   "cell_type": "markdown",
   "id": "5ded0e19-a53e-4891-87e3-bf2bdf35b935",
   "metadata": {},
   "source": [
    "# `Section` Object"
   ]
  },
  {
   "cell_type": "markdown",
   "id": "7807ce69-8c15-4466-a889-046313ea9a61",
   "metadata": {},
   "source": [
    "The `Section` object has the following *stateful* methods:\n",
    "\n",
    ">\n",
    ">- ```.py\n",
    ">  Section.setTrialSectionDeformation(e: float[2])\n",
    ">  ```\n",
    "> \n",
    ">- ```.py\n",
    ">  Section.getStressResultant(e: float[2] = None, commit = False) ->  float[2]:\n",
    ">  ```\n",
    ">\n",
    ">- ```.py\n",
    ">  Section.getSectionTangent() -> float[2,2]\n",
    ">  ```\n",
    ">  \n",
    ">- ```.py\n",
    ">  Section.getInitialTangent() -> float[2,2]\n",
    ">  ```\n",
    ">  \n",
    ">- ```.py\n",
    ">  Section.getSectionFlexibility() -> float[2,2]\n",
    ">  ```\n",
    "> \n",
    ">- ```.py\n",
    ">  Section.getInitialFlexibility() -> float[2,2]\n",
    ">  ```\n",
    ">"
   ]
  },
  {
   "cell_type": "code",
   "execution_count": 1,
   "id": "d7b4b82b-adcc-41f2-a3fa-2a55382d74de",
   "metadata": {},
   "outputs": [],
   "source": [
    "from math import cos,sin,sqrt,pi\n",
    "from numpy import linspace\n",
    "\n",
    "import opensees\n",
    "import opensees.tcl\n",
    "\n",
    "from opensees import section, layer, patch, uniaxial\n",
    "from opensees.render import mpl as render"
   ]
  },
  {
   "cell_type": "markdown",
   "id": "b56b3b1e-f470-400c-b3ca-6524d652dc98",
   "metadata": {},
   "source": [
    "## Section Geometry"
   ]
  },
  {
   "cell_type": "code",
   "execution_count": 2,
   "id": "8f503faa-d1f9-42be-9843-db8809ca52ee",
   "metadata": {},
   "outputs": [],
   "source": [
    "from opensees.units.english import *"
   ]
  },
  {
   "cell_type": "code",
   "execution_count": 3,
   "id": "288361ee-82d0-4812-8e8e-ce520bda1799",
   "metadata": {},
   "outputs": [],
   "source": [
    "HSec = 5.*ft            # Column Depth\n",
    "BSec = 3.*ft            # Column Width\n",
    "coverSec = 5.*inch      # Column cover to reinforcing steel NA.\n",
    "numBarsSec = 4          # number of longitudinal-reinforcement bars in steel layer. (symmetric top & bot)\n",
    "barAreaSec = 1*in2      # area of longitudinal-reinforcement bars\n",
    "SecTag = 1              # tag = for symmetric section\n",
    "\n",
    "# RC section: \n",
    "coverY = HSec/2.0        # Distance from section z-axis to edge of cover concrete -- outer edge of cover concrete\n",
    "coverZ = BSec/2.0        # Distance from section y-axis to edge of cover concrete -- outer edge of cover concrete\n",
    "coreY = coverY-coverSec  # Distance from section z-axis to edge of core concrete --  edge of the core concrete/inner edge of cover concrete\n",
    "coreZ = coverZ-coverSec  # Distance from section y-axis to edge of core concrete --  edge of the core concrete/inner edge of cover concrete\n",
    "nfY = 16                 # number of fibers for concrete in y-direction\n",
    "nfZ = 8                  # number of fibers for concrete in z-direction"
   ]
  },
  {
   "cell_type": "markdown",
   "id": "cde83050-a112-4061-98c9-a5f6a49edd66",
   "metadata": {},
   "source": [
    "### Concrete"
   ]
  },
  {
   "cell_type": "code",
   "execution_count": 4,
   "id": "72e0aae9-15ef-4caa-ae6a-930ec3c38cf5",
   "metadata": {},
   "outputs": [],
   "source": [
    "# nominal concrete compressive strength\n",
    "fc = -4.0*ksi              # Concrete Compressive Strength ksi\n",
    "Ec = 57*ksi*sqrt(-fc/psi)  # Concrete Elastic Modulus\n",
    "\n",
    "# unconfined concrete\n",
    "fc1U    =  fc              # unconfined concrete (todeschini parabolic model) maximum stress\n",
    "eps1U   = -0.003           # strain at maximum strength of unconfined concrete\n",
    "fc2U    =  0.2*fc1U        # ultimate stress\n",
    "eps2U   = -0.01            # strain at ultimate stress\n",
    "_lambda =  0.1             # ratio between unloading slope at eps2 and initial slope Ec\n",
    "\n",
    "# unconfined tensile properties\n",
    "ftU = -0.14*fc1U           # tensile strength +tension\n",
    "Ets =  ftU/0.002           # tension softening stiffness\n",
    "\n",
    "# build 'cover, concrete (unconfined)\n",
    "concU = uniaxial.Concrete02(None, fc1U, eps1U, fc2U, eps2U, _lambda, ftU, Ets)"
   ]
  },
  {
   "cell_type": "code",
   "execution_count": 5,
   "id": "03eab1f5-8639-48f9-a91b-a537ebca16ac",
   "metadata": {},
   "outputs": [],
   "source": [
    "gross =  [\n",
    "    patch.rect(concU, [nfZ, nfY], [[-coverZ, -coverY], [coverZ, coverY]])\n",
    "]"
   ]
  },
  {
   "cell_type": "markdown",
   "id": "e475b8c5-b979-4de8-a4b1-af7bb0ffd145",
   "metadata": {
    "tags": []
   },
   "source": [
    "### Reinforcement (`layer`, `fiber`)"
   ]
  },
  {
   "cell_type": "code",
   "execution_count": 6,
   "id": "61db5263-95f1-4ef5-ba06-b0aa5fd5548b",
   "metadata": {},
   "outputs": [],
   "source": [
    "Fy = 66.8*ksi      # yield stress\n",
    "Es = 29000.*ksi    # modulus of steel\n",
    "Bs = 0.005         # strain-hardening ratio \n",
    "R0 = 18            # control transition from elastic to plastic branches\n",
    "cR1 = 0.925        # control transition from elastic to plastic branches\n",
    "cR2 = 0.15         # control transition from elastic to plastic branches\n",
    "\n",
    "# Create material for reinforcement\n",
    "steel = uniaxial.Steel02(None, Fy, Es, Bs, R0, cR1, cR2)\n",
    "\n",
    "# Create geometry for reinforcement\n",
    "reinf = [\n",
    "    layer.line(steel, numBarsSec, barAreaSec, [[-coreZ, coreY],[ coreZ,  coreY]]),  # top layer reinforcement\n",
    "    layer.line(steel, numBarsSec, barAreaSec, [[-coreZ,-coreY],[ coreZ, -coreY]]),  # bottom layer reinfocement\n",
    "]"
   ]
  },
  {
   "cell_type": "code",
   "execution_count": 7,
   "id": "241ad453-66ff-42c6-bf05-e722143514ca",
   "metadata": {},
   "outputs": [],
   "source": [
    "sect = section.FiberSection(SecTag,  1e6, [*gross, *reinf])"
   ]
  },
  {
   "cell_type": "code",
   "execution_count": 8,
   "id": "dd42acdc-970f-41b4-b362-ad942130752c",
   "metadata": {},
   "outputs": [
    {
     "data": {
      "image/png": "[encoded data removed]",
      "text/plain": [
       "<Figure size 432x288 with 1 Axes>"
      ]
     },
     "metadata": {
      "needs_background": "light"
     },
     "output_type": "display_data"
    }
   ],
   "source": [
    "render.section(sect);"
   ]
  },
  {
   "cell_type": "markdown",
   "id": "032af1a5-bbd9-4d02-a7d5-eff35cac5d5f",
   "metadata": {},
   "source": [
    "## Analysis"
   ]
  },
  {
   "cell_type": "markdown",
   "id": "e30d9826-f309-4221-a168-6ef3193439f0",
   "metadata": {},
   "source": [
    "### Create a series of $\\varepsilon$, $\\kappa$ values"
   ]
  },
  {
   "cell_type": "code",
   "execution_count": null,
   "id": "17798b48-822c-40b7-95d5-e07ef3f92efe",
   "metadata": {},
   "outputs": [],
   "source": [
    "import numpy as np\n",
    "\n",
    "n = 50\n",
    "crush_strain = -0.003\n",
    "yield_strain =  0.002\n",
    "\n",
    "steel_strain = linspace(crush_strain, 10.0*yield_strain, n)\n",
    "curvature_A = (steel_strain - crush_strain)/(HSec - coverSec)\n",
    "axial_strain_A = crush_strain + HSec/2*curvature_A\n",
    "\n",
    "\n",
    "d = (HSec - 2*coverSec)\n",
    "tens, comp = linspace([crush_strain, 10.0*yield_strain],\n",
    "                      [yield_strain,      yield_strain], n).T\n",
    "\n",
    "curvature_B = (tens + comp)/d\n",
    "axial_strain_B = tens + d/2*curvature_B\n",
    "\n",
    "\n",
    "axial_strain = np.array([*axial_strain_A, *axial_strain_B])\n",
    "curvature = np.array([*curvature_A, *curvature_B])"
   ]
  },
  {
   "cell_type": "markdown",
   "id": "da7cb70a-5304-4564-938b-e843e6f9239a",
   "metadata": {},
   "source": [
    "### Get the section resultant for each of these values"
   ]
  },
  {
   "cell_type": "code",
   "execution_count": null,
   "id": "067e9060-c880-4427-9c17-3da788881f87",
   "metadata": {},
   "outputs": [],
   "source": [
    "with sect as S:\n",
    "    N, M = zip(*[\n",
    "        S.getStressResultant([e,k], False)\n",
    "                 for e,k in zip(axial_strain, curvature)\n",
    "    ])"
   ]
  },
  {
   "cell_type": "code",
   "execution_count": null,
   "id": "7b3096de-75c0-46a6-bf37-511bfbd7a442",
   "metadata": {},
   "outputs": [],
   "source": [
    "import matplotlib.pyplot as plt\n",
    "plt.style.use(\"typewriter\")\n",
    "plt.plot(M[:n], N[:n])\n",
    "plt.plot(M[n:], N[n:])\n",
    "plt.scatter(M[n],N[n]);"
   ]
  },
  {
   "cell_type": "code",
   "execution_count": null,
   "id": "d71d7b64-388c-4c44-bfe9-bd0e5d3c997d",
   "metadata": {},
   "outputs": [],
   "source": [
    "def solve_axial(sect, kap, axial: float, eps0, tol=1e-6, maxiter=25):\n",
    "    # Newton-Raphson iteration\n",
    "    eps = eps0\n",
    "    s = sect.getStressResultant([eps, kap], False)\n",
    "    for i in range(maxiter):\n",
    "        if abs(s[0] - axial) < tol:\n",
    "            return eps\n",
    "        s = sect.getStressResultant([eps, kap], False)\n",
    "        eps -= (s[0] - axial)/sect.getSectionTangent()[0,0]\n",
    "    return eps"
   ]
  },
  {
   "cell_type": "code",
   "execution_count": null,
   "id": "4f8a9385-6955-404c-a306-6989aae96d59",
   "metadata": {},
   "outputs": [],
   "source": [
    "fig, ax = plt.subplots(1,2)\n",
    "\n",
    "k0 = 0.0\n",
    "dkap = 5e-6\n",
    "for P in np.linspace(500, -8.5e6, 15):\n",
    "\n",
    "    with sect as s:\n",
    "        e = e0 = solve_axial(s,  k0,  P,  0.0)\n",
    "        \n",
    "        # begin with two points so we can test the increment\n",
    "        # in the while-loop\n",
    "        PM = [\n",
    "            s.getStressResultant([e0, k0], True),\n",
    "            s.getStressResultant([solve_axial(s, k0+dkap, P, e0), k0+dkap], True),\n",
    "        ]\n",
    "\n",
    "        kap = 2*dkap\n",
    "        while abs(PM[-1][1]) > 0.995*abs(PM[-2][1]):\n",
    "            e = solve_axial(s, kap, P, e)\n",
    "            PM.append(s.getStressResultant([e, kap], True))\n",
    "            kap += dkap\n",
    "\n",
    "\n",
    "    p, m = zip(*PM) # extract output into two variables\n",
    "\n",
    "    # Moment-Curvature plot\n",
    "    ax[0].plot(linspace(0.0, kap, len(m)), m)\n",
    "\n",
    "    # Locus plot\n",
    "    ax[1].plot(m, p)\n",
    "    ax[1].plot(M[:], N[:])"
   ]
  },
  {
   "cell_type": "code",
   "execution_count": null,
   "id": "fbc2d446-b9ee-405c-bf05-cddd65124c0f",
   "metadata": {},
   "outputs": [],
   "source": [
    "print(opensees.tcl.dumps(sect))"
   ]
  },
  {
   "cell_type": "code",
   "execution_count": null,
   "id": "3d9a45e1-643b-433c-b2a1-6d652ccde1b6",
   "metadata": {},
   "outputs": [],
   "source": []
  }
 ],
 "metadata": {
  "kernelspec": {
   "display_name": "Python (elle)",
   "language": "python",
   "name": "elle"
  },
  "language_info": {
   "codemirror_mode": {
    "name": "ipython",
    "version": 3
   },
   "file_extension": ".py",
   "mimetype": "text/x-python",
   "name": "python",
   "nbconvert_exporter": "python",
   "pygments_lexer": "ipython3",
   "version": "3.8.12"
  }
 },
 "nbformat": 4,
 "nbformat_minor": 5
}
