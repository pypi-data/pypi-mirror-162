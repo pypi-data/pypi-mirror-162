{
 "cells": [
  {
   "cell_type": "markdown",
   "id": "fa829eb0",
   "metadata": {},
   "source": [
    "# Running an analysis"
   ]
  },
  {
   "cell_type": "markdown",
   "id": "94d043bd",
   "metadata": {},
   "source": [
    "The `solver` module is used to interact with OpenSees.\n",
    "\n",
    "The most convenient approach is using a child of the `Analysis` class from those already defined in the `solver` module for the specific analysis that is needed. This will run the analysis and store the requested results of each analysis step.\n",
    "\n",
    "Alternatively, a generic `Analysis` object can be defined (from the parent class), and its generic methods for model definition can be used together with OpenSees commands issued directly in the analysis script. If such an analysis is repeated a lot, a new `Analysis` child class can be defined in the `solver` module."
   ]
  },
  {
   "cell_type": "markdown",
   "id": "a021a5a4",
   "metadata": {},
   "source": [
    "## Available analysis objects"
   ]
  },
  {
   "cell_type": "markdown",
   "id": "6319b182",
   "metadata": {},
   "source": [
    "First, we need to define a model."
   ]
  },
  {
   "cell_type": "code",
   "execution_count": null,
   "id": "94b67089",
   "metadata": {},
   "outputs": [],
   "source": [
    "# This cell defines the model from notebook 2_Define_a_Model\n",
    "# with distributed plasticity elements\n",
    "import sys\n",
    "sys.path.append('../src')\n",
    "import model\n",
    "import numpy as np\n",
    "\n",
    "b = model.Model()\n",
    "b.add_level('base', 0.00, 'fixed')\n",
    "for i in range(3):\n",
    "    b.add_level(str(i+1), 144.00*(i+1))\n",
    "b.set_active_material('steel-bilinear-fy50')\n",
    "b.add_sections_from_json(\n",
    "    \"../section_data/sections.json\",\n",
    "    'W',\n",
    "    [\"W24X94\"])\n",
    "b.set_active_section(\"W24X94\")\n",
    "b.set_active_levels(\"all_above_base\")\n",
    "b.assign_surface_load(1.00)\n",
    "b.active_placement = 'centroid'\n",
    "b.set_active_section(\"W24X94\")\n",
    "p1 = np.array((0.00, 0.00))\n",
    "p2 = np.array((360., 0.00))\n",
    "p3 = np.array((360., 360.))\n",
    "p4 = np.array((0.00, 360.00))\n",
    "for pt in [p1, p2, p3, p4]:\n",
    "    b.add_column_at_point(\n",
    "        pt,\n",
    "        n_sub=10,\n",
    "        model_as={'type': 'fiber',\n",
    "                 'n_x': 10,\n",
    "                 'n_y': 10,\n",
    "                 'n_p': 5})\n",
    "\n",
    "b.active_placement = 'top_center'\n",
    "for pair in ((p1, p2), (p2, p3), (p3, p4), (p4, p1)):\n",
    "    b.add_beam_at_points(\n",
    "        pair[0], pair[1],\n",
    "        n_sub=10,\n",
    "        model_as={'type': 'fiber',\n",
    "                 'n_x': 10,\n",
    "                 'n_y': 10,\n",
    "                 'n_p': 5})\n",
    "b.select_perimeter_beams_all()\n",
    "b.selection.add_UDL(np.array((0.00, 0.00, -20.00)))\n",
    "import preprocess\n",
    "preprocess.diaphragms(b)\n",
    "preprocess.tributary_area_analysis(b)\n",
    "preprocess.self_weight_and_mass(b)"
   ]
  },
  {
   "cell_type": "markdown",
   "id": "7e9f7ca0",
   "metadata": {},
   "source": [
    "### Linear static"
   ]
  },
  {
   "cell_type": "code",
   "execution_count": null,
   "id": "23f65f8c",
   "metadata": {},
   "outputs": [],
   "source": [
    "# Additional nodal loads can be applied if desired\n",
    "for node in b.list_of_parent_nodes():\n",
    "    node.load += np.array([0.00, 0.00, 0.00, 0.00, 0.00, 0.00])"
   ]
  },
  {
   "cell_type": "code",
   "execution_count": null,
   "id": "3e8d4c89",
   "metadata": {},
   "outputs": [],
   "source": [
    "import solver"
   ]
  },
  {
   "cell_type": "code",
   "execution_count": null,
   "id": "7d5c4854",
   "metadata": {},
   "outputs": [],
   "source": [
    "# instantiate analysis object\n",
    "linear_gravity_analysis = solver.LinearGravityAnalysis(b)"
   ]
  },
  {
   "cell_type": "code",
   "execution_count": null,
   "id": "e780b938",
   "metadata": {},
   "outputs": [],
   "source": [
    "linear_gravity_analysis.run()"
   ]
  },
  {
   "cell_type": "markdown",
   "id": "ed06881c",
   "metadata": {},
   "source": [
    "#### Retrieving results"
   ]
  },
  {
   "cell_type": "markdown",
   "id": "7f0ad575",
   "metadata": {},
   "source": [
    "Analysis results are stored in dictionaries. The keys correspond to the unique identifyer of the element that the results correspond to (but it needs to be converted to a string), and the value contains the results."
   ]
  },
  {
   "cell_type": "code",
   "execution_count": null,
   "id": "ce5bf0db",
   "metadata": {
    "scrolled": true
   },
   "outputs": [],
   "source": [
    "# Show all node displacement results\n",
    "# DANGER: Don't do this for a large model.\n",
    "# linear_gravity_analysis.node_displacements"
   ]
  },
  {
   "cell_type": "code",
   "execution_count": null,
   "id": "23513fd2",
   "metadata": {},
   "outputs": [],
   "source": [
    "# Displacement of the parent node of the top story,\n",
    "# in the Y direction.\n",
    "analysis_step = 0\n",
    "direction = 1\n",
    "node_id = b.list_of_parent_nodes()[-1].uid\n",
    "linear_gravity_analysis.node_displacements[\n",
    "    str(node_id)][analysis_step][direction]"
   ]
  },
  {
   "cell_type": "markdown",
   "id": "6d4e0ac2",
   "metadata": {},
   "source": [
    "Note: Multiple analysis objects can be defined using the same model. The results will be sotored independently in the various analysis objects. We can take advantage of this in the case of linear static analyses. For instance, we can define one analysis object for each load case and then superimpose the results as desired."
   ]
  },
  {
   "cell_type": "markdown",
   "id": "6b7c90a1",
   "metadata": {},
   "source": [
    "#### Visualizing results"
   ]
  },
  {
   "cell_type": "markdown",
   "id": "064fc989",
   "metadata": {},
   "source": [
    "The following visualization methods work for all analysis methods. However, some require specifying the analysis step to visualize. Linear static analysis only has a single step, so this is not required."
   ]
  },
  {
   "cell_type": "code",
   "execution_count": null,
   "id": "76074bba",
   "metadata": {},
   "outputs": [],
   "source": [
    "linear_gravity_analysis.deformed_shape(extrude_frames=False)\n",
    "linear_gravity_analysis.deformed_shape(extrude_frames=True)"
   ]
  },
  {
   "cell_type": "code",
   "execution_count": null,
   "id": "ad300aff",
   "metadata": {},
   "outputs": [],
   "source": [
    "linear_gravity_analysis.basic_forces()"
   ]
  },
  {
   "cell_type": "markdown",
   "id": "25ba2de1",
   "metadata": {},
   "source": [
    "Sadly, generating the plots is currently quite inefficient right now. There is potential for major performance enhancements in `postprocessing_3D.py`.\n",
    "\n",
    "More visualization methods can be written, following the implementation steps of the existing ones."
   ]
  },
  {
   "cell_type": "markdown",
   "id": "5895481e",
   "metadata": {},
   "source": [
    "### Modal"
   ]
  },
  {
   "cell_type": "code",
   "execution_count": null,
   "id": "a87ec8f2",
   "metadata": {},
   "outputs": [],
   "source": [
    "modal_analysis = solver.ModalAnalysis(b, num_modes=3)\n",
    "modal_analysis.run()"
   ]
  },
  {
   "cell_type": "code",
   "execution_count": null,
   "id": "ba52d630",
   "metadata": {},
   "outputs": [],
   "source": [
    "print(modal_analysis.periods)"
   ]
  },
  {
   "cell_type": "code",
   "execution_count": null,
   "id": "bf184298",
   "metadata": {},
   "outputs": [],
   "source": [
    "modal_analysis.deformed_shape(step=0, scaling=0.00, extrude_frames=True)"
   ]
  },
  {
   "cell_type": "markdown",
   "id": "9aa92e23",
   "metadata": {},
   "source": [
    "### Pushover"
   ]
  },
  {
   "cell_type": "code",
   "execution_count": null,
   "id": "4355ba0e",
   "metadata": {},
   "outputs": [],
   "source": [
    "pushover_analysis = solver.PushoverAnalysis(b)\n",
    "control_node = b.list_of_all_nodes()[-1]  # top floor\n",
    "analysis_metadata = pushover_analysis.run(\n",
    "    \"y\",\n",
    "    np.array([10.]),\n",
    "    control_node,\n",
    "    1./2.)\n",
    "n_plot_steps = analysis_metadata['successful steps']"
   ]
  },
  {
   "cell_type": "code",
   "execution_count": null,
   "id": "2a240455",
   "metadata": {},
   "outputs": [],
   "source": [
    "# plot the deformed shape for any of the steps\n",
    "plot_metadata = pushover_analysis.deformed_shape(\n",
    "    step=n_plot_steps-1, scaling=0.00, extrude_frames=True)\n",
    "print(plot_metadata)"
   ]
  },
  {
   "cell_type": "code",
   "execution_count": null,
   "id": "203a2e36",
   "metadata": {},
   "outputs": [],
   "source": [
    "# plot pushover curve\n",
    "pushover_analysis.plot_pushover_curve(\"y\", control_node)"
   ]
  },
  {
   "cell_type": "code",
   "execution_count": null,
   "id": "7b6ed40f",
   "metadata": {},
   "outputs": [],
   "source": [
    "pushover_analysis.basic_forces(step=n_plot_steps-1)"
   ]
  },
  {
   "cell_type": "markdown",
   "id": "a810a7db",
   "metadata": {},
   "source": [
    "### Time-history"
   ]
  },
  {
   "cell_type": "code",
   "execution_count": null,
   "id": "7cdca642",
   "metadata": {},
   "outputs": [],
   "source": [
    "nlth = solver.NLTHAnalysis(b)"
   ]
  },
  {
   "cell_type": "code",
   "execution_count": null,
   "id": "0f5ae90e",
   "metadata": {},
   "outputs": [],
   "source": [
    "nlth.plot_ground_motion('groundmotions/1xa.txt', 0.005, plotly=True)"
   ]
  },
  {
   "cell_type": "code",
   "execution_count": null,
   "id": "a0ab3c06",
   "metadata": {},
   "outputs": [],
   "source": [
    "nlth.run(0.01,\n",
    "         'groundmotions/1xa.txt',\n",
    "         'groundmotions/1xa.txt',\n",
    "         None, 0.005,\n",
    "        damping={'type': 'rayleigh', 'ratio': 0.05, 'periods': [1.00, 0.30]},\n",
    "        printing=False)"
   ]
  },
  {
   "cell_type": "code",
   "execution_count": null,
   "id": "968813a6",
   "metadata": {},
   "outputs": [],
   "source": [
    "node = b.list_of_parent_nodes()[-1]  # top floor\n",
    "nlth.plot_node_displacement_history(node, 0, plotly=True)\n",
    "nlth.plot_node_displacement_history(node, 1, plotly=True)"
   ]
  },
  {
   "cell_type": "code",
   "execution_count": null,
   "id": "1e2a53bc",
   "metadata": {},
   "outputs": [],
   "source": [
    "nlth.deformed_shape(435, scaling=0.00, extrude_frames=True)"
   ]
  }
 ],
 "metadata": {
  "kernelspec": {
   "display_name": "Python 3 (ipykernel)",
   "language": "python",
   "name": "python3"
  },
  "language_info": {
   "codemirror_mode": {
    "name": "ipython",
    "version": 3
   },
   "file_extension": ".py",
   "mimetype": "text/x-python",
   "name": "python",
   "nbconvert_exporter": "python",
   "pygments_lexer": "ipython3",
   "version": "3.9.7"
  }
 },
 "nbformat": 4,
 "nbformat_minor": 5
}
