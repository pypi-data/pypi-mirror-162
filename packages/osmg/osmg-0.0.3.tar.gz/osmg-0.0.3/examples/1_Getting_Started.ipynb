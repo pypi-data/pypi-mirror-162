{
 "cells": [
  {
   "cell_type": "markdown",
   "id": "ea1aac6c",
   "metadata": {},
   "source": [
    "# Welcome"
   ]
  },
  {
   "cell_type": "markdown",
   "id": "fdac4271",
   "metadata": {},
   "source": [
    "This document provides a general overview of `Opensees_Model_Generator`."
   ]
  },
  {
   "cell_type": "markdown",
   "id": "149adc69",
   "metadata": {},
   "source": [
    "Opensees_Model_Generator is a python module aimed to simplify the definition of 3D models in OpenSees by automating various \"offline calculations\", such as orienting line elements in 3D space subdividing line elements, distributing loads based on tributary area analysis, among others. The module aims to promote the use of OpenSees for research applications and form a community of researchers who benefit from its use and contribute to its development."
   ]
  },
  {
   "cell_type": "markdown",
   "id": "ca9a9c10",
   "metadata": {},
   "source": [
    "Users of the module are expected to understand the source code and be willing to make changes to it to meet their goals."
   ]
  },
  {
   "cell_type": "markdown",
   "id": "3f4c8e9d",
   "metadata": {},
   "source": [
    "## Workflow"
   ]
  },
  {
   "cell_type": "markdown",
   "id": "1a109653",
   "metadata": {},
   "source": [
    "The general workflow enabled by the module is the following:\n",
    "1. Instantiate a model object and define its components\n",
    "2. Perform preprocessing operations\n",
    "3. Define an analysis object\n",
    "4. Run the analysis\n",
    "5. Post-process the analysis results\n",
    "\n",
    "Interaction with OpenSees only happens at step #4. Essentially, `Opensees_Model_Generator` can be paralleled to the user interface of structural analysis software, providing the tools to define a structural model. Such software utilize a solver to run the analyses and visualize and document the results in their interface. In our case, our solver is OpenSees."
   ]
  },
  {
   "cell_type": "markdown",
   "id": "b2a4bddd",
   "metadata": {},
   "source": [
    "## Source code overview"
   ]
  },
  {
   "cell_type": "markdown",
   "id": "7ec60e8b",
   "metadata": {},
   "source": [
    "The source code is contained in the `/src` directory. The base modules are the following:"
   ]
  },
  {
   "cell_type": "markdown",
   "id": "b098d792",
   "metadata": {},
   "source": [
    "`/src/model.py` is the root file of this module. It contains the definition of the `Model` class, which is used to define models. It imports various other modules.\n",
    "\n",
    "`/src/solver.py` interacts with OpenSees. It defines the `Analysis` class, which contains various subclasses to analyze the model.\n",
    "\n",
    "The rest of the modules define objects and functions required by the former modules."
   ]
  },
  {
   "cell_type": "markdown",
   "id": "1c1bbaa4",
   "metadata": {},
   "source": [
    "## Install"
   ]
  },
  {
   "cell_type": "markdown",
   "id": "c73f2840",
   "metadata": {},
   "source": [
    "It is recommended to use a virtual environment to manage the dependencies of this module. I use Anaconda.\n",
    "\n",
    "Here is how to [install Aanaconda](https://docs.conda.io/projects/conda/en/latest/user-guide/install/index.html).\n",
    "\n",
    "This is how to set `OpenSees_Model_Generator` up and running, assuming that the created environment will be named `omg`. Any name can be used instead.\n",
    "```\n",
    "$ git clone https://github.com/ioannis-vm/OpenSees_Model_Generator\n",
    "$ cd OpenSees_Model_Generator\n",
    "$ conda create --name omg python=3.9\n",
    "$ conda activate omg\n",
    "$ python -m pip install -r requrements.txt\n",
    "$ conda install scikit-geometry -c conda-forge\n",
    "```"
   ]
  },
  {
   "cell_type": "markdown",
   "id": "73d4dc0d",
   "metadata": {},
   "source": [
    "## Use"
   ]
  },
  {
   "cell_type": "markdown",
   "id": "ad351cb9",
   "metadata": {},
   "source": [
    "It is recommended that the module is used as a relative import.\n",
    "A typical project directory tree could look like this:\n",
    "```\n",
    "project_name/\n",
    "├─ OpenSees_Model_Generator/\n",
    "│  ├─ src/\n",
    "│  ├─ ...\n",
    "├─ project_files/\n",
    "│  ├─ file1.py\n",
    "│  ├─ file2.py\n",
    "```\n",
    "The project files can then import objects like this:\n",
    "```\n",
    "import sys\n",
    "sys.path.append(\"../OpenSees_Model_Generator/src\")\n",
    "import model\n",
    "import solver\n",
    "import ...\n",
    "```"
   ]
  },
  {
   "cell_type": "markdown",
   "id": "dcf78ed1",
   "metadata": {},
   "source": [
    "### Units\n",
    "At the moment, the following units are used:\n",
    "\n",
    "| Quantity | Unit |\n",
    "| --- | --- |\n",
    "| Length | in |\n",
    "| Force  | lb |\n",
    "| Weight | lb/(in/s2) |\n",
    "\n",
    "There is currently no way to set different units."
   ]
  },
  {
   "cell_type": "markdown",
   "id": "a84a1181",
   "metadata": {},
   "source": [
    "### IDE or Jupyter Notebooks?\n",
    "I prefer using Emacs as my IDE and working directly with `.py` files. Jupyter notebooks can be used instead, as in these example files.\n",
    "\n",
    "The benefit of using an IDE and `.py` files is the added ability to set up an argument parser and coordinate analyses from the command line. `.py` files also work much better with version control. The benefit of jupyter notebooks is a somewhat more interactive experience, integrated plots, and markdown integration, but the lack of convenient version-control and Emacs key bindings is a deal-breaker for me.\n",
    "\n",
    "An excellent IDE that I used in the past is [Spyder](https://www.spyder-ide.org/)."
   ]
  },
  {
   "cell_type": "markdown",
   "id": "a9d04aa4",
   "metadata": {},
   "source": [
    "## Tips\n",
    "How to make sense of all this code?\n"
   ]
  },
  {
   "cell_type": "markdown",
   "id": "47be240e",
   "metadata": {},
   "source": [
    "Other than just reading the source files and the docstrings and trying to understand how they work, a more effective way is to run the examples using [the python debugger](https://docs.python.org/3/library/pdb.html). Just add\n",
    "```\n",
    "import pdb\n",
    "pdb.set_trace()\n",
    "```\n",
    "at any line where you would like to stop the execution, and then follow the execution step by step. This is another instance where an IDE can be more effective than jupyter notebooks. Taking notes in the process might also help."
   ]
  }
 ],
 "metadata": {
  "kernelspec": {
   "display_name": "Python 3 (ipykernel)",
   "language": "python",
   "name": "python3"
  },
  "language_info": {
   "codemirror_mode": {
    "name": "ipython",
    "version": 3
   },
   "file_extension": ".py",
   "mimetype": "text/x-python",
   "name": "python",
   "nbconvert_exporter": "python",
   "pygments_lexer": "ipython3",
   "version": "3.9.7"
  }
 },
 "nbformat": 4,
 "nbformat_minor": 5
}
