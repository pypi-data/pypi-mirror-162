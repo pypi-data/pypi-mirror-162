{
 "cells": [
  {
   "cell_type": "markdown",
   "id": "b3c91be6",
   "metadata": {},
   "source": [
    "# Defining a Model"
   ]
  },
  {
   "cell_type": "markdown",
   "id": "f74f5f40",
   "metadata": {},
   "source": [
    "This section demonstrates the definition of models."
   ]
  },
  {
   "cell_type": "markdown",
   "id": "63abea52",
   "metadata": {},
   "source": [
    "As noted in `1_Getting_Started`, the general workflow enabled by the module is the following:\n",
    "1. Instantiate a model object and define its components\n",
    "2. Perform preprocessing operations\n",
    "3. Define an analysis object\n",
    "4. Run the analysis\n",
    "5. Post-process the analysis results\n",
    "\n",
    "This jupyter notebook demonstrates steps #1 and #2."
   ]
  },
  {
   "cell_type": "markdown",
   "id": "a4332fa4",
   "metadata": {},
   "source": [
    "## Model Definition Overview"
   ]
  },
  {
   "cell_type": "markdown",
   "id": "d6f0ebe8",
   "metadata": {},
   "source": [
    "The overall procedure for defining the elements of a model can be broken down into the following steps:\n",
    "- [ ] Set active section, placement, angle\n",
    "- [ ] Set active levels and groups\n",
    "- [ ] Define line elements\n",
    "- [ ] Repeat until all line elements are defined\n",
    "- [ ] Apply pre-processing methods\n",
    "\n",
    "The model can be visualized at any step in the process to confirm its validity."
   ]
  },
  {
   "cell_type": "markdown",
   "id": "d127b3e7",
   "metadata": {},
   "source": [
    "**To see all the available arguments of each of the following methods, please look at their source code and read the docstrings**."
   ]
  },
  {
   "cell_type": "code",
   "execution_count": null,
   "id": "4d660d72",
   "metadata": {},
   "outputs": [],
   "source": [
    "# imports\n",
    "import sys\n",
    "sys.path.append('../src')\n",
    "import model\n",
    "\n",
    "import numpy as np"
   ]
  },
  {
   "cell_type": "code",
   "execution_count": null,
   "id": "5a858e73",
   "metadata": {},
   "outputs": [],
   "source": [
    "# Instantiate a model\n",
    "b = model.Model()"
   ]
  },
  {
   "cell_type": "code",
   "execution_count": null,
   "id": "a93feb8f",
   "metadata": {},
   "outputs": [],
   "source": [
    "# Define levels\n",
    "b.add_level('base', 0.00, 'fixed')\n",
    "for i in range(3):\n",
    "    b.add_level(str(i+1), 144.00*(i+1))"
   ]
  },
  {
   "cell_type": "code",
   "execution_count": null,
   "id": "d0d9001f",
   "metadata": {},
   "outputs": [],
   "source": [
    "# activate a material\n",
    "b.set_active_material('steel-bilinear-fy50')"
   ]
  },
  {
   "cell_type": "code",
   "execution_count": null,
   "id": "61f58dc6",
   "metadata": {},
   "outputs": [],
   "source": [
    "# define line element sections\n",
    "b.add_sections_from_json(\n",
    "    \"../section_data/sections.json\",\n",
    "    'W',\n",
    "    [\"W24X94\"])\n",
    "b.set_active_section(\"W24X94\")\n",
    "\n",
    "# note: the sections.json relative path\n",
    "# depends on where the python file is located."
   ]
  },
  {
   "cell_type": "code",
   "execution_count": null,
   "id": "1ffd6415",
   "metadata": {},
   "outputs": [],
   "source": [
    "# set active levels\n",
    "b.set_active_levels(\"all_above_base\")"
   ]
  },
  {
   "cell_type": "code",
   "execution_count": null,
   "id": "b652a41f",
   "metadata": {},
   "outputs": [],
   "source": [
    "# assign a surface load of 1 lb / ft2\n",
    "b.assign_surface_load(1.00)"
   ]
  },
  {
   "cell_type": "code",
   "execution_count": null,
   "id": "778a1176",
   "metadata": {},
   "outputs": [],
   "source": [
    "b.active_placement = 'centroid'"
   ]
  },
  {
   "cell_type": "code",
   "execution_count": null,
   "id": "892cc5c7",
   "metadata": {},
   "outputs": [],
   "source": [
    "p1 = np.array((0.00, 0.00))\n",
    "p2 = np.array((360., 0.00))\n",
    "p3 = np.array((360., 360.))\n",
    "p4 = np.array((0.00, 360.00))"
   ]
  },
  {
   "cell_type": "code",
   "execution_count": null,
   "id": "7973bc60",
   "metadata": {},
   "outputs": [],
   "source": [
    "for pt in [p1, p2, p3, p4]:\n",
    "    b.add_column_at_point(\n",
    "        pt,\n",
    "        n_sub=4,\n",
    "        geom_transf='Corotational')"
   ]
  },
  {
   "cell_type": "code",
   "execution_count": null,
   "id": "b10ae818",
   "metadata": {},
   "outputs": [],
   "source": [
    "b.active_placement = 'top_center'\n",
    "\n",
    "for pair in ((p1, p2), (p2, p3), (p3, p4), (p4, p1)):\n",
    "    b.add_beam_at_points(\n",
    "        pair[0], pair[1],\n",
    "        n_sub=4)\n"
   ]
  },
  {
   "cell_type": "code",
   "execution_count": null,
   "id": "55fe5fbf",
   "metadata": {},
   "outputs": [],
   "source": [
    "# assign a linearly distributed load of 20 lb/in to the perimeter beams\n",
    "b.select_perimeter_beams_all()\n",
    "b.selection.add_UDL(np.array((0.00, 0.00, -20.00)))\n"
   ]
  },
  {
   "cell_type": "code",
   "execution_count": null,
   "id": "b5e86674",
   "metadata": {},
   "outputs": [],
   "source": [
    "# visualize the model\n",
    "# showing the centroidal axes\n",
    "b.plot_building_geometry()"
   ]
  },
  {
   "cell_type": "code",
   "execution_count": null,
   "id": "9128d48b",
   "metadata": {},
   "outputs": [],
   "source": [
    "# extruded frame view\n",
    "b.plot_building_geometry(extrude_frames=True)"
   ]
  },
  {
   "cell_type": "markdown",
   "id": "107d71f9",
   "metadata": {},
   "source": [
    "## Preprocessing"
   ]
  },
  {
   "cell_type": "markdown",
   "id": "bb8aa9a6",
   "metadata": {},
   "source": [
    "Now that all the intended elements have been defined, we can apply pre-processing methods to the model.\n",
    "Two very common methods are the following:\n",
    "- `diaphragms` assigns rigid diaphragm constraints to all levels that contain beams\n",
    "- `tributary_area_analysis` distributes loads from the floors to the supporting elements\n",
    "- `self_weight_and_mass` assigns self-weight loads and lumped self-mass to all line elements"
   ]
  },
  {
   "cell_type": "code",
   "execution_count": null,
   "id": "e0d5533b",
   "metadata": {},
   "outputs": [],
   "source": [
    "import preprocess"
   ]
  },
  {
   "cell_type": "code",
   "execution_count": null,
   "id": "114a8702",
   "metadata": {},
   "outputs": [],
   "source": [
    "preprocess.diaphragms(b)\n",
    "preprocess.tributary_area_analysis(b)\n",
    "preprocess.self_weight_and_mass(b)"
   ]
  },
  {
   "cell_type": "code",
   "execution_count": null,
   "id": "beae0bfc",
   "metadata": {},
   "outputs": [],
   "source": [
    "b.plot_building_geometry()\n",
    "b.plot_building_geometry(extrude_frames=True)"
   ]
  },
  {
   "cell_type": "markdown",
   "id": "d86e8573",
   "metadata": {},
   "source": [
    "More preprocessing functions are available."
   ]
  },
  {
   "cell_type": "markdown",
   "id": "afc26b9d",
   "metadata": {},
   "source": [
    "#### Steel moment frame panel zones"
   ]
  },
  {
   "cell_type": "code",
   "execution_count": null,
   "id": "dd2a15e9",
   "metadata": {},
   "outputs": [],
   "source": [
    "import toy_structures"
   ]
  },
  {
   "cell_type": "markdown",
   "id": "f6f75442",
   "metadata": {},
   "source": [
    "Here is a steel moment frame before preprocessing:"
   ]
  },
  {
   "cell_type": "code",
   "execution_count": null,
   "id": "b436cca9",
   "metadata": {},
   "outputs": [],
   "source": [
    "cam1 = dict(\n",
    "    up=dict(x=0, y=0, z=1),\n",
    "    center=dict(x=0.0, y=0, z=-0.30),\n",
    "    eye=dict(x=0.00, y=0.1, z=-0.30),\n",
    "    projection={\n",
    "        \"type\": \"perspective\"\n",
    "    }\n",
    ")\n",
    "cam2 = dict(\n",
    "    up=dict(x=0, y=0, z=1),\n",
    "    center=dict(x=0.0, y=0, z=0.00),\n",
    "    eye=dict(x=0.00, y=4.0, z=0.00),\n",
    "    projection={\n",
    "        \"type\": \"perspective\"\n",
    "    }\n",
    ")\n",
    "\n",
    "toy_structures.smrf_3_4.plot_building_geometry(extrude_frames=False, global_axes=True, frame_axes=False, camera=cam1)\n",
    "toy_structures.smrf_3_4.plot_building_geometry(extrude_frames=True, global_axes=False, camera=cam2)"
   ]
  },
  {
   "cell_type": "code",
   "execution_count": null,
   "id": "e5ed055b",
   "metadata": {},
   "outputs": [],
   "source": [
    "preprocess.model_steel_frame_panel_zones(toy_structures.smrf_3_4)"
   ]
  },
  {
   "cell_type": "markdown",
   "id": "0292d2a8",
   "metadata": {},
   "source": [
    "After preprocessing:"
   ]
  },
  {
   "cell_type": "code",
   "execution_count": null,
   "id": "c6706333",
   "metadata": {},
   "outputs": [],
   "source": [
    "toy_structures.smrf_3_4.plot_building_geometry(extrude_frames=False, global_axes=True, frame_axes=False, camera=cam1)\n",
    "toy_structures.smrf_3_4.plot_building_geometry(extrude_frames=True, global_axes=False, camera=cam2)"
   ]
  }
 ],
 "metadata": {
  "kernelspec": {
   "display_name": "Python 3 (ipykernel)",
   "language": "python",
   "name": "python3"
  },
  "language_info": {
   "codemirror_mode": {
    "name": "ipython",
    "version": 3
   },
   "file_extension": ".py",
   "mimetype": "text/x-python",
   "name": "python",
   "nbconvert_exporter": "python",
   "pygments_lexer": "ipython3",
   "version": "3.9.7"
  },
  "name": "2_Define_a_Model.ipynb"
 },
 "nbformat": 4,
 "nbformat_minor": 5
}
